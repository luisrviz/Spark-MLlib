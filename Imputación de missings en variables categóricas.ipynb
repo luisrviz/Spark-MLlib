{
 "cells": [
  {
   "cell_type": "markdown",
   "metadata": {},
   "source": [
    "# IMPUTACIÓN DE MISSINGS EN VARIABLES CATEGÓRICAS"
   ]
  },
  {
   "cell_type": "markdown",
   "metadata": {},
   "source": [
    "Implementación de la técnica de imputación univariante mediante la moda para variables categóricas."
   ]
  },
  {
   "cell_type": "code",
   "execution_count": 1,
   "metadata": {},
   "outputs": [],
   "source": [
    "from pyspark.sql import SparkSession, Row\n",
    "import pyspark.sql.functions as p\n",
    "from functools import reduce\n",
    "from pyspark import keyword_only\n",
    "from pyspark.ml.param.shared import *\n",
    "from pyspark.ml.util import DefaultParamsReadable, DefaultParamsWritable\n",
    "from pyspark.ml.pipeline import Estimator, Model, Pipeline"
   ]
  },
  {
   "cell_type": "code",
   "execution_count": 2,
   "metadata": {},
   "outputs": [
    {
     "name": "stderr",
     "output_type": "stream",
     "text": [
      "22/06/23 00:22:16 WARN Utils: Your hostname, lu-Aspire-A515-55 resolves to a loopback address: 127.0.1.1, but we couldn't find any external IP address!\n",
      "22/06/23 00:22:16 WARN Utils: Set SPARK_LOCAL_IP if you need to bind to another address\n",
      "Using Spark's default log4j profile: org/apache/spark/log4j-defaults.properties\n",
      "Setting default log level to \"WARN\".\n",
      "To adjust logging level use sc.setLogLevel(newLevel). For SparkR, use setLogLevel(newLevel).\n",
      "22/06/23 00:22:16 WARN NativeCodeLoader: Unable to load native-hadoop library for your platform... using builtin-java classes where applicable\n",
      "22/06/23 00:22:17 WARN MacAddressUtil: Failed to find a usable hardware address from the network interfaces; using random bytes: ed:2e:48:c8:ae:53:5d:45\n",
      "22/06/23 00:22:17 WARN Utils: Service 'SparkUI' could not bind on port 4040. Attempting port 4041.\n",
      "22/06/23 00:22:17 WARN Utils: Service 'SparkUI' could not bind on port 4041. Attempting port 4042.\n",
      "22/06/23 00:22:17 WARN Utils: Service 'SparkUI' could not bind on port 4042. Attempting port 4043.\n",
      "22/06/23 00:22:17 WARN Utils: Service 'SparkUI' could not bind on port 4043. Attempting port 4044.\n"
     ]
    }
   ],
   "source": [
    "spark = SparkSession.builder.appName(\"Predict Fraud\").master(\"local\").getOrCreate()"
   ]
  },
  {
   "cell_type": "code",
   "execution_count": 3,
   "metadata": {},
   "outputs": [],
   "source": [
    "df = spark.read.csv('../../Datasets/Missings_variables_categóricas.csv',header=True)"
   ]
  },
  {
   "cell_type": "code",
   "execution_count": 4,
   "metadata": {},
   "outputs": [
    {
     "name": "stdout",
     "output_type": "stream",
     "text": [
      "+----------+----------+----------+\n",
      "|Variable_1|Variable_2|Variable_3|\n",
      "+----------+----------+----------+\n",
      "|      Gato|      null|     Perro|\n",
      "|     Perro|     Perro|     Perro|\n",
      "|     Perro|    Conejo|     Perro|\n",
      "|      Gato|    Conejo|     Perro|\n",
      "|    Conejo|     Perro|     Perro|\n",
      "+----------+----------+----------+\n",
      "\n"
     ]
    }
   ],
   "source": [
    "df.show()"
   ]
  },
  {
   "cell_type": "markdown",
   "metadata": {},
   "source": [
    "Vemos que tenemos un missing en una de nuestras columnas. A continuación vamos a implementar estimador y un transformer que encuentren e imputen los missings en variables categóricas usando la moda. Pero si una variable tiene más de un cierto porcentaje de sus valores como missings la eliminaremos. "
   ]
  },
  {
   "cell_type": "markdown",
   "metadata": {},
   "source": [
    "Vamos a realizar el procedimiento con la estructura típica de MLlib para luego poder aprovechar este código para meterlo en una Pipeline con todo el preprocesamiento para cuando realizemos un flujo de preprocesado completo."
   ]
  },
  {
   "cell_type": "code",
   "execution_count": 5,
   "metadata": {},
   "outputs": [],
   "source": [
    "# Clases que inicializan los distintos parámetros del algoritmo\n",
    "class HasColumnasMissingsImputar(Params):\n",
    "    def __init__(self):\n",
    "        super(HasColumnasMissingsImputar, self).__init__()\n",
    "        self.columnasMissingsImputar = Param(self, \"columnasMissingsImputar\", \"columnasMissingsImputar\", \n",
    "                                        typeConverter=TypeConverters.identity)\n",
    "        \n",
    "    def setColumnasMissingsImputar(self, value):\n",
    "        return self.set(self.columnasMissingsImputar, value)\n",
    "\n",
    "    def getColumnasMissingsImputar(self):\n",
    "        return self.getOrDefault(self.columnasMissingsImputar)\n",
    "\n",
    "class HasColumnasMissingsEliminar(Params):\n",
    "    def __init__(self):\n",
    "        super(HasColumnasMissingsEliminar, self).__init__()\n",
    "        self.columnasMissingsEliminar = Param(self, \"columnasMissingsEliminar\", \"columnasMissingsEliminar\", \n",
    "                                        typeConverter=TypeConverters.identity)\n",
    "        \n",
    "    def setColumnasMissingsEliminar(self, value):\n",
    "        return self.set(self.columnasMissingsEliminar, value)\n",
    "\n",
    "    def getColumnasMissingsEliminar(self):\n",
    "        return self.getOrDefault(self.columnasMissingsEliminar)\n",
    "    \n",
    "class HasListaModas(Params):\n",
    "    def __init__(self):\n",
    "        super(HasListaModas, self).__init__()\n",
    "        self.listaModas = Param(self, \"listaModas\", \"listaModas\", \n",
    "                                        typeConverter=TypeConverters.identity)\n",
    "        \n",
    "    def setListaModas(self, value):\n",
    "        return self.set(self.listaModas, value)\n",
    "\n",
    "    def getListaModas(self):\n",
    "        return self.getOrDefault(self.listaModas)\n",
    "    \n",
    "class HasPorcentajeMissings(Params):\n",
    "    def __init__(self):\n",
    "        super(HasPorcentajeMissings, self).__init__()\n",
    "        self.porcentajeMissings = Param(self, \"porcentajeMissings\", \"porcentajeMissings\", \n",
    "                                        typeConverter=TypeConverters.identity)\n",
    "        \n",
    "    def setPorcentajeMissings(self, value):\n",
    "        return self.set(self.porcentajeMissings, value)\n",
    "\n",
    "    def getPorcentajeMissings(self):\n",
    "        return self.getOrDefault(self.porcentajeMissings)\n",
    "    \n",
    "\n",
    "# Clase que define el estimador\n",
    "class ImputaciónMissingsEstimator(Estimator, HasPorcentajeMissings, DefaultParamsReadable, DefaultParamsWritable):\n",
    "    \n",
    "    @keyword_only\n",
    "    def __init__(self, porcentajeMissings = 0.05):\n",
    "        super(ImputaciónMissingsEstimator, self).__init__()\n",
    "        kwargs = self._input_kwargs\n",
    "        self.setParams(**kwargs)\n",
    "    \n",
    "    @keyword_only\n",
    "    def setParams(self, porcentajeMissings = 0.05):\n",
    "        kwargs = self._input_kwargs\n",
    "        return self._set(**kwargs)\n",
    "\n",
    "    def deteccion_missings(self, df):\n",
    "        porcentaje_missings = self.getPorcentajeMissings()\n",
    "        columnas_missings_imputar = []\n",
    "        columnas_missings_eliminar = []\n",
    "        df_size=df.count()\n",
    "        # Lo hacemos para todas las columnas del Dataframe porque \n",
    "        # spués trabajaremos también con variables numéricas\n",
    "        for c in df.columns:\n",
    "            missing_porcentaje = df.select([(p.count(p.when(p.isnan(c) | p.col(c).isNull(), c))/df_size)\n",
    "                                            .alias(c)]).collect()[0][0]\n",
    "            if missing_porcentaje > porcentaje_missings:\n",
    "                columnas_missings_eliminar.append(c)\n",
    "            elif missing_porcentaje != 0:\n",
    "                columnas_missings_imputar.append(c)\n",
    "        return columnas_missings_imputar, columnas_missings_eliminar\n",
    "    \n",
    "    def calcular_moda(self, df):\n",
    "        df_categoricas = df.select(*[elem[0] for elem in df.dtypes if elem[1].startswith('string')])\n",
    "        columnas_categoricas = df_categoricas.columns\n",
    "        lista_modas = []\n",
    "        for columna in columnas_categoricas:\n",
    "            contador = df_categoricas.groupby(columna).count().sort(p.col(\"count\").desc())\n",
    "            contador.na.drop()\n",
    "            moda = contador.first()[0]\n",
    "            lista_modas.append(moda)\n",
    "        return lista_modas\n",
    "    \n",
    "    def _fit(self, df):\n",
    "        columnas_missings_imputar, columnas_missings_eliminar = self.deteccion_missings(df)\n",
    "        lista_modas = self.calcular_moda(df)\n",
    "        \n",
    "        return ImputacionMissingsModel(columnasMissingsImputar=columnas_missings_imputar,\n",
    "                                        columnasMissingsEliminar=columnas_missings_eliminar,\n",
    "                                       listaModas=lista_modas)\n",
    "\n",
    "# Clase que define el transformer\n",
    "class ImputacionMissingsModel(Model, HasColumnasMissingsImputar, HasColumnasMissingsEliminar, HasListaModas,  \n",
    "                              DefaultParamsReadable, DefaultParamsWritable):\n",
    "    @keyword_only\n",
    "    def __init__(self, columnasMissingsImputar=[], columnasMissingsEliminar=[], \n",
    "              listaModas=\"\",):\n",
    "        super(ImputacionMissingsModel, self).__init__()\n",
    "        kwargs = self._input_kwargs\n",
    "        self.setParams(**kwargs)\n",
    "\n",
    "    @keyword_only\n",
    "    def setParams(self, columnasMissingsImputar=[], columnasMissingsEliminar=[], listaModas=\"\"):\n",
    "        kwargs = self._input_kwargs\n",
    "        return self._set(**kwargs)\n",
    "\n",
    "    def _transform(self, df):\n",
    "        columnas_missings_eliminar = self.getColumnasMissingsEliminar()\n",
    "        columnas_missings_imputar = self.getColumnasMissingsImputar()\n",
    "        lista_modas = self.getListaModas()\n",
    "        for i in columnas_missings_eliminar:\n",
    "            df = df.drop(i)\n",
    "        diccionario_imputacion = dict(zip(columnas_missings_imputar, lista_modas))\n",
    "        df = df.fillna(diccionario_imputacion)\n",
    "        return df"
   ]
  },
  {
   "cell_type": "code",
   "execution_count": 6,
   "metadata": {},
   "outputs": [
    {
     "name": "stdout",
     "output_type": "stream",
     "text": [
      "+----------+----------+----------+\n",
      "|Variable_1|Variable_2|Variable_3|\n",
      "+----------+----------+----------+\n",
      "|      Gato|     Perro|     Perro|\n",
      "|     Perro|     Perro|     Perro|\n",
      "|     Perro|    Conejo|     Perro|\n",
      "|      Gato|    Conejo|     Perro|\n",
      "|    Conejo|     Perro|     Perro|\n",
      "+----------+----------+----------+\n",
      "\n"
     ]
    }
   ],
   "source": [
    "# Ponemos un porcentaje alto para que se realice la imputación\n",
    "missing_imputacion = ImputaciónMissingsEstimator(porcentajeMissings=0.50)\n",
    "modelo = Pipeline(stages=[missing_imputacion]).fit(df)\n",
    "resultado = modelo.transform(df)\n",
    "resultado.show()"
   ]
  }
 ],
 "metadata": {
  "kernelspec": {
   "display_name": "Python 3 (ipykernel)",
   "language": "python",
   "name": "python3"
  },
  "language_info": {
   "codemirror_mode": {
    "name": "ipython",
    "version": 3
   },
   "file_extension": ".py",
   "mimetype": "text/x-python",
   "name": "python",
   "nbconvert_exporter": "python",
   "pygments_lexer": "ipython3",
   "version": "3.9.7"
  }
 },
 "nbformat": 4,
 "nbformat_minor": 4
}
