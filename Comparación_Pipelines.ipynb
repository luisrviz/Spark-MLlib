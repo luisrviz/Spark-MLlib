{
 "cells": [
  {
   "cell_type": "markdown",
   "id": "0a2bba41",
   "metadata": {},
   "source": [
    "# Estructura de una Pipeline de Machine Learning en Python y en Pyspark: el paradigma fit-transform"
   ]
  },
  {
   "cell_type": "markdown",
   "id": "a064e345",
   "metadata": {},
   "source": [
    "Vamos a ver un ejemplo de como se implementaría un método de detección de variables constantes siguiendo los modelos de las librerías Scikit-Learn y MLlib."
   ]
  },
  {
   "cell_type": "markdown",
   "id": "8d9f8511",
   "metadata": {},
   "source": [
    "Para ello trabajaremos con un sencillo Dataframe con tan solo cinco observaciones y tres variables."
   ]
  },
  {
   "cell_type": "code",
   "execution_count": 1,
   "id": "e154fc34",
   "metadata": {},
   "outputs": [],
   "source": [
    "from pyspark.sql import SparkSession\n",
    "from pyspark import keyword_only\n",
    "from pyspark.ml.param.shared import *\n",
    "from pyspark.ml.util import DefaultParamsReadable, DefaultParamsWritable\n",
    "from pyspark.ml.pipeline import Estimator, Model, Pipeline\n",
    "from sklearn.pipeline import Pipeline as pipeline_sklearn"
   ]
  },
  {
   "cell_type": "code",
   "execution_count": 2,
   "id": "f1de1625",
   "metadata": {},
   "outputs": [
    {
     "name": "stderr",
     "output_type": "stream",
     "text": [
      "22/06/23 00:13:56 WARN Utils: Your hostname, lu-Aspire-A515-55 resolves to a loopback address: 127.0.1.1; using 10.9.103.195 instead (on interface wlp0s20f3)\n",
      "22/06/23 00:13:56 WARN Utils: Set SPARK_LOCAL_IP if you need to bind to another address\n",
      "Using Spark's default log4j profile: org/apache/spark/log4j-defaults.properties\n",
      "Setting default log level to \"WARN\".\n",
      "To adjust logging level use sc.setLogLevel(newLevel). For SparkR, use setLogLevel(newLevel).\n",
      "22/06/23 00:13:56 WARN NativeCodeLoader: Unable to load native-hadoop library for your platform... using builtin-java classes where applicable\n",
      "22/06/23 00:13:57 WARN Utils: Service 'SparkUI' could not bind on port 4040. Attempting port 4041.\n",
      "22/06/23 00:13:57 WARN Utils: Service 'SparkUI' could not bind on port 4041. Attempting port 4042.\n",
      "22/06/23 00:13:57 WARN Utils: Service 'SparkUI' could not bind on port 4042. Attempting port 4043.\n"
     ]
    }
   ],
   "source": [
    "spark = SparkSession.builder.appName(\"Detección Constantes\").master(\"local\").getOrCreate()"
   ]
  },
  {
   "cell_type": "code",
   "execution_count": 3,
   "id": "0e944b25",
   "metadata": {},
   "outputs": [],
   "source": [
    "df = spark.read.csv('../../Datasets/Variables_constantes.csv',header=True, inferSchema=True)"
   ]
  },
  {
   "cell_type": "code",
   "execution_count": 4,
   "id": "872eecaa",
   "metadata": {},
   "outputs": [
    {
     "name": "stdout",
     "output_type": "stream",
     "text": [
      "+----------+----------+----------+\n",
      "|Variable_1|Variable_2|Variable_3|\n",
      "+----------+----------+----------+\n",
      "|      Gato|    Conejo|     Perro|\n",
      "|     Perro|     Perro|     Perro|\n",
      "|     Perro|    Conejo|     Perro|\n",
      "|      Gato|    Conejo|     Perro|\n",
      "|    Conejo|     Perro|     Perro|\n",
      "+----------+----------+----------+\n",
      "\n"
     ]
    }
   ],
   "source": [
    "df.show()"
   ]
  },
  {
   "cell_type": "markdown",
   "id": "c9760f9b",
   "metadata": {},
   "source": [
    "1) Scikit-Learn:"
   ]
  },
  {
   "cell_type": "markdown",
   "id": "82841991",
   "metadata": {},
   "source": [
    "La forma de proceder en Scikit-Learn es definiendo una clase que aplica el procedimiento de Machine Learning en cuestión y que cuenta con el método fit que ajusta el modelo y el método transform que lo aplica."
   ]
  },
  {
   "cell_type": "code",
   "execution_count": 5,
   "id": "a067ed39",
   "metadata": {},
   "outputs": [],
   "source": [
    "class DeteccionConstantes:\n",
    "    def __init__(self):\n",
    "        pass\n",
    "\n",
    "    def deteccion_constantes(self, df):\n",
    "        columns = df.columns\n",
    "        columnas_constantes =[]\n",
    "        for i in columns:\n",
    "            valores_distintos = df.dropna(subset=[i]).select(i).distinct().count()\n",
    "            if valores_distintos <=1:\n",
    "                columnas_constantes.append(i)\n",
    "        return columnas_constantes\n",
    "    \n",
    "    def fit(self, df):\n",
    "        self.columnas_constantes = self.deteccion_constantes(df)\n",
    "        return self\n",
    "\n",
    "    def transform(self, df):\n",
    "        if len(self.columnas_constantes)!=0:\n",
    "            nuevo_df = df.drop(*self.columnas_constantes)\n",
    "        return nuevo_df"
   ]
  },
  {
   "cell_type": "code",
   "execution_count": 6,
   "id": "c3492946",
   "metadata": {},
   "outputs": [
    {
     "name": "stdout",
     "output_type": "stream",
     "text": [
      "+----------+----------+\n",
      "|Variable_1|Variable_2|\n",
      "+----------+----------+\n",
      "|      Gato|    Conejo|\n",
      "|     Perro|     Perro|\n",
      "|     Perro|    Conejo|\n",
      "|      Gato|    Conejo|\n",
      "|    Conejo|     Perro|\n",
      "+----------+----------+\n",
      "\n"
     ]
    }
   ],
   "source": [
    "deteccion_constantes = DeteccionConstantes()\n",
    "modelo = deteccion_constantes.fit(df)\n",
    "resultado = modelo.transform(df)\n",
    "resultado.show()"
   ]
  },
  {
   "cell_type": "markdown",
   "id": "ef57f7de",
   "metadata": {},
   "source": [
    "2) MLlib:"
   ]
  },
  {
   "cell_type": "markdown",
   "id": "59a229de",
   "metadata": {},
   "source": [
    "La forma de proceder en MLlib es definiendo primero los parámetros en clases que los inicializan y después definiendo una clase para el estimador (método fit) y otra para el transformer (método transform)."
   ]
  },
  {
   "cell_type": "code",
   "execution_count": 7,
   "id": "903294f9",
   "metadata": {},
   "outputs": [],
   "source": [
    "# Clase que inicializa el único parámetro\n",
    "class HasColumnasConstantes(Params):\n",
    "    def __init__(self):\n",
    "        super(HasColumnasConstantes, self).__init__()\n",
    "        self.columnasConstantes = Param(self, \"columnasConstantes\", \"columnasConstantes\", \n",
    "                                        typeConverter=TypeConverters.identity)\n",
    "        \n",
    "    def setColumnasConstantes(self, value):\n",
    "        return self.set(self.columnasConstantes, value)\n",
    "\n",
    "    def getColumnasConstantes(self):\n",
    "        return self.getOrDefault(self.columnasConstantes)\n",
    "\n",
    "# Clase que define el estimador\n",
    "class DeteccionConstantesEstimator(Estimator, DefaultParamsReadable, DefaultParamsWritable):\n",
    "    @keyword_only\n",
    "    def __init__(self):\n",
    "        super(DeteccionConstantesEstimator, self).__init__()\n",
    "        kwargs = self._input_kwargs\n",
    "        self.setParams(**kwargs)\n",
    "    \n",
    "    @keyword_only\n",
    "    def setParams(self):\n",
    "        kwargs = self._input_kwargs\n",
    "        return self._set(**kwargs)\n",
    "\n",
    "    @staticmethod\n",
    "    def eliminacion_constantes(df):\n",
    "        columnas = df.columns\n",
    "        columnas_constantes = []\n",
    "        s = len(df.columns)\n",
    "        for i, columna in zip(range(s), columnas):\n",
    "            valores_distintos = df.dropna(subset=[columna]).select(columna).distinct().count()\n",
    "            if valores_distintos<=1:\n",
    "                columnas_constantes.append(columna)\n",
    "        return columnas_constantes\n",
    "    \n",
    "    def _fit(self, df):\n",
    "        columnas_constantes = self. eliminacion_constantes(df)\n",
    "        return DeteccionConstantesModel(columnasConstantes=columnas_constantes)\n",
    "\n",
    "# Clase que define el transformer\n",
    "class DeteccionConstantesModel(Model, HasColumnasConstantes,  DefaultParamsReadable, DefaultParamsWritable):\n",
    "    @keyword_only\n",
    "    def __init__(self, columnasConstantes=[]):\n",
    "        super(DeteccionConstantesModel, self).__init__()\n",
    "        kwargs = self._input_kwargs\n",
    "        self.setParams(**kwargs)\n",
    "\n",
    "    @keyword_only\n",
    "    def setParams(self, columnasConstantes=[]):\n",
    "        kwargs = self._input_kwargs\n",
    "        return self._set(**kwargs)\n",
    "\n",
    "    def _transform(self, df):\n",
    "        columnas_constantes = self.getColumnasConstantes()\n",
    "        try:\n",
    "            df_final = df.drop(*columnas_constantes)\n",
    "        except:\n",
    "            df_final = list([])\n",
    "        return df_final"
   ]
  },
  {
   "cell_type": "markdown",
   "id": "fc88e418",
   "metadata": {},
   "source": [
    "En este caso nuestro algoritmo de preprocesamiento no necesita de ningún parámetro de entrada para poder funcionar, pero si lo necesitara iría definido en la función \"init\" de la clase del Estimator y tendríamos por lo tanto que elegirlo al llamar a dicha clase."
   ]
  },
  {
   "cell_type": "code",
   "execution_count": 8,
   "id": "65dcf1b1",
   "metadata": {},
   "outputs": [
    {
     "name": "stdout",
     "output_type": "stream",
     "text": [
      "+----------+----------+\n",
      "|Variable_1|Variable_2|\n",
      "+----------+----------+\n",
      "|      Gato|    Conejo|\n",
      "|     Perro|     Perro|\n",
      "|     Perro|    Conejo|\n",
      "|      Gato|    Conejo|\n",
      "|    Conejo|     Perro|\n",
      "+----------+----------+\n",
      "\n"
     ]
    }
   ],
   "source": [
    "deteccion_constantes = DeteccionConstantesEstimator()\n",
    "#Vemos como las Pipelines funcionan igual que en Scikit-Learn, en este caso tendríamos una con un solo paso.\n",
    "modelo = Pipeline(stages=[deteccion_constantes]).fit(df)\n",
    "resultado = modelo.transform(df)\n",
    "resultado.show()"
   ]
  }
 ],
 "metadata": {
  "kernelspec": {
   "display_name": "Python 3 (ipykernel)",
   "language": "python",
   "name": "python3"
  },
  "language_info": {
   "codemirror_mode": {
    "name": "ipython",
    "version": 3
   },
   "file_extension": ".py",
   "mimetype": "text/x-python",
   "name": "python",
   "nbconvert_exporter": "python",
   "pygments_lexer": "ipython3",
   "version": "3.9.7"
  }
 },
 "nbformat": 4,
 "nbformat_minor": 5
}
