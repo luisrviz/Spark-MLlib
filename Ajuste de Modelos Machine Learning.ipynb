{
 "cells": [
  {
   "cell_type": "markdown",
   "id": "68e6c37c",
   "metadata": {},
   "source": [
    "# AJUSTE DE MODELOS"
   ]
  },
  {
   "cell_type": "markdown",
   "id": "7d9313f1",
   "metadata": {},
   "source": [
    "Una vez hemos explorado y preprocesado los datos estamos listos para ajustar los modelos. Debido a que no todos los modelos son adecuados para resolver los mismos problemas hemos seleccionado unos cuantos conjuntos de datos para resolver distintos problemas de Machine Learning que nos permitirán aplicar todos los algoritmos. Por supuesto, para cada caso concreto siempre habrá un algoritmo más adecuado, pero nuestro objetivo en este apartado es mostrar como se deben aplicar los algoritmos de Machine Learning usando MLlib y Pyspark."
   ]
  },
  {
   "cell_type": "code",
   "execution_count": 95,
   "id": "172b9a55",
   "metadata": {},
   "outputs": [],
   "source": [
    "from pyspark.sql import SparkSession\n",
    "from pyspark.ml.pipeline import Pipeline\n",
    "from pyspark.ml.classification import LogisticRegression, DecisionTreeClassifier, RandomForestClassifier, \\\n",
    "NaiveBayes, GBTClassifier, LinearSVC, MultilayerPerceptronClassifier\n",
    "from pyspark.ml.clustering import KMeans, BisectingKMeans, GaussianMixture, PowerIterationClustering, LDA\n",
    "from pyspark.ml.feature import StringIndexer, VectorAssembler\n",
    "from pyspark.ml.evaluation import BinaryClassificationEvaluator, MulticlassClassificationEvaluator\n",
    "from pyspark.mllib.evaluation import MulticlassMetrics\n",
    "from pyspark.ml.tuning import ParamGridBuilder, CrossValidator\n",
    "from ipynb.fs.full.Pipeline_Preprocesado import *"
   ]
  },
  {
   "cell_type": "code",
   "execution_count": 4,
   "id": "205d7fab",
   "metadata": {},
   "outputs": [],
   "source": [
    "spark = SparkSession.builder.appName(\"Ajuste de Modelos\").master(\"local[*]\").getOrCreate()"
   ]
  },
  {
   "cell_type": "markdown",
   "id": "48af4b54",
   "metadata": {},
   "source": [
    "# APRENDIZAJE SUPERVISADO"
   ]
  },
  {
   "cell_type": "markdown",
   "id": "68044455",
   "metadata": {},
   "source": [
    "Primero analizaremos los siguientes algoritmos de Aprendizaje Supervisado: Árboles de Decisión, Bagging, Boosting, SVM, Regresión Logística, Multilayer Perceptron y Naive Bayes con el Dataset de detección de fraude que hemos explorado con anterioridad."
   ]
  },
  {
   "cell_type": "code",
   "execution_count": 5,
   "id": "1c6f883a",
   "metadata": {},
   "outputs": [],
   "source": [
    "df = spark.read.csv('../../Datasets/Fraud_detection5.csv',header=True, inferSchema=True)"
   ]
  },
  {
   "cell_type": "markdown",
   "id": "c8bc67ef",
   "metadata": {},
   "source": [
    "Cambiamos el nombre de la variable target, en este caso la variable \"isFraud\", a \"target\" para que funcione bien la Pipeline de preprocesado"
   ]
  },
  {
   "cell_type": "code",
   "execution_count": 6,
   "id": "d2e9de86",
   "metadata": {},
   "outputs": [],
   "source": [
    "df = df.withColumn(\"target\", df[\"isFraud\"]).drop(\"isFraud\")"
   ]
  },
  {
   "cell_type": "markdown",
   "id": "d8def0c9",
   "metadata": {},
   "source": [
    "A continuación importaremos la pipeline de preprocesado que hemos definido con anterioridad para dejar los datos listos para poder analizarlos con los algoritmos de ML. Hay una consideración que es importante y es que no todos los algoritmos que vamos a ver necesitan tener los datos preprocesados de la misma forma. Por ejemplo, los árboles de decisión pueden trabajar perfectamente con variables categóricas sin necesidad de codificarlas, pero la regresión logística no. Como nuestro análisis intenta ser lo más extenso posible aplicaremos el mismo procesamiento a los datos para emplear cualquiera de los algoritmos. Adicionalmente, si quisieramos cambiar el método de imputación de los missings o el método de codificación de las variables categóricas tendriamos que ir al código que define la pipeline de preprocesao, aplicar los cambios y guardar la nueva pipeline."
   ]
  },
  {
   "cell_type": "code",
   "execution_count": 7,
   "id": "146ecfef",
   "metadata": {},
   "outputs": [],
   "source": [
    "pipeline_preprocesado = Pipeline.load(\"pipeline_preprocesado\")"
   ]
  },
  {
   "cell_type": "code",
   "execution_count": 8,
   "id": "4955f8db",
   "metadata": {},
   "outputs": [],
   "source": [
    "pipeline_model_preprocesado = pipeline_preprocesado.fit(df)"
   ]
  },
  {
   "cell_type": "code",
   "execution_count": 9,
   "id": "b4a97ac1",
   "metadata": {},
   "outputs": [],
   "source": [
    "df = pipeline_model_preprocesado.transform(df)"
   ]
  },
  {
   "cell_type": "markdown",
   "id": "e4c785fd",
   "metadata": {},
   "source": [
    "Ahora ya estamos listos para aplicar los algoritmos de Machine Learning."
   ]
  },
  {
   "cell_type": "markdown",
   "id": "ce96465f",
   "metadata": {},
   "source": [
    "Lo primero que debemos hacer para poder introducir los datos en los modelos de Machine Learning de MLlib es procesarlos con un transformer llamado VectorAssembler. En el introduciremos las variables, menos el target, del conjunto de datos que deseamos introducir en el algoritmo y obtendremos una única de salida que daremos a los algoritmos."
   ]
  },
  {
   "cell_type": "code",
   "execution_count": 10,
   "id": "74743117",
   "metadata": {},
   "outputs": [],
   "source": [
    "assembler = VectorAssembler(\n",
    "    inputCols=['step', 'amount', 'oldbalanceOrg', 'newbalanceOrg', 'oldbalanceDest', 'newbalanceDest', \n",
    "              'isFlaggedFraud', 'type-encoded', 'nameOrig-encoded', 'nameDest-encoded'],\n",
    "    outputCol=\"all_features\"\n",
    ")\n",
    "df = assembler.transform(df)"
   ]
  },
  {
   "cell_type": "markdown",
   "id": "f35489c8",
   "metadata": {},
   "source": [
    "Lo segundo es dividir nuestros datos en train y test."
   ]
  },
  {
   "cell_type": "code",
   "execution_count": 11,
   "id": "602bc918",
   "metadata": {},
   "outputs": [],
   "source": [
    "datos_entrenamiento, datos_test = df.randomSplit([0.8,0.2])"
   ]
  },
  {
   "cell_type": "markdown",
   "id": "7c447f6f",
   "metadata": {},
   "source": [
    "1) Regresión Logística"
   ]
  },
  {
   "cell_type": "code",
   "execution_count": 12,
   "id": "6d43cc7a",
   "metadata": {},
   "outputs": [
    {
     "name": "stderr",
     "output_type": "stream",
     "text": [
      "22/07/05 00:56:19 WARN DAGScheduler: Broadcasting large task binary with size 20.9 MiB\n",
      "22/07/05 00:56:22 WARN DAGScheduler: Broadcasting large task binary with size 20.9 MiB\n",
      "22/07/05 00:56:24 WARN InstanceBuilder$NativeBLAS: Failed to load implementation from:dev.ludovic.netlib.blas.JNIBLAS\n",
      "22/07/05 00:56:24 WARN InstanceBuilder$NativeBLAS: Failed to load implementation from:dev.ludovic.netlib.blas.ForeignLinkerBLAS\n",
      "22/07/05 00:56:24 WARN BLAS: Failed to load implementation from: com.github.fommil.netlib.NativeSystemBLAS\n",
      "22/07/05 00:56:24 WARN BLAS: Failed to load implementation from: com.github.fommil.netlib.NativeRefBLAS\n",
      "22/07/05 00:56:25 WARN DAGScheduler: Broadcasting large task binary with size 20.9 MiB\n",
      "22/07/05 00:56:26 WARN DAGScheduler: Broadcasting large task binary with size 20.9 MiB\n",
      "22/07/05 00:56:26 WARN DAGScheduler: Broadcasting large task binary with size 20.9 MiB\n",
      "22/07/05 00:56:27 WARN DAGScheduler: Broadcasting large task binary with size 20.9 MiB\n",
      "22/07/05 00:56:28 WARN DAGScheduler: Broadcasting large task binary with size 20.9 MiB\n",
      "22/07/05 00:56:29 WARN DAGScheduler: Broadcasting large task binary with size 20.9 MiB\n",
      "22/07/05 00:56:30 WARN DAGScheduler: Broadcasting large task binary with size 20.9 MiB\n",
      "22/07/05 00:56:31 WARN DAGScheduler: Broadcasting large task binary with size 20.9 MiB\n",
      "22/07/05 00:56:32 WARN DAGScheduler: Broadcasting large task binary with size 20.9 MiB\n",
      "22/07/05 00:56:34 WARN DAGScheduler: Broadcasting large task binary with size 20.9 MiB\n",
      "22/07/05 00:56:34 WARN DAGScheduler: Broadcasting large task binary with size 20.9 MiB\n",
      "22/07/05 00:56:36 WARN DAGScheduler: Broadcasting large task binary with size 20.9 MiB\n",
      "22/07/05 00:56:37 WARN DAGScheduler: Broadcasting large task binary with size 20.9 MiB\n",
      "22/07/05 00:56:38 WARN DAGScheduler: Broadcasting large task binary with size 20.9 MiB\n",
      "22/07/05 00:56:39 WARN DAGScheduler: Broadcasting large task binary with size 20.9 MiB\n",
      "22/07/05 00:56:40 WARN DAGScheduler: Broadcasting large task binary with size 20.9 MiB\n",
      "22/07/05 00:56:41 WARN DAGScheduler: Broadcasting large task binary with size 20.9 MiB\n",
      "22/07/05 00:56:42 WARN DAGScheduler: Broadcasting large task binary with size 20.9 MiB\n",
      "22/07/05 00:56:43 WARN DAGScheduler: Broadcasting large task binary with size 20.9 MiB\n",
      "22/07/05 00:56:44 WARN DAGScheduler: Broadcasting large task binary with size 20.9 MiB\n",
      "22/07/05 00:56:46 WARN DAGScheduler: Broadcasting large task binary with size 20.9 MiB\n",
      "22/07/05 00:56:46 WARN DAGScheduler: Broadcasting large task binary with size 20.9 MiB\n",
      "22/07/05 00:56:48 WARN DAGScheduler: Broadcasting large task binary with size 20.9 MiB\n",
      "22/07/05 00:56:49 WARN DAGScheduler: Broadcasting large task binary with size 20.9 MiB\n",
      "22/07/05 00:56:50 WARN DAGScheduler: Broadcasting large task binary with size 20.9 MiB\n",
      "22/07/05 00:56:51 WARN DAGScheduler: Broadcasting large task binary with size 20.9 MiB\n",
      "22/07/05 00:56:53 WARN DAGScheduler: Broadcasting large task binary with size 20.9 MiB\n",
      "22/07/05 00:56:53 WARN DAGScheduler: Broadcasting large task binary with size 20.9 MiB\n",
      "22/07/05 00:56:55 WARN DAGScheduler: Broadcasting large task binary with size 20.9 MiB\n",
      "22/07/05 00:56:56 WARN DAGScheduler: Broadcasting large task binary with size 20.9 MiB\n",
      "                                                                                \r"
     ]
    }
   ],
   "source": [
    "lr = LogisticRegression(featuresCol='all_features', labelCol='target',maxIter=60, elasticNetParam = 0.5)\n",
    "Model_lr = lr.fit(datos_entrenamiento)"
   ]
  },
  {
   "cell_type": "markdown",
   "id": "7f18a8e0",
   "metadata": {},
   "source": [
    "Ahora podemos realizar predicciones sobre el conjunto de test y sacar distintas métricas que midan su calidad."
   ]
  },
  {
   "cell_type": "code",
   "execution_count": 13,
   "id": "9caa67ee",
   "metadata": {},
   "outputs": [],
   "source": [
    "prediccion = Model_lr.transform(datos_test)"
   ]
  },
  {
   "cell_type": "markdown",
   "id": "39753c53",
   "metadata": {},
   "source": [
    "Ahora vamos a cambiar el tipo de la columna \"target\" para evitar errores a la hora de obtener las métricas del ajuste."
   ]
  },
  {
   "cell_type": "code",
   "execution_count": 14,
   "id": "3ab5f70c",
   "metadata": {},
   "outputs": [],
   "source": [
    "prediccion= prediccion.withColumn(\"target\", prediccion[\"target\"].cast(\"double\"))\n",
    "prediccion = prediccion.select(\"target\", \"prediction\")"
   ]
  },
  {
   "cell_type": "code",
   "execution_count": 15,
   "id": "5ec3bde2",
   "metadata": {},
   "outputs": [
    {
     "name": "stderr",
     "output_type": "stream",
     "text": [
      "/home/lu/anaconda3/lib/python3.9/site-packages/pyspark/sql/context.py:125: FutureWarning: Deprecated in 3.0.0. Use SparkSession.builder.getOrCreate() instead.\n",
      "  warnings.warn(\n",
      "22/07/05 00:56:59 WARN DAGScheduler: Broadcasting large task binary with size 22.0 MiB\n",
      "                                                                                \r"
     ]
    }
   ],
   "source": [
    "metrics = MulticlassMetrics(prediccion.rdd.map(tuple))"
   ]
  },
  {
   "cell_type": "code",
   "execution_count": 16,
   "id": "a626f450",
   "metadata": {},
   "outputs": [
    {
     "name": "stderr",
     "output_type": "stream",
     "text": [
      "22/07/05 00:57:02 WARN DAGScheduler: Broadcasting large task binary with size 22.0 MiB\n",
      "[Stage 185:>                                                        (0 + 1) / 1]\r"
     ]
    },
    {
     "name": "stdout",
     "output_type": "stream",
     "text": [
      "La métrica f_1 es: 0.012941176470588235\n"
     ]
    },
    {
     "name": "stderr",
     "output_type": "stream",
     "text": [
      "\r",
      "                                                                                \r"
     ]
    }
   ],
   "source": [
    "f_1 = metrics.fMeasure(1.0)\n",
    "print(f'La métrica f_1 es: {f_1}')"
   ]
  },
  {
   "cell_type": "code",
   "execution_count": 17,
   "id": "d8683bb5",
   "metadata": {},
   "outputs": [
    {
     "name": "stdout",
     "output_type": "stream",
     "text": [
      "La métrica Precisión es: 0.00684931506849315\n"
     ]
    }
   ],
   "source": [
    "precision = metrics.precision(1.0)\n",
    "print(f'La métrica Precisión es: {precision}')"
   ]
  },
  {
   "cell_type": "code",
   "execution_count": 18,
   "id": "655f8d3a",
   "metadata": {},
   "outputs": [
    {
     "name": "stdout",
     "output_type": "stream",
     "text": [
      "La métrica Recall es: 0.11702127659574468\n"
     ]
    }
   ],
   "source": [
    "recall = metrics.recall(1.0)\n",
    "print(f'La métrica Recall es: {recall}')"
   ]
  },
  {
   "cell_type": "markdown",
   "id": "e27dfbb6",
   "metadata": {},
   "source": [
    "2) Árbol de decisión"
   ]
  },
  {
   "cell_type": "code",
   "execution_count": 19,
   "id": "fa123874",
   "metadata": {},
   "outputs": [
    {
     "name": "stderr",
     "output_type": "stream",
     "text": [
      "22/07/05 00:57:05 WARN DAGScheduler: Broadcasting large task binary with size 20.9 MiB\n",
      "22/07/05 00:57:08 WARN DAGScheduler: Broadcasting large task binary with size 20.9 MiB\n",
      "22/07/05 00:57:10 WARN DAGScheduler: Broadcasting large task binary with size 20.9 MiB\n",
      "22/07/05 00:57:11 WARN DAGScheduler: Broadcasting large task binary with size 20.9 MiB\n",
      "22/07/05 00:57:13 WARN DAGScheduler: Broadcasting large task binary with size 2.6 MiB\n",
      "22/07/05 00:57:14 WARN DAGScheduler: Broadcasting large task binary with size 24.8 MiB\n",
      "22/07/05 00:57:15 WARN MemoryStore: Not enough space to cache rdd_487_0 in memory! (computed 229.9 MiB so far)\n",
      "22/07/05 00:57:15 WARN BlockManager: Persisting block rdd_487_0 to disk instead.\n",
      "22/07/05 00:58:58 WARN MemoryStore: Not enough space to cache rdd_487_0 in memory! (computed 229.9 MiB so far)\n",
      "22/07/05 01:00:17 WARN DAGScheduler: Broadcasting large task binary with size 24.8 MiB\n",
      "22/07/05 01:00:19 WARN MemoryStore: Not enough space to cache rdd_487_0 in memory! (computed 229.9 MiB so far)\n",
      "22/07/05 01:01:34 WARN DAGScheduler: Broadcasting large task binary with size 24.8 MiB\n",
      "22/07/05 01:01:35 WARN MemoryStore: Not enough space to cache rdd_487_0 in memory! (computed 229.9 MiB so far)\n",
      "22/07/05 01:02:39 WARN DAGScheduler: Broadcasting large task binary with size 24.8 MiB\n",
      "22/07/05 01:02:40 WARN MemoryStore: Not enough space to cache rdd_487_0 in memory! (computed 229.9 MiB so far)\n",
      "22/07/05 01:03:40 WARN DAGScheduler: Broadcasting large task binary with size 24.8 MiB\n",
      "22/07/05 01:03:41 WARN MemoryStore: Not enough space to cache rdd_487_0 in memory! (computed 229.9 MiB so far)\n",
      "22/07/05 01:04:47 WARN DAGScheduler: Broadcasting large task binary with size 24.8 MiB\n",
      "22/07/05 01:04:48 WARN MemoryStore: Not enough space to cache rdd_487_0 in memory! (computed 229.9 MiB so far)\n",
      "22/07/05 01:06:02 WARN DAGScheduler: Broadcasting large task binary with size 24.8 MiB\n",
      "22/07/05 01:06:03 WARN MemoryStore: Not enough space to cache rdd_487_0 in memory! (computed 229.9 MiB so far)\n",
      "                                                                                \r"
     ]
    }
   ],
   "source": [
    "dt = DecisionTreeClassifier(featuresCol = 'all_features', labelCol = 'target', maxDepth = 7,\n",
    "                                     impurity='gini')\n",
    "Model_dt = dt.fit(datos_entrenamiento)"
   ]
  },
  {
   "cell_type": "markdown",
   "id": "fc3c3b79",
   "metadata": {},
   "source": [
    "Ahora podemos realizar predicciones sobre el conjunto de test y sacar distintas métricas que midan su calidad."
   ]
  },
  {
   "cell_type": "code",
   "execution_count": 20,
   "id": "fbbd0db7",
   "metadata": {},
   "outputs": [],
   "source": [
    "prediccion = Model_dt.transform(datos_test)"
   ]
  },
  {
   "cell_type": "markdown",
   "id": "24e551ec",
   "metadata": {},
   "source": [
    "Ahora vamos a cambiar el tipo de la columna \"target\" para evitar errores a la hora de obtener las métricas del ajuste."
   ]
  },
  {
   "cell_type": "code",
   "execution_count": 21,
   "id": "8579e234",
   "metadata": {},
   "outputs": [],
   "source": [
    "prediccion= prediccion.withColumn(\"target\", prediccion[\"target\"].cast(\"double\"))\n",
    "prediccion = prediccion.select(\"target\", \"prediction\")"
   ]
  },
  {
   "cell_type": "code",
   "execution_count": 22,
   "id": "e1b7e8de",
   "metadata": {},
   "outputs": [
    {
     "name": "stderr",
     "output_type": "stream",
     "text": [
      "/home/lu/anaconda3/lib/python3.9/site-packages/pyspark/sql/context.py:125: FutureWarning: Deprecated in 3.0.0. Use SparkSession.builder.getOrCreate() instead.\n",
      "  warnings.warn(\n",
      "22/07/05 01:07:12 WARN DAGScheduler: Broadcasting large task binary with size 20.9 MiB\n",
      "                                                                                \r"
     ]
    }
   ],
   "source": [
    "metrics = MulticlassMetrics(prediccion.rdd.map(tuple))"
   ]
  },
  {
   "cell_type": "code",
   "execution_count": 23,
   "id": "d506735d",
   "metadata": {},
   "outputs": [
    {
     "name": "stderr",
     "output_type": "stream",
     "text": [
      "22/07/05 01:07:13 WARN DAGScheduler: Broadcasting large task binary with size 21.0 MiB\n",
      "[Stage 209:>                                                        (0 + 1) / 1]\r"
     ]
    },
    {
     "name": "stdout",
     "output_type": "stream",
     "text": [
      "La métrica f_1 es: 0.8825744608010955\n"
     ]
    },
    {
     "name": "stderr",
     "output_type": "stream",
     "text": [
      "\r",
      "                                                                                \r"
     ]
    }
   ],
   "source": [
    "f_1 = metrics.fMeasure(1.0)\n",
    "print(f'La métrica f_1 es: {f_1}')"
   ]
  },
  {
   "cell_type": "code",
   "execution_count": 24,
   "id": "48e3499b",
   "metadata": {},
   "outputs": [
    {
     "name": "stdout",
     "output_type": "stream",
     "text": [
      "La métrica Precisión es: 0.8026151930261519\n"
     ]
    }
   ],
   "source": [
    "precision = metrics.precision(1.0)\n",
    "print(f'La métrica Precisión es: {precision}')"
   ]
  },
  {
   "cell_type": "code",
   "execution_count": 25,
   "id": "295480f0",
   "metadata": {},
   "outputs": [
    {
     "name": "stdout",
     "output_type": "stream",
     "text": [
      "La métrica Recall es: 0.9802281368821293\n"
     ]
    }
   ],
   "source": [
    "recall = metrics.recall(1.0)\n",
    "print(f'La métrica Recall es: {recall}')"
   ]
  },
  {
   "cell_type": "markdown",
   "id": "742fabe3",
   "metadata": {},
   "source": [
    "3) Bagging"
   ]
  },
  {
   "cell_type": "code",
   "execution_count": 26,
   "id": "c079a7d5",
   "metadata": {},
   "outputs": [
    {
     "name": "stderr",
     "output_type": "stream",
     "text": [
      "22/07/05 01:07:16 WARN DAGScheduler: Broadcasting large task binary with size 20.9 MiB\n",
      "22/07/05 01:07:18 WARN DAGScheduler: Broadcasting large task binary with size 20.9 MiB\n",
      "22/07/05 01:07:20 WARN DAGScheduler: Broadcasting large task binary with size 20.9 MiB\n",
      "22/07/05 01:07:22 WARN DAGScheduler: Broadcasting large task binary with size 20.9 MiB\n",
      "22/07/05 01:07:24 WARN DAGScheduler: Broadcasting large task binary with size 2.6 MiB\n",
      "22/07/05 01:07:25 WARN DAGScheduler: Broadcasting large task binary with size 24.8 MiB\n",
      "22/07/05 01:07:27 WARN MemoryStore: Not enough space to cache rdd_556_0 in memory! (computed 229.9 MiB so far)\n",
      "22/07/05 01:07:27 WARN BlockManager: Persisting block rdd_556_0 to disk instead.\n",
      "22/07/05 01:09:15 WARN MemoryStore: Not enough space to cache rdd_556_0 in memory! (computed 229.9 MiB so far)\n",
      "                                                                                \r"
     ]
    }
   ],
   "source": [
    "dtrf = RandomForestClassifier(featuresCol = 'all_features', labelCol = 'target', numTrees = 4, maxDepth=7,\n",
    "                                     impurity='gini', bootstrap=True, subsamplingRate=0.8, weightCol=\"target\")\n",
    "Model_dtrf = dtrf.fit(datos_entrenamiento)"
   ]
  },
  {
   "cell_type": "markdown",
   "id": "97120213",
   "metadata": {},
   "source": [
    "Ahora podemos realizar predicciones sobre el conjunto de test y sacar distintas métricas que midan su calidad."
   ]
  },
  {
   "cell_type": "code",
   "execution_count": 27,
   "id": "aa89e601",
   "metadata": {},
   "outputs": [],
   "source": [
    "prediccion = Model_dtrf.transform(datos_test)"
   ]
  },
  {
   "cell_type": "markdown",
   "id": "48b04e5e",
   "metadata": {},
   "source": [
    "Ahora vamos a cambiar el tipo de la columna \"target\" para evitar errores a la hora de obtener las métricas del ajuste."
   ]
  },
  {
   "cell_type": "code",
   "execution_count": 28,
   "id": "43223fea",
   "metadata": {},
   "outputs": [],
   "source": [
    "prediccion= prediccion.withColumn(\"target\", prediccion[\"target\"].cast(\"double\"))\n",
    "prediccion = prediccion.select(\"target\", \"prediction\")"
   ]
  },
  {
   "cell_type": "code",
   "execution_count": 29,
   "id": "03ffbb7f",
   "metadata": {},
   "outputs": [
    {
     "name": "stderr",
     "output_type": "stream",
     "text": [
      "22/07/05 01:10:01 WARN DAGScheduler: Broadcasting large task binary with size 20.9 MiB\n",
      "                                                                                \r"
     ]
    }
   ],
   "source": [
    "metrics = MulticlassMetrics(prediccion.rdd.map(tuple))"
   ]
  },
  {
   "cell_type": "code",
   "execution_count": 30,
   "id": "8a542635",
   "metadata": {},
   "outputs": [
    {
     "name": "stderr",
     "output_type": "stream",
     "text": [
      "22/07/05 01:10:02 WARN DAGScheduler: Broadcasting large task binary with size 21.0 MiB\n",
      "[Stage 221:>                                                        (0 + 1) / 1]\r"
     ]
    },
    {
     "name": "stdout",
     "output_type": "stream",
     "text": [
      "La métrica f_1 es: 0.19684991113562542\n"
     ]
    },
    {
     "name": "stderr",
     "output_type": "stream",
     "text": [
      "\r",
      "                                                                                \r"
     ]
    }
   ],
   "source": [
    "f_1 = metrics.fMeasure(1.0)\n",
    "print(f'La métrica f_1 es: {f_1}')"
   ]
  },
  {
   "cell_type": "code",
   "execution_count": 31,
   "id": "f4900485",
   "metadata": {},
   "outputs": [
    {
     "name": "stdout",
     "output_type": "stream",
     "text": [
      "La métrica Precisión es: 1.0\n"
     ]
    }
   ],
   "source": [
    "precision = metrics.precision(1.0)\n",
    "print(f'La métrica Precisión es: {precision}')"
   ]
  },
  {
   "cell_type": "code",
   "execution_count": 32,
   "id": "fce42bc3",
   "metadata": {},
   "outputs": [
    {
     "name": "stdout",
     "output_type": "stream",
     "text": [
      "La métrica Recall es: 0.10917000883692475\n"
     ]
    }
   ],
   "source": [
    "recall = metrics.recall(1.0)\n",
    "print(f'La métrica Recall es: {recall}')"
   ]
  },
  {
   "cell_type": "markdown",
   "id": "48f9f163",
   "metadata": {},
   "source": [
    "4) Boosting"
   ]
  },
  {
   "cell_type": "code",
   "execution_count": 33,
   "id": "6f306acf",
   "metadata": {},
   "outputs": [
    {
     "name": "stderr",
     "output_type": "stream",
     "text": [
      "22/07/05 01:10:05 WARN DAGScheduler: Broadcasting large task binary with size 20.9 MiB\n",
      "22/07/05 01:10:07 WARN DAGScheduler: Broadcasting large task binary with size 20.9 MiB\n",
      "22/07/05 01:10:09 WARN DAGScheduler: Broadcasting large task binary with size 20.9 MiB\n",
      "22/07/05 01:10:10 WARN DAGScheduler: Broadcasting large task binary with size 2.6 MiB\n",
      "22/07/05 01:10:10 WARN DAGScheduler: Broadcasting large task binary with size 24.8 MiB\n",
      "22/07/05 01:10:12 WARN MemoryStore: Not enough space to cache rdd_614_0 in memory! (computed 229.9 MiB so far)\n",
      "22/07/05 01:10:12 WARN BlockManager: Persisting block rdd_614_0 to disk instead.\n",
      "22/07/05 01:11:56 WARN MemoryStore: Not enough space to cache rdd_614_0 in memory! (computed 229.9 MiB so far)\n",
      "22/07/05 01:11:56 WARN MemoryStore: Not enough space to cache rdd_614_0 in memory! (computed 97.1 MiB so far)\n",
      "22/07/05 01:14:06 WARN DAGScheduler: Broadcasting large task binary with size 24.8 MiB\n",
      "22/07/05 01:14:07 WARN MemoryStore: Not enough space to cache rdd_614_0 in memory! (computed 229.9 MiB so far)\n",
      "22/07/05 01:15:37 WARN DAGScheduler: Broadcasting large task binary with size 24.8 MiB\n",
      "22/07/05 01:15:39 WARN MemoryStore: Not enough space to cache rdd_614_0 in memory! (computed 229.9 MiB so far)\n",
      "22/07/05 01:16:47 WARN DAGScheduler: Broadcasting large task binary with size 24.8 MiB\n",
      "22/07/05 01:16:48 WARN MemoryStore: Not enough space to cache rdd_614_0 in memory! (computed 229.9 MiB so far)\n",
      "22/07/05 01:16:49 WARN MemoryStore: Not enough space to cache rdd_614_0 in memory! (computed 97.1 MiB so far)\n",
      "22/07/05 01:16:49 WARN MemoryStore: Not enough space to cache rdd_614_0 in memory! (computed 18.1 MiB so far)\n",
      "22/07/05 01:19:38 WARN DAGScheduler: Broadcasting large task binary with size 24.8 MiB\n",
      "22/07/05 01:19:40 WARN MemoryStore: Not enough space to cache rdd_614_0 in memory! (computed 229.9 MiB so far)\n",
      "22/07/05 01:21:18 WARN DAGScheduler: Broadcasting large task binary with size 24.8 MiB\n",
      "22/07/05 01:21:20 WARN MemoryStore: Not enough space to cache rdd_614_0 in memory! (computed 229.9 MiB so far)\n",
      "22/07/05 01:23:01 WARN DAGScheduler: Broadcasting large task binary with size 24.8 MiB\n",
      "22/07/05 01:23:02 WARN MemoryStore: Not enough space to cache rdd_614_0 in memory! (computed 229.9 MiB so far)\n",
      "22/07/05 01:23:03 WARN MemoryStore: Not enough space to cache rdd_614_0 in memory! (computed 97.1 MiB so far)\n",
      "22/07/05 01:23:03 WARN MemoryStore: Not enough space to cache rdd_614_0 in memory! (computed 18.1 MiB so far)\n",
      "22/07/05 01:26:16 WARN DAGScheduler: Broadcasting large task binary with size 24.8 MiB\n",
      "22/07/05 01:26:17 WARN MemoryStore: Not enough space to cache rdd_614_0 in memory! (computed 229.9 MiB so far)\n",
      "22/07/05 01:28:05 WARN DAGScheduler: Broadcasting large task binary with size 24.8 MiB\n",
      "22/07/05 01:28:05 WARN MemoryStore: Not enough space to cache rdd_614_0 in memory! (computed 229.9 MiB so far)\n",
      "                                                                                \r"
     ]
    }
   ],
   "source": [
    "dtgb = GBTClassifier(featuresCol = 'all_features', labelCol = 'target', maxDepth=3, stepSize=0.004, maxIter=3)\n",
    "Model_dtgb = dtgb.fit(datos_entrenamiento)"
   ]
  },
  {
   "cell_type": "markdown",
   "id": "6ed44397",
   "metadata": {},
   "source": [
    "Ahora podemos realizar predicciones sobre el conjunto de test y sacar distintas métricas que midan su calidad."
   ]
  },
  {
   "cell_type": "code",
   "execution_count": 34,
   "id": "7085b5e1",
   "metadata": {},
   "outputs": [],
   "source": [
    "prediccion = Model_dtgb.transform(datos_test)"
   ]
  },
  {
   "cell_type": "markdown",
   "id": "64dbd403",
   "metadata": {},
   "source": [
    "Ahora vamos a cambiar el tipo de la columna \"target\" para evitar errores a la hora de obtener las métricas del ajuste."
   ]
  },
  {
   "cell_type": "code",
   "execution_count": 35,
   "id": "9fd778a1",
   "metadata": {},
   "outputs": [],
   "source": [
    "prediccion= prediccion.withColumn(\"target\", prediccion[\"target\"].cast(\"double\"))\n",
    "prediccion = prediccion.select(\"target\", \"prediction\")"
   ]
  },
  {
   "cell_type": "code",
   "execution_count": 36,
   "id": "34a79f5e",
   "metadata": {},
   "outputs": [
    {
     "name": "stderr",
     "output_type": "stream",
     "text": [
      "22/07/05 01:29:49 WARN DAGScheduler: Broadcasting large task binary with size 21.0 MiB\n",
      "                                                                                \r"
     ]
    }
   ],
   "source": [
    "metrics = MulticlassMetrics(prediccion.rdd.map(tuple))"
   ]
  },
  {
   "cell_type": "code",
   "execution_count": 37,
   "id": "f5ab6e20",
   "metadata": {},
   "outputs": [
    {
     "name": "stderr",
     "output_type": "stream",
     "text": [
      "22/07/05 01:29:51 WARN DAGScheduler: Broadcasting large task binary with size 21.0 MiB\n",
      "[Stage 246:>                                                        (0 + 1) / 1]\r"
     ]
    },
    {
     "name": "stdout",
     "output_type": "stream",
     "text": [
      "La métrica f_1 es: 0.6627810158201498\n"
     ]
    },
    {
     "name": "stderr",
     "output_type": "stream",
     "text": [
      "\r",
      "                                                                                \r"
     ]
    }
   ],
   "source": [
    "f_1 = metrics.fMeasure(1.0)\n",
    "print(f'La métrica f_1 es: {f_1}')"
   ]
  },
  {
   "cell_type": "code",
   "execution_count": 38,
   "id": "1ba7f19f",
   "metadata": {},
   "outputs": [
    {
     "name": "stdout",
     "output_type": "stream",
     "text": [
      "La métrica Precisión es: 0.49564134495641343\n"
     ]
    }
   ],
   "source": [
    "precision = metrics.precision(1.0)\n",
    "print(f'La métrica Precisión es: {precision}')"
   ]
  },
  {
   "cell_type": "code",
   "execution_count": 39,
   "id": "9fca47bd",
   "metadata": {},
   "outputs": [
    {
     "name": "stdout",
     "output_type": "stream",
     "text": [
      "La métrica Recall es: 1.0\n"
     ]
    }
   ],
   "source": [
    "recall = metrics.recall(1.0)\n",
    "print(f'La métrica Recall es: {recall}')"
   ]
  },
  {
   "cell_type": "markdown",
   "id": "9c5a7291",
   "metadata": {},
   "source": [
    "5) Support Vector Machines"
   ]
  },
  {
   "cell_type": "code",
   "execution_count": 40,
   "id": "873c390e",
   "metadata": {},
   "outputs": [
    {
     "name": "stderr",
     "output_type": "stream",
     "text": [
      "22/07/05 01:29:54 WARN DAGScheduler: Broadcasting large task binary with size 20.9 MiB\n",
      "22/07/05 01:29:55 WARN DAGScheduler: Broadcasting large task binary with size 20.9 MiB\n",
      "22/07/05 01:29:57 WARN DAGScheduler: Broadcasting large task binary with size 20.9 MiB\n",
      "22/07/05 01:29:58 WARN DAGScheduler: Broadcasting large task binary with size 20.9 MiB\n",
      "22/07/05 01:29:59 WARN DAGScheduler: Broadcasting large task binary with size 20.9 MiB\n",
      "22/07/05 01:30:00 WARN DAGScheduler: Broadcasting large task binary with size 20.9 MiB\n",
      "22/07/05 01:30:01 WARN DAGScheduler: Broadcasting large task binary with size 20.9 MiB\n",
      "22/07/05 01:30:02 WARN DAGScheduler: Broadcasting large task binary with size 20.9 MiB\n",
      "22/07/05 01:30:03 WARN DAGScheduler: Broadcasting large task binary with size 20.9 MiB\n",
      "22/07/05 01:30:04 WARN DAGScheduler: Broadcasting large task binary with size 20.9 MiB\n",
      "22/07/05 01:30:05 WARN DAGScheduler: Broadcasting large task binary with size 20.9 MiB\n",
      "22/07/05 01:30:06 WARN DAGScheduler: Broadcasting large task binary with size 20.9 MiB\n",
      "22/07/05 01:30:07 WARN DAGScheduler: Broadcasting large task binary with size 20.9 MiB\n",
      "22/07/05 01:30:08 WARN DAGScheduler: Broadcasting large task binary with size 20.9 MiB\n",
      "22/07/05 01:30:09 WARN DAGScheduler: Broadcasting large task binary with size 20.9 MiB\n",
      "22/07/05 01:30:11 WARN DAGScheduler: Broadcasting large task binary with size 20.9 MiB\n",
      "22/07/05 01:30:12 WARN DAGScheduler: Broadcasting large task binary with size 20.9 MiB\n",
      "22/07/05 01:30:13 WARN DAGScheduler: Broadcasting large task binary with size 20.9 MiB\n",
      "22/07/05 01:30:14 WARN DAGScheduler: Broadcasting large task binary with size 20.9 MiB\n",
      "22/07/05 01:30:15 WARN DAGScheduler: Broadcasting large task binary with size 20.9 MiB\n",
      "22/07/05 01:30:16 WARN DAGScheduler: Broadcasting large task binary with size 20.9 MiB\n",
      "22/07/05 01:30:17 WARN DAGScheduler: Broadcasting large task binary with size 20.9 MiB\n",
      "22/07/05 01:30:18 WARN DAGScheduler: Broadcasting large task binary with size 20.9 MiB\n",
      "22/07/05 01:30:19 WARN DAGScheduler: Broadcasting large task binary with size 20.9 MiB\n",
      "22/07/05 01:30:21 WARN DAGScheduler: Broadcasting large task binary with size 20.9 MiB\n",
      "22/07/05 01:30:22 WARN DAGScheduler: Broadcasting large task binary with size 20.9 MiB\n",
      "22/07/05 01:30:22 WARN DAGScheduler: Broadcasting large task binary with size 20.9 MiB\n",
      "22/07/05 01:30:24 WARN DAGScheduler: Broadcasting large task binary with size 20.9 MiB\n",
      "22/07/05 01:30:25 WARN DAGScheduler: Broadcasting large task binary with size 20.9 MiB\n",
      "22/07/05 01:30:26 WARN DAGScheduler: Broadcasting large task binary with size 20.9 MiB\n",
      "22/07/05 01:30:27 WARN DAGScheduler: Broadcasting large task binary with size 20.9 MiB\n",
      "22/07/05 01:30:28 WARN DAGScheduler: Broadcasting large task binary with size 20.9 MiB\n",
      "22/07/05 01:30:30 WARN DAGScheduler: Broadcasting large task binary with size 20.9 MiB\n",
      "22/07/05 01:30:31 WARN DAGScheduler: Broadcasting large task binary with size 20.9 MiB\n",
      "22/07/05 01:30:32 WARN DAGScheduler: Broadcasting large task binary with size 20.9 MiB\n",
      "22/07/05 01:30:33 WARN DAGScheduler: Broadcasting large task binary with size 20.9 MiB\n",
      "22/07/05 01:30:34 WARN DAGScheduler: Broadcasting large task binary with size 20.9 MiB\n",
      "22/07/05 01:30:35 WARN DAGScheduler: Broadcasting large task binary with size 20.9 MiB\n",
      "22/07/05 01:30:36 WARN DAGScheduler: Broadcasting large task binary with size 20.9 MiB\n",
      "22/07/05 01:30:38 WARN DAGScheduler: Broadcasting large task binary with size 20.9 MiB\n",
      "22/07/05 01:30:38 WARN DAGScheduler: Broadcasting large task binary with size 20.9 MiB\n",
      "22/07/05 01:30:39 WARN DAGScheduler: Broadcasting large task binary with size 20.9 MiB\n",
      "22/07/05 01:30:40 WARN DAGScheduler: Broadcasting large task binary with size 20.9 MiB\n",
      "22/07/05 01:30:42 WARN DAGScheduler: Broadcasting large task binary with size 20.9 MiB\n",
      "22/07/05 01:30:43 WARN DAGScheduler: Broadcasting large task binary with size 20.9 MiB\n",
      "22/07/05 01:30:44 WARN DAGScheduler: Broadcasting large task binary with size 20.9 MiB\n",
      "22/07/05 01:30:45 WARN DAGScheduler: Broadcasting large task binary with size 20.9 MiB\n",
      "22/07/05 01:30:46 WARN DAGScheduler: Broadcasting large task binary with size 20.9 MiB\n",
      "22/07/05 01:30:47 WARN DAGScheduler: Broadcasting large task binary with size 20.9 MiB\n",
      "22/07/05 01:30:49 WARN DAGScheduler: Broadcasting large task binary with size 20.9 MiB\n",
      "22/07/05 01:30:50 WARN DAGScheduler: Broadcasting large task binary with size 20.9 MiB\n",
      "22/07/05 01:30:51 WARN DAGScheduler: Broadcasting large task binary with size 20.9 MiB\n",
      "22/07/05 01:30:53 WARN DAGScheduler: Broadcasting large task binary with size 20.9 MiB\n",
      "22/07/05 01:30:53 WARN DAGScheduler: Broadcasting large task binary with size 20.9 MiB\n",
      "22/07/05 01:30:54 WARN DAGScheduler: Broadcasting large task binary with size 20.9 MiB\n",
      "22/07/05 01:30:55 WARN DAGScheduler: Broadcasting large task binary with size 20.9 MiB\n",
      "22/07/05 01:30:57 WARN DAGScheduler: Broadcasting large task binary with size 20.9 MiB\n",
      "22/07/05 01:30:58 WARN DAGScheduler: Broadcasting large task binary with size 20.9 MiB\n",
      "22/07/05 01:30:59 WARN DAGScheduler: Broadcasting large task binary with size 20.9 MiB\n",
      "22/07/05 01:31:00 WARN DAGScheduler: Broadcasting large task binary with size 20.9 MiB\n",
      "22/07/05 01:31:01 WARN DAGScheduler: Broadcasting large task binary with size 20.9 MiB\n",
      "22/07/05 01:31:02 WARN DAGScheduler: Broadcasting large task binary with size 20.9 MiB\n",
      "22/07/05 01:31:03 WARN DAGScheduler: Broadcasting large task binary with size 20.9 MiB\n",
      "22/07/05 01:31:04 WARN DAGScheduler: Broadcasting large task binary with size 20.9 MiB\n",
      "22/07/05 01:31:05 WARN DAGScheduler: Broadcasting large task binary with size 20.9 MiB\n",
      "22/07/05 01:31:06 WARN DAGScheduler: Broadcasting large task binary with size 20.9 MiB\n",
      "22/07/05 01:31:07 WARN DAGScheduler: Broadcasting large task binary with size 20.9 MiB\n",
      "22/07/05 01:31:08 WARN DAGScheduler: Broadcasting large task binary with size 20.9 MiB\n",
      "22/07/05 01:31:09 WARN DAGScheduler: Broadcasting large task binary with size 20.9 MiB\n",
      "22/07/05 01:31:11 WARN DAGScheduler: Broadcasting large task binary with size 20.9 MiB\n",
      "22/07/05 01:31:11 WARN DAGScheduler: Broadcasting large task binary with size 20.9 MiB\n",
      "22/07/05 01:31:13 WARN DAGScheduler: Broadcasting large task binary with size 20.9 MiB\n",
      "22/07/05 01:31:14 WARN DAGScheduler: Broadcasting large task binary with size 20.9 MiB\n",
      "22/07/05 01:31:15 WARN DAGScheduler: Broadcasting large task binary with size 20.9 MiB\n",
      "22/07/05 01:31:16 WARN DAGScheduler: Broadcasting large task binary with size 20.9 MiB\n",
      "22/07/05 01:31:17 WARN DAGScheduler: Broadcasting large task binary with size 20.9 MiB\n",
      "22/07/05 01:31:18 WARN DAGScheduler: Broadcasting large task binary with size 20.9 MiB\n",
      "22/07/05 01:31:19 WARN DAGScheduler: Broadcasting large task binary with size 20.9 MiB\n",
      "22/07/05 01:31:19 WARN DAGScheduler: Broadcasting large task binary with size 20.9 MiB\n",
      "22/07/05 01:31:21 WARN DAGScheduler: Broadcasting large task binary with size 20.9 MiB\n",
      "22/07/05 01:31:22 WARN DAGScheduler: Broadcasting large task binary with size 20.9 MiB\n",
      "22/07/05 01:31:24 WARN DAGScheduler: Broadcasting large task binary with size 20.9 MiB\n",
      "22/07/05 01:31:24 WARN DAGScheduler: Broadcasting large task binary with size 20.9 MiB\n",
      "22/07/05 01:31:25 WARN DAGScheduler: Broadcasting large task binary with size 20.9 MiB\n",
      "22/07/05 01:31:26 WARN DAGScheduler: Broadcasting large task binary with size 20.9 MiB\n",
      "22/07/05 01:31:28 WARN DAGScheduler: Broadcasting large task binary with size 20.9 MiB\n",
      "22/07/05 01:31:28 WARN DAGScheduler: Broadcasting large task binary with size 20.9 MiB\n",
      "22/07/05 01:31:30 WARN DAGScheduler: Broadcasting large task binary with size 20.9 MiB\n",
      "22/07/05 01:31:32 WARN DAGScheduler: Broadcasting large task binary with size 20.9 MiB\n",
      "22/07/05 01:31:33 WARN DAGScheduler: Broadcasting large task binary with size 20.9 MiB\n",
      "22/07/05 01:31:34 WARN DAGScheduler: Broadcasting large task binary with size 20.9 MiB\n",
      "22/07/05 01:31:35 WARN DAGScheduler: Broadcasting large task binary with size 20.9 MiB\n",
      "22/07/05 01:31:36 WARN DAGScheduler: Broadcasting large task binary with size 20.9 MiB\n",
      "22/07/05 01:31:37 WARN DAGScheduler: Broadcasting large task binary with size 20.9 MiB\n",
      "22/07/05 01:31:38 WARN DAGScheduler: Broadcasting large task binary with size 20.9 MiB\n",
      "22/07/05 01:31:39 WARN DAGScheduler: Broadcasting large task binary with size 20.9 MiB\n",
      "22/07/05 01:31:40 WARN DAGScheduler: Broadcasting large task binary with size 20.9 MiB\n",
      "22/07/05 01:31:42 WARN DAGScheduler: Broadcasting large task binary with size 20.9 MiB\n",
      "22/07/05 01:31:42 WARN DAGScheduler: Broadcasting large task binary with size 20.9 MiB\n",
      "22/07/05 01:31:44 WARN DAGScheduler: Broadcasting large task binary with size 20.9 MiB\n",
      "22/07/05 01:31:45 WARN DAGScheduler: Broadcasting large task binary with size 20.9 MiB\n",
      "22/07/05 01:31:46 WARN DAGScheduler: Broadcasting large task binary with size 20.9 MiB\n",
      "22/07/05 01:31:47 WARN DAGScheduler: Broadcasting large task binary with size 20.9 MiB\n",
      "22/07/05 01:31:48 WARN DAGScheduler: Broadcasting large task binary with size 20.9 MiB\n",
      "22/07/05 01:31:49 WARN DAGScheduler: Broadcasting large task binary with size 20.9 MiB\n",
      "22/07/05 01:31:50 WARN DAGScheduler: Broadcasting large task binary with size 20.9 MiB\n",
      "22/07/05 01:31:51 WARN DAGScheduler: Broadcasting large task binary with size 20.9 MiB\n",
      "22/07/05 01:31:52 WARN DAGScheduler: Broadcasting large task binary with size 20.9 MiB\n",
      "22/07/05 01:31:53 WARN DAGScheduler: Broadcasting large task binary with size 20.9 MiB\n",
      "22/07/05 01:31:54 WARN DAGScheduler: Broadcasting large task binary with size 20.9 MiB\n",
      "22/07/05 01:31:56 WARN DAGScheduler: Broadcasting large task binary with size 20.9 MiB\n",
      "22/07/05 01:31:56 WARN DAGScheduler: Broadcasting large task binary with size 20.9 MiB\n",
      "22/07/05 01:31:58 WARN DAGScheduler: Broadcasting large task binary with size 20.9 MiB\n",
      "22/07/05 01:31:59 WARN DAGScheduler: Broadcasting large task binary with size 20.9 MiB\n",
      "22/07/05 01:32:00 WARN DAGScheduler: Broadcasting large task binary with size 20.9 MiB\n",
      "22/07/05 01:32:01 WARN DAGScheduler: Broadcasting large task binary with size 20.9 MiB\n",
      "22/07/05 01:32:02 WARN DAGScheduler: Broadcasting large task binary with size 20.9 MiB\n",
      "22/07/05 01:32:03 WARN DAGScheduler: Broadcasting large task binary with size 20.9 MiB\n",
      "22/07/05 01:32:04 WARN DAGScheduler: Broadcasting large task binary with size 20.9 MiB\n",
      "22/07/05 01:32:05 WARN DAGScheduler: Broadcasting large task binary with size 20.9 MiB\n",
      "22/07/05 01:32:06 WARN DAGScheduler: Broadcasting large task binary with size 20.9 MiB\n",
      "22/07/05 01:32:07 WARN DAGScheduler: Broadcasting large task binary with size 20.9 MiB\n",
      "22/07/05 01:32:08 WARN DAGScheduler: Broadcasting large task binary with size 20.9 MiB\n",
      "22/07/05 01:32:09 WARN DAGScheduler: Broadcasting large task binary with size 20.9 MiB\n",
      "22/07/05 01:32:10 WARN DAGScheduler: Broadcasting large task binary with size 20.9 MiB\n",
      "22/07/05 01:32:11 WARN DAGScheduler: Broadcasting large task binary with size 20.9 MiB\n",
      "22/07/05 01:32:12 WARN DAGScheduler: Broadcasting large task binary with size 20.9 MiB\n",
      "22/07/05 01:32:13 WARN DAGScheduler: Broadcasting large task binary with size 20.9 MiB\n",
      "22/07/05 01:32:15 WARN DAGScheduler: Broadcasting large task binary with size 20.9 MiB\n",
      "22/07/05 01:32:16 WARN DAGScheduler: Broadcasting large task binary with size 20.9 MiB\n",
      "22/07/05 01:32:17 WARN DAGScheduler: Broadcasting large task binary with size 20.9 MiB\n",
      "22/07/05 01:32:17 WARN DAGScheduler: Broadcasting large task binary with size 20.9 MiB\n",
      "22/07/05 01:32:19 WARN DAGScheduler: Broadcasting large task binary with size 20.9 MiB\n",
      "22/07/05 01:32:21 WARN DAGScheduler: Broadcasting large task binary with size 20.9 MiB\n",
      "22/07/05 01:32:22 WARN DAGScheduler: Broadcasting large task binary with size 20.9 MiB\n",
      "22/07/05 01:32:24 WARN DAGScheduler: Broadcasting large task binary with size 20.9 MiB\n",
      "22/07/05 01:32:25 WARN DAGScheduler: Broadcasting large task binary with size 20.9 MiB\n",
      "22/07/05 01:32:26 WARN DAGScheduler: Broadcasting large task binary with size 20.9 MiB\n",
      "22/07/05 01:32:27 WARN DAGScheduler: Broadcasting large task binary with size 20.9 MiB\n",
      "22/07/05 01:32:29 WARN DAGScheduler: Broadcasting large task binary with size 20.9 MiB\n",
      "22/07/05 01:32:30 WARN DAGScheduler: Broadcasting large task binary with size 20.9 MiB\n",
      "22/07/05 01:32:31 WARN DAGScheduler: Broadcasting large task binary with size 20.9 MiB\n",
      "22/07/05 01:32:32 WARN DAGScheduler: Broadcasting large task binary with size 20.9 MiB\n",
      "22/07/05 01:32:33 WARN DAGScheduler: Broadcasting large task binary with size 20.9 MiB\n",
      "22/07/05 01:32:34 WARN DAGScheduler: Broadcasting large task binary with size 20.9 MiB\n",
      "22/07/05 01:32:35 WARN DAGScheduler: Broadcasting large task binary with size 20.9 MiB\n",
      "22/07/05 01:32:36 WARN DAGScheduler: Broadcasting large task binary with size 20.9 MiB\n",
      "22/07/05 01:32:37 WARN DAGScheduler: Broadcasting large task binary with size 20.9 MiB\n",
      "22/07/05 01:32:38 WARN DAGScheduler: Broadcasting large task binary with size 20.9 MiB\n",
      "22/07/05 01:32:39 WARN DAGScheduler: Broadcasting large task binary with size 20.9 MiB\n",
      "22/07/05 01:32:41 WARN DAGScheduler: Broadcasting large task binary with size 20.9 MiB\n",
      "22/07/05 01:32:42 WARN DAGScheduler: Broadcasting large task binary with size 20.9 MiB\n",
      "22/07/05 01:32:43 WARN DAGScheduler: Broadcasting large task binary with size 20.9 MiB\n",
      "22/07/05 01:32:44 WARN DAGScheduler: Broadcasting large task binary with size 20.9 MiB\n",
      "22/07/05 01:32:45 WARN DAGScheduler: Broadcasting large task binary with size 20.9 MiB\n",
      "22/07/05 01:32:46 WARN DAGScheduler: Broadcasting large task binary with size 20.9 MiB\n",
      "22/07/05 01:32:47 WARN DAGScheduler: Broadcasting large task binary with size 20.9 MiB\n",
      "22/07/05 01:32:48 WARN DAGScheduler: Broadcasting large task binary with size 20.9 MiB\n",
      "22/07/05 01:32:49 WARN DAGScheduler: Broadcasting large task binary with size 20.9 MiB\n",
      "22/07/05 01:32:50 WARN DAGScheduler: Broadcasting large task binary with size 20.9 MiB\n",
      "22/07/05 01:32:51 WARN DAGScheduler: Broadcasting large task binary with size 20.9 MiB\n",
      "22/07/05 01:32:52 WARN DAGScheduler: Broadcasting large task binary with size 20.9 MiB\n",
      "22/07/05 01:32:53 WARN DAGScheduler: Broadcasting large task binary with size 20.9 MiB\n",
      "22/07/05 01:32:55 WARN DAGScheduler: Broadcasting large task binary with size 20.9 MiB\n",
      "22/07/05 01:32:56 WARN DAGScheduler: Broadcasting large task binary with size 20.9 MiB\n",
      "22/07/05 01:32:58 WARN DAGScheduler: Broadcasting large task binary with size 20.9 MiB\n",
      "22/07/05 01:33:00 WARN DAGScheduler: Broadcasting large task binary with size 20.9 MiB\n",
      "22/07/05 01:33:01 WARN DAGScheduler: Broadcasting large task binary with size 20.9 MiB\n",
      "22/07/05 01:33:03 WARN DAGScheduler: Broadcasting large task binary with size 20.9 MiB\n",
      "22/07/05 01:33:04 WARN DAGScheduler: Broadcasting large task binary with size 20.9 MiB\n",
      "22/07/05 01:33:05 WARN DAGScheduler: Broadcasting large task binary with size 20.9 MiB\n",
      "22/07/05 01:33:07 WARN DAGScheduler: Broadcasting large task binary with size 20.9 MiB\n",
      "22/07/05 01:33:08 WARN DAGScheduler: Broadcasting large task binary with size 20.9 MiB\n",
      "22/07/05 01:33:10 WARN DAGScheduler: Broadcasting large task binary with size 20.9 MiB\n",
      "22/07/05 01:33:12 WARN DAGScheduler: Broadcasting large task binary with size 20.9 MiB\n",
      "22/07/05 01:33:14 WARN DAGScheduler: Broadcasting large task binary with size 20.9 MiB\n",
      "22/07/05 01:33:16 WARN DAGScheduler: Broadcasting large task binary with size 20.9 MiB\n",
      "22/07/05 01:33:17 WARN DAGScheduler: Broadcasting large task binary with size 20.9 MiB\n",
      "22/07/05 01:33:19 WARN DAGScheduler: Broadcasting large task binary with size 20.9 MiB\n",
      "22/07/05 01:33:20 WARN DAGScheduler: Broadcasting large task binary with size 20.9 MiB\n",
      "22/07/05 01:33:22 WARN DAGScheduler: Broadcasting large task binary with size 20.9 MiB\n",
      "22/07/05 01:33:24 WARN DAGScheduler: Broadcasting large task binary with size 20.9 MiB\n",
      "22/07/05 01:33:26 WARN DAGScheduler: Broadcasting large task binary with size 20.9 MiB\n",
      "22/07/05 01:33:27 WARN DAGScheduler: Broadcasting large task binary with size 20.9 MiB\n",
      "22/07/05 01:33:29 WARN DAGScheduler: Broadcasting large task binary with size 20.9 MiB\n",
      "22/07/05 01:33:30 WARN DAGScheduler: Broadcasting large task binary with size 20.9 MiB\n",
      "22/07/05 01:33:31 WARN DAGScheduler: Broadcasting large task binary with size 20.9 MiB\n",
      "22/07/05 01:33:33 WARN DAGScheduler: Broadcasting large task binary with size 20.9 MiB\n"
     ]
    },
    {
     "name": "stderr",
     "output_type": "stream",
     "text": [
      "22/07/05 01:33:35 WARN DAGScheduler: Broadcasting large task binary with size 20.9 MiB\n",
      "22/07/05 01:33:36 WARN DAGScheduler: Broadcasting large task binary with size 20.9 MiB\n",
      "22/07/05 01:33:38 WARN DAGScheduler: Broadcasting large task binary with size 20.9 MiB\n",
      "22/07/05 01:33:40 WARN DAGScheduler: Broadcasting large task binary with size 20.9 MiB\n",
      "22/07/05 01:33:42 WARN DAGScheduler: Broadcasting large task binary with size 20.9 MiB\n",
      "22/07/05 01:33:43 WARN DAGScheduler: Broadcasting large task binary with size 20.9 MiB\n",
      "22/07/05 01:33:45 WARN DAGScheduler: Broadcasting large task binary with size 20.9 MiB\n",
      "22/07/05 01:33:46 WARN DAGScheduler: Broadcasting large task binary with size 20.9 MiB\n",
      "22/07/05 01:33:48 WARN DAGScheduler: Broadcasting large task binary with size 20.9 MiB\n",
      "22/07/05 01:33:50 WARN DAGScheduler: Broadcasting large task binary with size 20.9 MiB\n",
      "22/07/05 01:33:52 WARN DAGScheduler: Broadcasting large task binary with size 20.9 MiB\n",
      "22/07/05 01:33:54 WARN DAGScheduler: Broadcasting large task binary with size 20.9 MiB\n",
      "22/07/05 01:33:56 WARN DAGScheduler: Broadcasting large task binary with size 20.9 MiB\n",
      "22/07/05 01:33:57 WARN DAGScheduler: Broadcasting large task binary with size 20.9 MiB\n",
      "22/07/05 01:33:59 WARN DAGScheduler: Broadcasting large task binary with size 20.9 MiB\n",
      "22/07/05 01:34:01 WARN DAGScheduler: Broadcasting large task binary with size 20.9 MiB\n",
      "22/07/05 01:34:03 WARN DAGScheduler: Broadcasting large task binary with size 20.9 MiB\n",
      "22/07/05 01:34:04 WARN DAGScheduler: Broadcasting large task binary with size 20.9 MiB\n",
      "22/07/05 01:34:06 WARN DAGScheduler: Broadcasting large task binary with size 20.9 MiB\n",
      "22/07/05 01:34:07 WARN DAGScheduler: Broadcasting large task binary with size 20.9 MiB\n",
      "22/07/05 01:34:09 WARN DAGScheduler: Broadcasting large task binary with size 20.9 MiB\n",
      "22/07/05 01:34:10 WARN DAGScheduler: Broadcasting large task binary with size 20.9 MiB\n",
      "22/07/05 01:34:13 WARN DAGScheduler: Broadcasting large task binary with size 20.9 MiB\n",
      "22/07/05 01:34:15 WARN DAGScheduler: Broadcasting large task binary with size 20.9 MiB\n",
      "22/07/05 01:34:16 WARN DAGScheduler: Broadcasting large task binary with size 20.9 MiB\n",
      "                                                                                \r"
     ]
    }
   ],
   "source": [
    "svm = LinearSVC(featuresCol = 'all_features', labelCol = 'target',regParam=1)\n",
    "Model_svm = svm.fit(datos_entrenamiento)"
   ]
  },
  {
   "cell_type": "markdown",
   "id": "32112e85",
   "metadata": {},
   "source": [
    "Ahora podemos realizar predicciones sobre el conjunto de test y sacar distintas métricas que midan su calidad."
   ]
  },
  {
   "cell_type": "code",
   "execution_count": 41,
   "id": "260a1a58",
   "metadata": {},
   "outputs": [],
   "source": [
    "prediccion = Model_svm.transform(datos_test)"
   ]
  },
  {
   "cell_type": "markdown",
   "id": "cbdee3db",
   "metadata": {},
   "source": [
    "Ahora vamos a cambiar el tipo de la columna \"target\" para evitar errores a la hora de obtener las métricas del ajuste."
   ]
  },
  {
   "cell_type": "code",
   "execution_count": 42,
   "id": "3f92f2d2",
   "metadata": {},
   "outputs": [],
   "source": [
    "prediccion= prediccion.withColumn(\"target\", prediccion[\"target\"].cast(\"double\"))\n",
    "prediccion = prediccion.select(\"target\", \"prediction\")"
   ]
  },
  {
   "cell_type": "code",
   "execution_count": 43,
   "id": "2e614b98",
   "metadata": {},
   "outputs": [
    {
     "name": "stderr",
     "output_type": "stream",
     "text": [
      "22/07/05 01:34:21 WARN DAGScheduler: Broadcasting large task binary with size 22.0 MiB\n",
      "                                                                                \r"
     ]
    }
   ],
   "source": [
    "metrics = MulticlassMetrics(prediccion.rdd.map(tuple))"
   ]
  },
  {
   "cell_type": "code",
   "execution_count": 44,
   "id": "04c30bed",
   "metadata": {},
   "outputs": [
    {
     "name": "stderr",
     "output_type": "stream",
     "text": [
      "22/07/05 01:34:24 WARN DAGScheduler: Broadcasting large task binary with size 22.0 MiB\n",
      "[Stage 462:>                                                        (0 + 1) / 1]\r"
     ]
    },
    {
     "name": "stdout",
     "output_type": "stream",
     "text": [
      "La métrica f_1 es: 0.012062726176115802\n"
     ]
    },
    {
     "name": "stderr",
     "output_type": "stream",
     "text": [
      "\r",
      "                                                                                \r"
     ]
    }
   ],
   "source": [
    "f_1 = metrics.fMeasure(1.0)\n",
    "print(f'La métrica f_1 es: {f_1}')"
   ]
  },
  {
   "cell_type": "code",
   "execution_count": 45,
   "id": "245f02d3",
   "metadata": {},
   "outputs": [
    {
     "name": "stdout",
     "output_type": "stream",
     "text": [
      "La métrica Precisión es: 0.0062266500622665\n"
     ]
    }
   ],
   "source": [
    "precision = metrics.precision(1.0)\n",
    "print(f'La métrica Precisión es: {precision}')"
   ]
  },
  {
   "cell_type": "code",
   "execution_count": 46,
   "id": "b962fa19",
   "metadata": {},
   "outputs": [
    {
     "name": "stdout",
     "output_type": "stream",
     "text": [
      "La métrica Recall es: 0.19230769230769232\n"
     ]
    }
   ],
   "source": [
    "recall = metrics.recall(1.0)\n",
    "print(f'La métrica Recall es: {recall}')"
   ]
  },
  {
   "cell_type": "markdown",
   "id": "1be8d30e",
   "metadata": {},
   "source": [
    "6) Naive Bayes"
   ]
  },
  {
   "cell_type": "code",
   "execution_count": 47,
   "id": "33a9a03b",
   "metadata": {},
   "outputs": [
    {
     "name": "stderr",
     "output_type": "stream",
     "text": [
      "22/07/05 01:34:28 WARN DAGScheduler: Broadcasting large task binary with size 20.9 MiB\n",
      "22/07/05 01:34:34 WARN DAGScheduler: Broadcasting large task binary with size 20.9 MiB\n",
      "                                                                                \r"
     ]
    }
   ],
   "source": [
    "nb = NaiveBayes(featuresCol = 'all_features', labelCol = 'target',smoothing=1.0, modelType=\"gaussian\")\n",
    "Model_nb = nb.fit(datos_entrenamiento)"
   ]
  },
  {
   "cell_type": "markdown",
   "id": "7b7bc9bf",
   "metadata": {},
   "source": [
    "Ahora podemos realizar predicciones sobre el conjunto de test y sacar distintas métricas que midan su calidad."
   ]
  },
  {
   "cell_type": "code",
   "execution_count": 48,
   "id": "99433c04",
   "metadata": {},
   "outputs": [],
   "source": [
    "prediccion = Model_nb.transform(datos_test)"
   ]
  },
  {
   "cell_type": "markdown",
   "id": "1b7830d2",
   "metadata": {},
   "source": [
    "Ahora vamos a cambiar el tipo de la columna \"target\" para evitar errores a la hora de obtener las métricas del ajuste."
   ]
  },
  {
   "cell_type": "code",
   "execution_count": 49,
   "id": "3bd41d4f",
   "metadata": {},
   "outputs": [],
   "source": [
    "prediccion= prediccion.withColumn(\"target\", prediccion[\"target\"].cast(\"double\"))\n",
    "prediccion = prediccion.select(\"target\", \"prediction\")"
   ]
  },
  {
   "cell_type": "code",
   "execution_count": 50,
   "id": "b70b92bd",
   "metadata": {},
   "outputs": [
    {
     "name": "stderr",
     "output_type": "stream",
     "text": [
      "22/07/05 01:34:36 WARN DAGScheduler: Broadcasting large task binary with size 24.5 MiB\n",
      "                                                                                \r"
     ]
    }
   ],
   "source": [
    "metrics = MulticlassMetrics(prediccion.rdd.map(tuple))"
   ]
  },
  {
   "cell_type": "code",
   "execution_count": 51,
   "id": "ced08f76",
   "metadata": {},
   "outputs": [
    {
     "name": "stderr",
     "output_type": "stream",
     "text": [
      "22/07/05 01:39:26 WARN DAGScheduler: Broadcasting large task binary with size 24.5 MiB\n",
      "[Stage 468:>                                                        (0 + 1) / 1]\r"
     ]
    },
    {
     "name": "stdout",
     "output_type": "stream",
     "text": [
      "La métrica f_1 es: 0.298370899352823\n"
     ]
    },
    {
     "name": "stderr",
     "output_type": "stream",
     "text": [
      "\r",
      "                                                                                \r"
     ]
    }
   ],
   "source": [
    "f_1 = metrics.fMeasure(1.0)\n",
    "print(f'La métrica f_1 es: {f_1}')"
   ]
  },
  {
   "cell_type": "code",
   "execution_count": 52,
   "id": "c110699b",
   "metadata": {},
   "outputs": [
    {
     "name": "stdout",
     "output_type": "stream",
     "text": [
      "La métrica Precisión es: 0.8325031133250311\n"
     ]
    }
   ],
   "source": [
    "precision = metrics.precision(1.0)\n",
    "print(f'La métrica Precisión es: {precision}')"
   ]
  },
  {
   "cell_type": "code",
   "execution_count": 53,
   "id": "048753a4",
   "metadata": {},
   "outputs": [
    {
     "name": "stdout",
     "output_type": "stream",
     "text": [
      "La métrica Recall es: 0.18175638934203373\n"
     ]
    }
   ],
   "source": [
    "recall = metrics.recall(1.0)\n",
    "print(f'La métrica Recall es: {recall}')"
   ]
  },
  {
   "cell_type": "code",
   "execution_count": 54,
   "id": "3eef8a76",
   "metadata": {},
   "outputs": [
    {
     "data": {
      "text/plain": [
       "DataFrame[0: double, step: double, amount: double, oldbalanceOrg: double, newbalanceOrg: double, oldbalanceDest: double, newbalanceDest: double, isFlaggedFraud: double, target: int, type-: double, nameOrig-: double, nameDest-: double, type-encoded: vector, nameOrig-encoded: vector, nameDest-encoded: vector, all_features: vector]"
      ]
     },
     "execution_count": 54,
     "metadata": {},
     "output_type": "execute_result"
    }
   ],
   "source": [
    "df"
   ]
  },
  {
   "cell_type": "code",
   "execution_count": 55,
   "id": "3f7284f7",
   "metadata": {},
   "outputs": [
    {
     "data": {
      "text/plain": [
       "143820"
      ]
     },
     "execution_count": 55,
     "metadata": {},
     "output_type": "execute_result"
    }
   ],
   "source": [
    "datos_entrenamiento.schema[\"all_features\"].metadata[\"ml_attr\"][\"num_attrs\"]"
   ]
  },
  {
   "cell_type": "markdown",
   "id": "cd044180",
   "metadata": {},
   "source": [
    "7) Multilayer Perceptron"
   ]
  },
  {
   "cell_type": "markdown",
   "id": "7b78e1cf",
   "metadata": {},
   "source": [
    "Para ajustar el Multilayer Perceptron vamos a realizar una selección distinta de variables."
   ]
  },
  {
   "cell_type": "code",
   "execution_count": 56,
   "id": "a2f6ffb6",
   "metadata": {},
   "outputs": [],
   "source": [
    "assembler = VectorAssembler(\n",
    "    inputCols=['step', 'amount', 'oldbalanceOrg', 'newbalanceOrg', 'oldbalanceDest', 'newbalanceDest', \n",
    "              'isFlaggedFraud', 'type-encoded'],\n",
    "    outputCol=\"all_features_MP\"\n",
    ")\n",
    "df = assembler.transform(df)\n",
    "datos_entrenamiento, datos_test = df.randomSplit([0.8,0.2])"
   ]
  },
  {
   "cell_type": "code",
   "execution_count": 57,
   "id": "15b14277",
   "metadata": {},
   "outputs": [
    {
     "name": "stderr",
     "output_type": "stream",
     "text": [
      "22/07/05 01:44:36 WARN DAGScheduler: Broadcasting large task binary with size 21.0 MiB\n",
      "22/07/05 01:44:39 WARN DAGScheduler: Broadcasting large task binary with size 21.0 MiB\n",
      "22/07/05 01:44:41 WARN DAGScheduler: Broadcasting large task binary with size 21.0 MiB\n",
      "22/07/05 01:44:42 WARN DAGScheduler: Broadcasting large task binary with size 21.0 MiB\n",
      "22/07/05 01:44:43 WARN DAGScheduler: Broadcasting large task binary with size 21.0 MiB\n",
      "22/07/05 01:44:45 WARN DAGScheduler: Broadcasting large task binary with size 21.0 MiB\n",
      "22/07/05 01:44:47 WARN DAGScheduler: Broadcasting large task binary with size 21.0 MiB\n",
      "22/07/05 01:44:49 WARN DAGScheduler: Broadcasting large task binary with size 21.0 MiB\n",
      "22/07/05 01:44:50 WARN DAGScheduler: Broadcasting large task binary with size 21.0 MiB\n",
      "22/07/05 01:44:52 WARN DAGScheduler: Broadcasting large task binary with size 21.0 MiB\n",
      "22/07/05 01:44:53 WARN DAGScheduler: Broadcasting large task binary with size 21.0 MiB\n",
      "22/07/05 01:44:55 WARN DAGScheduler: Broadcasting large task binary with size 21.0 MiB\n",
      "22/07/05 01:44:56 WARN DAGScheduler: Broadcasting large task binary with size 21.0 MiB\n",
      "22/07/05 01:44:58 WARN DAGScheduler: Broadcasting large task binary with size 21.0 MiB\n",
      "22/07/05 01:44:59 WARN DAGScheduler: Broadcasting large task binary with size 21.0 MiB\n",
      "22/07/05 01:45:01 WARN DAGScheduler: Broadcasting large task binary with size 21.0 MiB\n",
      "22/07/05 01:45:02 WARN DAGScheduler: Broadcasting large task binary with size 21.0 MiB\n",
      "22/07/05 01:45:04 WARN DAGScheduler: Broadcasting large task binary with size 21.0 MiB\n",
      "22/07/05 01:45:05 WARN DAGScheduler: Broadcasting large task binary with size 21.0 MiB\n",
      "22/07/05 01:45:07 WARN DAGScheduler: Broadcasting large task binary with size 21.0 MiB\n",
      "22/07/05 01:45:08 WARN DAGScheduler: Broadcasting large task binary with size 21.0 MiB\n",
      "22/07/05 01:45:10 WARN DAGScheduler: Broadcasting large task binary with size 21.0 MiB\n",
      "22/07/05 01:45:11 WARN DAGScheduler: Broadcasting large task binary with size 21.0 MiB\n",
      "22/07/05 01:45:13 WARN DAGScheduler: Broadcasting large task binary with size 21.0 MiB\n",
      "22/07/05 01:45:14 WARN DAGScheduler: Broadcasting large task binary with size 21.0 MiB\n",
      "22/07/05 01:45:16 WARN DAGScheduler: Broadcasting large task binary with size 21.0 MiB\n",
      "22/07/05 01:45:17 WARN DAGScheduler: Broadcasting large task binary with size 21.0 MiB\n",
      "22/07/05 01:45:18 WARN DAGScheduler: Broadcasting large task binary with size 21.0 MiB\n",
      "22/07/05 01:45:19 WARN DAGScheduler: Broadcasting large task binary with size 21.0 MiB\n",
      "22/07/05 01:45:21 WARN DAGScheduler: Broadcasting large task binary with size 21.0 MiB\n",
      "22/07/05 01:45:23 WARN DAGScheduler: Broadcasting large task binary with size 21.0 MiB\n",
      "22/07/05 01:45:24 WARN DAGScheduler: Broadcasting large task binary with size 21.0 MiB\n",
      "22/07/05 01:45:26 WARN DAGScheduler: Broadcasting large task binary with size 21.0 MiB\n",
      "22/07/05 01:45:28 WARN DAGScheduler: Broadcasting large task binary with size 21.0 MiB\n",
      "22/07/05 01:45:29 WARN DAGScheduler: Broadcasting large task binary with size 21.0 MiB\n",
      "22/07/05 01:45:31 WARN DAGScheduler: Broadcasting large task binary with size 21.0 MiB\n",
      "22/07/05 01:45:32 WARN DAGScheduler: Broadcasting large task binary with size 21.0 MiB\n",
      "22/07/05 01:45:34 WARN DAGScheduler: Broadcasting large task binary with size 21.0 MiB\n",
      "22/07/05 01:45:35 WARN DAGScheduler: Broadcasting large task binary with size 21.0 MiB\n",
      "22/07/05 01:45:36 WARN DAGScheduler: Broadcasting large task binary with size 21.0 MiB\n",
      "22/07/05 01:45:37 WARN DAGScheduler: Broadcasting large task binary with size 21.0 MiB\n",
      "22/07/05 01:45:39 WARN DAGScheduler: Broadcasting large task binary with size 21.0 MiB\n",
      "22/07/05 01:45:40 WARN DAGScheduler: Broadcasting large task binary with size 21.0 MiB\n",
      "22/07/05 01:45:42 WARN DAGScheduler: Broadcasting large task binary with size 21.0 MiB\n",
      "22/07/05 01:45:44 WARN DAGScheduler: Broadcasting large task binary with size 21.0 MiB\n",
      "22/07/05 01:45:45 WARN DAGScheduler: Broadcasting large task binary with size 21.0 MiB\n",
      "22/07/05 01:45:47 WARN DAGScheduler: Broadcasting large task binary with size 21.0 MiB\n",
      "22/07/05 01:45:48 WARN DAGScheduler: Broadcasting large task binary with size 21.0 MiB\n",
      "22/07/05 01:45:50 WARN DAGScheduler: Broadcasting large task binary with size 21.0 MiB\n",
      "22/07/05 01:45:51 WARN DAGScheduler: Broadcasting large task binary with size 21.0 MiB\n",
      "22/07/05 01:45:52 WARN DAGScheduler: Broadcasting large task binary with size 21.0 MiB\n",
      "22/07/05 01:45:54 WARN DAGScheduler: Broadcasting large task binary with size 21.0 MiB\n",
      "22/07/05 01:45:55 WARN DAGScheduler: Broadcasting large task binary with size 21.0 MiB\n",
      "22/07/05 01:45:57 WARN DAGScheduler: Broadcasting large task binary with size 21.0 MiB\n",
      "22/07/05 01:45:59 WARN DAGScheduler: Broadcasting large task binary with size 21.0 MiB\n",
      "22/07/05 01:46:00 WARN DAGScheduler: Broadcasting large task binary with size 21.0 MiB\n",
      "22/07/05 01:46:02 WARN DAGScheduler: Broadcasting large task binary with size 21.0 MiB\n",
      "22/07/05 01:46:04 WARN DAGScheduler: Broadcasting large task binary with size 21.0 MiB\n",
      "22/07/05 01:46:05 WARN DAGScheduler: Broadcasting large task binary with size 21.0 MiB\n",
      "22/07/05 01:46:07 WARN DAGScheduler: Broadcasting large task binary with size 21.0 MiB\n",
      "22/07/05 01:46:08 WARN DAGScheduler: Broadcasting large task binary with size 21.0 MiB\n",
      "22/07/05 01:46:10 WARN DAGScheduler: Broadcasting large task binary with size 21.0 MiB\n",
      "22/07/05 01:46:12 WARN DAGScheduler: Broadcasting large task binary with size 21.0 MiB\n",
      "22/07/05 01:46:13 WARN DAGScheduler: Broadcasting large task binary with size 21.0 MiB\n",
      "22/07/05 01:46:15 WARN DAGScheduler: Broadcasting large task binary with size 21.0 MiB\n",
      "22/07/05 01:46:17 WARN DAGScheduler: Broadcasting large task binary with size 21.0 MiB\n",
      "22/07/05 01:46:18 WARN DAGScheduler: Broadcasting large task binary with size 21.0 MiB\n",
      "22/07/05 01:46:19 WARN DAGScheduler: Broadcasting large task binary with size 21.0 MiB\n",
      "22/07/05 01:46:22 WARN DAGScheduler: Broadcasting large task binary with size 21.0 MiB\n",
      "22/07/05 01:46:23 WARN DAGScheduler: Broadcasting large task binary with size 21.0 MiB\n",
      "22/07/05 01:46:24 WARN DAGScheduler: Broadcasting large task binary with size 21.0 MiB\n",
      "22/07/05 01:46:26 WARN DAGScheduler: Broadcasting large task binary with size 21.0 MiB\n",
      "22/07/05 01:46:27 WARN DAGScheduler: Broadcasting large task binary with size 21.0 MiB\n",
      "22/07/05 01:46:29 WARN DAGScheduler: Broadcasting large task binary with size 21.0 MiB\n",
      "22/07/05 01:46:30 WARN DAGScheduler: Broadcasting large task binary with size 21.0 MiB\n",
      "22/07/05 01:46:32 WARN DAGScheduler: Broadcasting large task binary with size 21.0 MiB\n",
      "22/07/05 01:46:33 WARN DAGScheduler: Broadcasting large task binary with size 21.0 MiB\n",
      "22/07/05 01:46:35 WARN DAGScheduler: Broadcasting large task binary with size 21.0 MiB\n",
      "22/07/05 01:46:36 WARN DAGScheduler: Broadcasting large task binary with size 21.0 MiB\n",
      "22/07/05 01:46:38 WARN DAGScheduler: Broadcasting large task binary with size 21.0 MiB\n",
      "22/07/05 01:46:40 WARN DAGScheduler: Broadcasting large task binary with size 21.0 MiB\n",
      "22/07/05 01:46:41 WARN DAGScheduler: Broadcasting large task binary with size 21.0 MiB\n",
      "22/07/05 01:46:43 WARN DAGScheduler: Broadcasting large task binary with size 21.0 MiB\n",
      "22/07/05 01:46:44 WARN DAGScheduler: Broadcasting large task binary with size 21.0 MiB\n",
      "22/07/05 01:46:46 WARN DAGScheduler: Broadcasting large task binary with size 21.0 MiB\n",
      "22/07/05 01:46:47 WARN DAGScheduler: Broadcasting large task binary with size 21.0 MiB\n",
      "22/07/05 01:46:49 WARN DAGScheduler: Broadcasting large task binary with size 21.0 MiB\n",
      "22/07/05 01:46:50 WARN DAGScheduler: Broadcasting large task binary with size 21.0 MiB\n",
      "22/07/05 01:46:52 WARN DAGScheduler: Broadcasting large task binary with size 21.0 MiB\n",
      "22/07/05 01:46:54 WARN DAGScheduler: Broadcasting large task binary with size 21.0 MiB\n",
      "22/07/05 01:46:55 WARN DAGScheduler: Broadcasting large task binary with size 21.0 MiB\n",
      "22/07/05 01:46:57 WARN DAGScheduler: Broadcasting large task binary with size 21.0 MiB\n",
      "22/07/05 01:46:58 WARN DAGScheduler: Broadcasting large task binary with size 21.0 MiB\n",
      "22/07/05 01:46:59 WARN DAGScheduler: Broadcasting large task binary with size 21.0 MiB\n",
      "22/07/05 01:47:01 WARN DAGScheduler: Broadcasting large task binary with size 21.0 MiB\n",
      "22/07/05 01:47:02 WARN DAGScheduler: Broadcasting large task binary with size 21.0 MiB\n",
      "22/07/05 01:47:04 WARN DAGScheduler: Broadcasting large task binary with size 21.0 MiB\n",
      "22/07/05 01:47:06 WARN DAGScheduler: Broadcasting large task binary with size 21.0 MiB\n",
      "22/07/05 01:47:08 WARN DAGScheduler: Broadcasting large task binary with size 21.0 MiB\n",
      "22/07/05 01:47:09 WARN DAGScheduler: Broadcasting large task binary with size 21.0 MiB\n",
      "22/07/05 01:47:11 WARN DAGScheduler: Broadcasting large task binary with size 21.0 MiB\n",
      "22/07/05 01:47:12 WARN DAGScheduler: Broadcasting large task binary with size 21.0 MiB\n",
      "22/07/05 01:47:14 WARN DAGScheduler: Broadcasting large task binary with size 21.0 MiB\n",
      "22/07/05 01:47:15 WARN DAGScheduler: Broadcasting large task binary with size 21.0 MiB\n",
      "22/07/05 01:47:17 WARN DAGScheduler: Broadcasting large task binary with size 21.0 MiB\n",
      "22/07/05 01:47:18 WARN DAGScheduler: Broadcasting large task binary with size 21.0 MiB\n",
      "22/07/05 01:47:20 WARN DAGScheduler: Broadcasting large task binary with size 21.0 MiB\n",
      "22/07/05 01:47:22 WARN DAGScheduler: Broadcasting large task binary with size 21.0 MiB\n",
      "22/07/05 01:47:24 WARN DAGScheduler: Broadcasting large task binary with size 21.0 MiB\n",
      "22/07/05 01:47:25 WARN DAGScheduler: Broadcasting large task binary with size 21.0 MiB\n",
      "22/07/05 01:47:27 WARN DAGScheduler: Broadcasting large task binary with size 21.0 MiB\n",
      "22/07/05 01:47:28 WARN DAGScheduler: Broadcasting large task binary with size 21.0 MiB\n",
      "22/07/05 01:47:29 WARN DAGScheduler: Broadcasting large task binary with size 21.0 MiB\n",
      "22/07/05 01:47:31 WARN DAGScheduler: Broadcasting large task binary with size 21.0 MiB\n",
      "22/07/05 01:47:33 WARN DAGScheduler: Broadcasting large task binary with size 21.0 MiB\n",
      "22/07/05 01:47:34 WARN DAGScheduler: Broadcasting large task binary with size 21.0 MiB\n",
      "22/07/05 01:47:36 WARN DAGScheduler: Broadcasting large task binary with size 21.0 MiB\n",
      "22/07/05 01:47:38 WARN DAGScheduler: Broadcasting large task binary with size 21.0 MiB\n",
      "22/07/05 01:47:39 WARN DAGScheduler: Broadcasting large task binary with size 21.0 MiB\n",
      "22/07/05 01:47:41 WARN DAGScheduler: Broadcasting large task binary with size 21.0 MiB\n",
      "22/07/05 01:47:42 WARN DAGScheduler: Broadcasting large task binary with size 21.0 MiB\n",
      "22/07/05 01:47:44 WARN DAGScheduler: Broadcasting large task binary with size 21.0 MiB\n",
      "22/07/05 01:47:45 WARN DAGScheduler: Broadcasting large task binary with size 21.0 MiB\n",
      "22/07/05 01:47:47 WARN DAGScheduler: Broadcasting large task binary with size 21.0 MiB\n",
      "22/07/05 01:47:48 WARN DAGScheduler: Broadcasting large task binary with size 21.0 MiB\n",
      "22/07/05 01:47:50 WARN DAGScheduler: Broadcasting large task binary with size 21.0 MiB\n",
      "22/07/05 01:47:52 WARN DAGScheduler: Broadcasting large task binary with size 21.0 MiB\n",
      "22/07/05 01:47:53 WARN DAGScheduler: Broadcasting large task binary with size 21.0 MiB\n",
      "22/07/05 01:47:55 WARN DAGScheduler: Broadcasting large task binary with size 21.0 MiB\n",
      "22/07/05 01:47:56 WARN DAGScheduler: Broadcasting large task binary with size 21.0 MiB\n",
      "22/07/05 01:47:57 WARN DAGScheduler: Broadcasting large task binary with size 21.0 MiB\n",
      "22/07/05 01:47:59 WARN DAGScheduler: Broadcasting large task binary with size 21.0 MiB\n",
      "22/07/05 01:48:00 WARN DAGScheduler: Broadcasting large task binary with size 21.0 MiB\n",
      "22/07/05 01:48:02 WARN DAGScheduler: Broadcasting large task binary with size 21.0 MiB\n",
      "22/07/05 01:48:04 WARN DAGScheduler: Broadcasting large task binary with size 21.0 MiB\n",
      "22/07/05 01:48:05 WARN DAGScheduler: Broadcasting large task binary with size 21.0 MiB\n",
      "22/07/05 01:48:07 WARN DAGScheduler: Broadcasting large task binary with size 21.0 MiB\n",
      "22/07/05 01:48:08 WARN DAGScheduler: Broadcasting large task binary with size 21.0 MiB\n",
      "22/07/05 01:48:09 WARN DAGScheduler: Broadcasting large task binary with size 21.0 MiB\n",
      "22/07/05 01:48:11 WARN DAGScheduler: Broadcasting large task binary with size 21.0 MiB\n",
      "22/07/05 01:48:13 WARN DAGScheduler: Broadcasting large task binary with size 21.0 MiB\n",
      "22/07/05 01:48:14 WARN DAGScheduler: Broadcasting large task binary with size 21.0 MiB\n",
      "22/07/05 01:48:16 WARN DAGScheduler: Broadcasting large task binary with size 21.0 MiB\n",
      "22/07/05 01:48:17 WARN DAGScheduler: Broadcasting large task binary with size 21.0 MiB\n",
      "22/07/05 01:48:19 WARN DAGScheduler: Broadcasting large task binary with size 21.0 MiB\n",
      "22/07/05 01:48:20 WARN DAGScheduler: Broadcasting large task binary with size 21.0 MiB\n",
      "22/07/05 01:48:22 WARN DAGScheduler: Broadcasting large task binary with size 21.0 MiB\n",
      "22/07/05 01:48:23 WARN DAGScheduler: Broadcasting large task binary with size 21.0 MiB\n",
      "22/07/05 01:48:25 WARN DAGScheduler: Broadcasting large task binary with size 21.0 MiB\n",
      "22/07/05 01:48:26 WARN DAGScheduler: Broadcasting large task binary with size 21.0 MiB\n",
      "22/07/05 01:48:27 WARN DAGScheduler: Broadcasting large task binary with size 21.0 MiB\n",
      "22/07/05 01:48:29 WARN DAGScheduler: Broadcasting large task binary with size 21.0 MiB\n",
      "22/07/05 01:48:30 WARN DAGScheduler: Broadcasting large task binary with size 21.0 MiB\n",
      "22/07/05 01:48:32 WARN DAGScheduler: Broadcasting large task binary with size 21.0 MiB\n",
      "22/07/05 01:48:33 WARN DAGScheduler: Broadcasting large task binary with size 21.0 MiB\n",
      "22/07/05 01:48:34 WARN DAGScheduler: Broadcasting large task binary with size 21.0 MiB\n",
      "22/07/05 01:48:37 WARN DAGScheduler: Broadcasting large task binary with size 21.0 MiB\n",
      "22/07/05 01:48:38 WARN DAGScheduler: Broadcasting large task binary with size 21.0 MiB\n",
      "22/07/05 01:48:40 WARN DAGScheduler: Broadcasting large task binary with size 21.0 MiB\n",
      "22/07/05 01:48:41 WARN DAGScheduler: Broadcasting large task binary with size 21.0 MiB\n",
      "22/07/05 01:48:43 WARN DAGScheduler: Broadcasting large task binary with size 21.0 MiB\n",
      "22/07/05 01:48:44 WARN DAGScheduler: Broadcasting large task binary with size 21.0 MiB\n",
      "22/07/05 01:48:46 WARN DAGScheduler: Broadcasting large task binary with size 21.0 MiB\n",
      "22/07/05 01:48:47 WARN DAGScheduler: Broadcasting large task binary with size 21.0 MiB\n",
      "22/07/05 01:48:49 WARN DAGScheduler: Broadcasting large task binary with size 21.0 MiB\n",
      "22/07/05 01:48:50 WARN DAGScheduler: Broadcasting large task binary with size 21.0 MiB\n",
      "22/07/05 01:48:52 WARN DAGScheduler: Broadcasting large task binary with size 21.0 MiB\n",
      "22/07/05 01:48:53 WARN DAGScheduler: Broadcasting large task binary with size 21.0 MiB\n",
      "22/07/05 01:48:55 WARN DAGScheduler: Broadcasting large task binary with size 21.0 MiB\n",
      "22/07/05 01:48:56 WARN DAGScheduler: Broadcasting large task binary with size 21.0 MiB\n",
      "22/07/05 01:48:58 WARN DAGScheduler: Broadcasting large task binary with size 21.0 MiB\n",
      "22/07/05 01:48:59 WARN DAGScheduler: Broadcasting large task binary with size 21.0 MiB\n",
      "22/07/05 01:49:01 WARN DAGScheduler: Broadcasting large task binary with size 21.0 MiB\n",
      "22/07/05 01:49:02 WARN DAGScheduler: Broadcasting large task binary with size 21.0 MiB\n",
      "22/07/05 01:49:03 WARN DAGScheduler: Broadcasting large task binary with size 21.0 MiB\n",
      "22/07/05 01:49:05 WARN DAGScheduler: Broadcasting large task binary with size 21.0 MiB\n",
      "22/07/05 01:49:07 WARN DAGScheduler: Broadcasting large task binary with size 21.0 MiB\n",
      "22/07/05 01:49:09 WARN DAGScheduler: Broadcasting large task binary with size 21.0 MiB\n",
      "22/07/05 01:49:10 WARN DAGScheduler: Broadcasting large task binary with size 21.0 MiB\n",
      "22/07/05 01:49:11 WARN DAGScheduler: Broadcasting large task binary with size 21.0 MiB\n",
      "22/07/05 01:49:13 WARN DAGScheduler: Broadcasting large task binary with size 21.0 MiB\n",
      "22/07/05 01:49:15 WARN DAGScheduler: Broadcasting large task binary with size 21.0 MiB\n",
      "22/07/05 01:49:16 WARN DAGScheduler: Broadcasting large task binary with size 21.0 MiB\n",
      "22/07/05 01:49:18 WARN DAGScheduler: Broadcasting large task binary with size 21.0 MiB\n",
      "22/07/05 01:49:20 WARN DAGScheduler: Broadcasting large task binary with size 21.0 MiB\n",
      "22/07/05 01:49:21 WARN DAGScheduler: Broadcasting large task binary with size 21.0 MiB\n",
      "22/07/05 01:49:22 WARN DAGScheduler: Broadcasting large task binary with size 21.0 MiB\n",
      "22/07/05 01:49:24 WARN DAGScheduler: Broadcasting large task binary with size 21.0 MiB\n"
     ]
    },
    {
     "name": "stderr",
     "output_type": "stream",
     "text": [
      "22/07/05 01:49:25 WARN DAGScheduler: Broadcasting large task binary with size 21.0 MiB\n",
      "22/07/05 01:49:27 WARN DAGScheduler: Broadcasting large task binary with size 21.0 MiB\n",
      "22/07/05 01:49:28 WARN DAGScheduler: Broadcasting large task binary with size 21.0 MiB\n",
      "22/07/05 01:49:30 WARN DAGScheduler: Broadcasting large task binary with size 21.0 MiB\n",
      "22/07/05 01:49:31 WARN DAGScheduler: Broadcasting large task binary with size 21.0 MiB\n",
      "22/07/05 01:49:33 WARN DAGScheduler: Broadcasting large task binary with size 21.0 MiB\n",
      "22/07/05 01:49:34 WARN DAGScheduler: Broadcasting large task binary with size 21.0 MiB\n",
      "22/07/05 01:49:36 WARN DAGScheduler: Broadcasting large task binary with size 21.0 MiB\n",
      "22/07/05 01:49:38 WARN DAGScheduler: Broadcasting large task binary with size 21.0 MiB\n",
      "22/07/05 01:49:39 WARN DAGScheduler: Broadcasting large task binary with size 21.0 MiB\n",
      "22/07/05 01:49:40 WARN DAGScheduler: Broadcasting large task binary with size 21.0 MiB\n",
      "22/07/05 01:49:42 WARN DAGScheduler: Broadcasting large task binary with size 21.0 MiB\n",
      "22/07/05 01:49:44 WARN DAGScheduler: Broadcasting large task binary with size 21.0 MiB\n",
      "22/07/05 01:49:45 WARN DAGScheduler: Broadcasting large task binary with size 21.0 MiB\n",
      "22/07/05 01:49:47 WARN DAGScheduler: Broadcasting large task binary with size 21.0 MiB\n",
      "22/07/05 01:49:49 WARN DAGScheduler: Broadcasting large task binary with size 21.0 MiB\n",
      "22/07/05 01:49:50 WARN DAGScheduler: Broadcasting large task binary with size 21.0 MiB\n",
      "22/07/05 01:49:51 WARN DAGScheduler: Broadcasting large task binary with size 21.0 MiB\n",
      "22/07/05 01:49:53 WARN DAGScheduler: Broadcasting large task binary with size 21.0 MiB\n",
      "22/07/05 01:49:54 WARN DAGScheduler: Broadcasting large task binary with size 21.0 MiB\n",
      "22/07/05 01:49:56 WARN DAGScheduler: Broadcasting large task binary with size 21.0 MiB\n",
      "22/07/05 01:49:57 WARN DAGScheduler: Broadcasting large task binary with size 21.0 MiB\n",
      "22/07/05 01:49:59 WARN DAGScheduler: Broadcasting large task binary with size 21.0 MiB\n",
      "22/07/05 01:50:00 WARN DAGScheduler: Broadcasting large task binary with size 21.0 MiB\n",
      "22/07/05 01:50:02 WARN DAGScheduler: Broadcasting large task binary with size 21.0 MiB\n",
      "22/07/05 01:50:03 WARN DAGScheduler: Broadcasting large task binary with size 21.0 MiB\n",
      "22/07/05 01:50:05 WARN DAGScheduler: Broadcasting large task binary with size 21.0 MiB\n",
      "22/07/05 01:50:06 WARN DAGScheduler: Broadcasting large task binary with size 21.0 MiB\n",
      "22/07/05 01:50:08 WARN DAGScheduler: Broadcasting large task binary with size 21.0 MiB\n",
      "22/07/05 01:50:09 WARN DAGScheduler: Broadcasting large task binary with size 21.0 MiB\n",
      "22/07/05 01:50:11 WARN DAGScheduler: Broadcasting large task binary with size 21.0 MiB\n",
      "22/07/05 01:50:12 WARN DAGScheduler: Broadcasting large task binary with size 21.0 MiB\n",
      "22/07/05 01:50:13 WARN DAGScheduler: Broadcasting large task binary with size 21.0 MiB\n",
      "22/07/05 01:50:15 WARN DAGScheduler: Broadcasting large task binary with size 21.0 MiB\n",
      "22/07/05 01:50:16 WARN DAGScheduler: Broadcasting large task binary with size 21.0 MiB\n",
      "22/07/05 01:50:18 WARN DAGScheduler: Broadcasting large task binary with size 21.0 MiB\n",
      "22/07/05 01:50:20 WARN DAGScheduler: Broadcasting large task binary with size 21.0 MiB\n",
      "22/07/05 01:50:21 WARN DAGScheduler: Broadcasting large task binary with size 21.0 MiB\n",
      "22/07/05 01:50:22 WARN DAGScheduler: Broadcasting large task binary with size 21.0 MiB\n",
      "22/07/05 01:50:24 WARN DAGScheduler: Broadcasting large task binary with size 21.0 MiB\n",
      "22/07/05 01:50:25 WARN DAGScheduler: Broadcasting large task binary with size 21.0 MiB\n",
      "22/07/05 01:50:28 WARN DAGScheduler: Broadcasting large task binary with size 21.0 MiB\n",
      "22/07/05 01:50:29 WARN DAGScheduler: Broadcasting large task binary with size 21.0 MiB\n",
      "22/07/05 01:50:31 WARN DAGScheduler: Broadcasting large task binary with size 21.0 MiB\n",
      "22/07/05 01:50:33 WARN DAGScheduler: Broadcasting large task binary with size 21.0 MiB\n",
      "22/07/05 01:50:34 WARN DAGScheduler: Broadcasting large task binary with size 21.0 MiB\n",
      "22/07/05 01:50:35 WARN DAGScheduler: Broadcasting large task binary with size 21.0 MiB\n",
      "22/07/05 01:50:37 WARN DAGScheduler: Broadcasting large task binary with size 21.0 MiB\n",
      "22/07/05 01:50:39 WARN DAGScheduler: Broadcasting large task binary with size 21.0 MiB\n",
      "22/07/05 01:50:40 WARN DAGScheduler: Broadcasting large task binary with size 21.0 MiB\n",
      "22/07/05 01:50:41 WARN DAGScheduler: Broadcasting large task binary with size 21.0 MiB\n",
      "22/07/05 01:50:43 WARN DAGScheduler: Broadcasting large task binary with size 21.0 MiB\n",
      "22/07/05 01:50:44 WARN DAGScheduler: Broadcasting large task binary with size 21.0 MiB\n",
      "22/07/05 01:50:46 WARN DAGScheduler: Broadcasting large task binary with size 21.0 MiB\n",
      "22/07/05 01:50:47 WARN DAGScheduler: Broadcasting large task binary with size 21.0 MiB\n",
      "22/07/05 01:50:49 WARN DAGScheduler: Broadcasting large task binary with size 21.0 MiB\n",
      "22/07/05 01:50:50 WARN DAGScheduler: Broadcasting large task binary with size 21.0 MiB\n",
      "22/07/05 01:50:52 WARN DAGScheduler: Broadcasting large task binary with size 21.0 MiB\n",
      "22/07/05 01:50:53 WARN DAGScheduler: Broadcasting large task binary with size 21.0 MiB\n",
      "22/07/05 01:50:55 WARN DAGScheduler: Broadcasting large task binary with size 21.0 MiB\n",
      "22/07/05 01:50:56 WARN DAGScheduler: Broadcasting large task binary with size 21.0 MiB\n",
      "22/07/05 01:50:58 WARN DAGScheduler: Broadcasting large task binary with size 21.0 MiB\n",
      "22/07/05 01:50:59 WARN DAGScheduler: Broadcasting large task binary with size 21.0 MiB\n",
      "22/07/05 01:51:01 WARN DAGScheduler: Broadcasting large task binary with size 21.0 MiB\n",
      "22/07/05 01:51:02 WARN DAGScheduler: Broadcasting large task binary with size 21.0 MiB\n",
      "22/07/05 01:51:04 WARN DAGScheduler: Broadcasting large task binary with size 21.0 MiB\n",
      "22/07/05 01:51:06 WARN DAGScheduler: Broadcasting large task binary with size 21.0 MiB\n",
      "22/07/05 01:51:08 WARN DAGScheduler: Broadcasting large task binary with size 21.0 MiB\n",
      "22/07/05 01:51:09 WARN DAGScheduler: Broadcasting large task binary with size 21.0 MiB\n",
      "22/07/05 01:51:11 WARN DAGScheduler: Broadcasting large task binary with size 21.0 MiB\n",
      "22/07/05 01:51:12 WARN DAGScheduler: Broadcasting large task binary with size 21.0 MiB\n",
      "22/07/05 01:51:14 WARN DAGScheduler: Broadcasting large task binary with size 21.0 MiB\n",
      "22/07/05 01:51:15 WARN DAGScheduler: Broadcasting large task binary with size 21.0 MiB\n",
      "22/07/05 01:51:17 WARN DAGScheduler: Broadcasting large task binary with size 21.0 MiB\n",
      "22/07/05 01:51:18 WARN DAGScheduler: Broadcasting large task binary with size 21.0 MiB\n",
      "22/07/05 01:51:19 WARN DAGScheduler: Broadcasting large task binary with size 21.0 MiB\n",
      "22/07/05 01:51:21 WARN DAGScheduler: Broadcasting large task binary with size 21.0 MiB\n",
      "22/07/05 01:51:23 WARN DAGScheduler: Broadcasting large task binary with size 21.0 MiB\n",
      "22/07/05 01:51:25 WARN DAGScheduler: Broadcasting large task binary with size 21.0 MiB\n",
      "22/07/05 01:51:27 WARN DAGScheduler: Broadcasting large task binary with size 21.0 MiB\n",
      "22/07/05 01:51:29 WARN DAGScheduler: Broadcasting large task binary with size 21.0 MiB\n",
      "22/07/05 01:51:30 WARN DAGScheduler: Broadcasting large task binary with size 21.0 MiB\n",
      "22/07/05 01:51:33 WARN DAGScheduler: Broadcasting large task binary with size 21.0 MiB\n",
      "22/07/05 01:51:34 WARN DAGScheduler: Broadcasting large task binary with size 21.0 MiB\n",
      "22/07/05 01:51:37 WARN DAGScheduler: Broadcasting large task binary with size 21.0 MiB\n",
      "22/07/05 01:51:39 WARN DAGScheduler: Broadcasting large task binary with size 21.0 MiB\n",
      "22/07/05 01:51:40 WARN DAGScheduler: Broadcasting large task binary with size 21.0 MiB\n",
      "22/07/05 01:51:42 WARN DAGScheduler: Broadcasting large task binary with size 21.0 MiB\n",
      "22/07/05 01:51:44 WARN DAGScheduler: Broadcasting large task binary with size 21.0 MiB\n",
      "22/07/05 01:51:46 WARN DAGScheduler: Broadcasting large task binary with size 21.0 MiB\n",
      "22/07/05 01:51:47 WARN DAGScheduler: Broadcasting large task binary with size 21.0 MiB\n",
      "22/07/05 01:51:50 WARN DAGScheduler: Broadcasting large task binary with size 21.0 MiB\n",
      "22/07/05 01:51:51 WARN DAGScheduler: Broadcasting large task binary with size 21.0 MiB\n",
      "22/07/05 01:51:53 WARN DAGScheduler: Broadcasting large task binary with size 21.0 MiB\n",
      "22/07/05 01:51:54 WARN DAGScheduler: Broadcasting large task binary with size 21.0 MiB\n",
      "22/07/05 01:51:56 WARN DAGScheduler: Broadcasting large task binary with size 21.0 MiB\n",
      "22/07/05 01:51:58 WARN DAGScheduler: Broadcasting large task binary with size 21.0 MiB\n",
      "22/07/05 01:52:00 WARN DAGScheduler: Broadcasting large task binary with size 21.0 MiB\n",
      "22/07/05 01:52:02 WARN DAGScheduler: Broadcasting large task binary with size 21.0 MiB\n",
      "22/07/05 01:52:04 WARN DAGScheduler: Broadcasting large task binary with size 21.0 MiB\n",
      "22/07/05 01:52:06 WARN DAGScheduler: Broadcasting large task binary with size 21.0 MiB\n",
      "22/07/05 01:52:08 WARN DAGScheduler: Broadcasting large task binary with size 21.0 MiB\n",
      "22/07/05 01:52:10 WARN DAGScheduler: Broadcasting large task binary with size 21.0 MiB\n",
      "22/07/05 01:52:12 WARN DAGScheduler: Broadcasting large task binary with size 21.0 MiB\n",
      "22/07/05 01:52:13 WARN DAGScheduler: Broadcasting large task binary with size 21.0 MiB\n",
      "22/07/05 01:52:15 WARN DAGScheduler: Broadcasting large task binary with size 21.0 MiB\n",
      "22/07/05 01:52:17 WARN DAGScheduler: Broadcasting large task binary with size 21.0 MiB\n",
      "22/07/05 01:52:19 WARN DAGScheduler: Broadcasting large task binary with size 21.0 MiB\n",
      "22/07/05 01:52:20 WARN DAGScheduler: Broadcasting large task binary with size 21.0 MiB\n",
      "22/07/05 01:52:22 WARN DAGScheduler: Broadcasting large task binary with size 21.0 MiB\n",
      "22/07/05 01:52:24 WARN DAGScheduler: Broadcasting large task binary with size 21.0 MiB\n",
      "22/07/05 01:52:26 WARN DAGScheduler: Broadcasting large task binary with size 21.0 MiB\n",
      "22/07/05 01:52:28 WARN DAGScheduler: Broadcasting large task binary with size 21.0 MiB\n",
      "22/07/05 01:52:30 WARN DAGScheduler: Broadcasting large task binary with size 21.0 MiB\n",
      "22/07/05 01:52:31 WARN DAGScheduler: Broadcasting large task binary with size 21.0 MiB\n",
      "22/07/05 01:52:34 WARN DAGScheduler: Broadcasting large task binary with size 21.0 MiB\n",
      "22/07/05 01:52:35 WARN DAGScheduler: Broadcasting large task binary with size 21.0 MiB\n",
      "22/07/05 01:52:37 WARN DAGScheduler: Broadcasting large task binary with size 21.0 MiB\n",
      "22/07/05 01:52:39 WARN DAGScheduler: Broadcasting large task binary with size 21.0 MiB\n",
      "22/07/05 01:52:41 WARN DAGScheduler: Broadcasting large task binary with size 21.0 MiB\n",
      "22/07/05 01:52:43 WARN DAGScheduler: Broadcasting large task binary with size 21.0 MiB\n",
      "22/07/05 01:52:45 WARN DAGScheduler: Broadcasting large task binary with size 21.0 MiB\n",
      "22/07/05 01:52:47 WARN DAGScheduler: Broadcasting large task binary with size 21.0 MiB\n",
      "22/07/05 01:52:48 WARN DAGScheduler: Broadcasting large task binary with size 21.0 MiB\n",
      "22/07/05 01:52:51 WARN DAGScheduler: Broadcasting large task binary with size 21.0 MiB\n",
      "22/07/05 01:52:52 WARN DAGScheduler: Broadcasting large task binary with size 21.0 MiB\n",
      "22/07/05 01:52:54 WARN DAGScheduler: Broadcasting large task binary with size 21.0 MiB\n",
      "22/07/05 01:52:56 WARN DAGScheduler: Broadcasting large task binary with size 21.0 MiB\n",
      "22/07/05 01:52:58 WARN DAGScheduler: Broadcasting large task binary with size 21.0 MiB\n",
      "22/07/05 01:53:00 WARN DAGScheduler: Broadcasting large task binary with size 21.0 MiB\n",
      "22/07/05 01:53:02 WARN DAGScheduler: Broadcasting large task binary with size 21.0 MiB\n",
      "22/07/05 01:53:04 WARN DAGScheduler: Broadcasting large task binary with size 21.0 MiB\n",
      "22/07/05 01:53:05 WARN DAGScheduler: Broadcasting large task binary with size 21.0 MiB\n",
      "22/07/05 01:53:07 WARN DAGScheduler: Broadcasting large task binary with size 21.0 MiB\n",
      "22/07/05 01:53:09 WARN DAGScheduler: Broadcasting large task binary with size 21.0 MiB\n",
      "22/07/05 01:53:11 WARN DAGScheduler: Broadcasting large task binary with size 21.0 MiB\n",
      "22/07/05 01:53:13 WARN DAGScheduler: Broadcasting large task binary with size 21.0 MiB\n",
      "22/07/05 01:53:14 WARN DAGScheduler: Broadcasting large task binary with size 21.0 MiB\n",
      "22/07/05 01:53:16 WARN DAGScheduler: Broadcasting large task binary with size 21.0 MiB\n",
      "22/07/05 01:53:18 WARN DAGScheduler: Broadcasting large task binary with size 21.0 MiB\n",
      "22/07/05 01:53:20 WARN DAGScheduler: Broadcasting large task binary with size 21.0 MiB\n",
      "22/07/05 01:53:22 WARN DAGScheduler: Broadcasting large task binary with size 21.0 MiB\n",
      "22/07/05 01:53:23 WARN DAGScheduler: Broadcasting large task binary with size 21.0 MiB\n",
      "22/07/05 01:53:25 WARN DAGScheduler: Broadcasting large task binary with size 21.0 MiB\n",
      "22/07/05 01:53:27 WARN DAGScheduler: Broadcasting large task binary with size 21.0 MiB\n",
      "22/07/05 01:53:29 WARN DAGScheduler: Broadcasting large task binary with size 21.0 MiB\n",
      "22/07/05 01:53:31 WARN DAGScheduler: Broadcasting large task binary with size 21.0 MiB\n",
      "22/07/05 01:53:33 WARN DAGScheduler: Broadcasting large task binary with size 21.0 MiB\n",
      "22/07/05 01:53:35 WARN DAGScheduler: Broadcasting large task binary with size 21.0 MiB\n",
      "22/07/05 01:53:37 WARN DAGScheduler: Broadcasting large task binary with size 21.0 MiB\n",
      "22/07/05 01:53:39 WARN DAGScheduler: Broadcasting large task binary with size 21.0 MiB\n",
      "22/07/05 01:53:40 WARN DAGScheduler: Broadcasting large task binary with size 21.0 MiB\n",
      "22/07/05 01:53:43 WARN DAGScheduler: Broadcasting large task binary with size 21.0 MiB\n",
      "22/07/05 01:53:44 WARN DAGScheduler: Broadcasting large task binary with size 21.0 MiB\n",
      "22/07/05 01:53:47 WARN DAGScheduler: Broadcasting large task binary with size 21.0 MiB\n",
      "22/07/05 01:53:48 WARN DAGScheduler: Broadcasting large task binary with size 21.0 MiB\n",
      "22/07/05 01:53:50 WARN DAGScheduler: Broadcasting large task binary with size 21.0 MiB\n",
      "22/07/05 01:53:52 WARN DAGScheduler: Broadcasting large task binary with size 21.0 MiB\n",
      "22/07/05 01:53:54 WARN DAGScheduler: Broadcasting large task binary with size 21.0 MiB\n",
      "22/07/05 01:53:55 WARN DAGScheduler: Broadcasting large task binary with size 21.0 MiB\n",
      "22/07/05 01:53:57 WARN DAGScheduler: Broadcasting large task binary with size 21.0 MiB\n",
      "22/07/05 01:53:59 WARN DAGScheduler: Broadcasting large task binary with size 21.0 MiB\n",
      "22/07/05 01:54:01 WARN DAGScheduler: Broadcasting large task binary with size 21.0 MiB\n",
      "22/07/05 01:54:03 WARN DAGScheduler: Broadcasting large task binary with size 21.0 MiB\n",
      "22/07/05 01:54:04 WARN DAGScheduler: Broadcasting large task binary with size 21.0 MiB\n",
      "22/07/05 01:54:07 WARN DAGScheduler: Broadcasting large task binary with size 21.0 MiB\n",
      "22/07/05 01:54:09 WARN DAGScheduler: Broadcasting large task binary with size 21.0 MiB\n",
      "22/07/05 01:54:10 WARN DAGScheduler: Broadcasting large task binary with size 21.0 MiB\n",
      "22/07/05 01:54:12 WARN DAGScheduler: Broadcasting large task binary with size 21.0 MiB\n",
      "22/07/05 01:54:14 WARN DAGScheduler: Broadcasting large task binary with size 21.0 MiB\n",
      "22/07/05 01:54:16 WARN DAGScheduler: Broadcasting large task binary with size 21.0 MiB\n",
      "22/07/05 01:54:18 WARN DAGScheduler: Broadcasting large task binary with size 21.0 MiB\n",
      "22/07/05 01:54:20 WARN DAGScheduler: Broadcasting large task binary with size 21.0 MiB\n",
      "22/07/05 01:54:22 WARN DAGScheduler: Broadcasting large task binary with size 21.0 MiB\n",
      "22/07/05 01:54:24 WARN DAGScheduler: Broadcasting large task binary with size 21.0 MiB\n",
      "22/07/05 01:54:26 WARN DAGScheduler: Broadcasting large task binary with size 21.0 MiB\n",
      "22/07/05 01:54:27 WARN DAGScheduler: Broadcasting large task binary with size 21.0 MiB\n",
      "22/07/05 01:54:30 WARN DAGScheduler: Broadcasting large task binary with size 21.0 MiB\n",
      "22/07/05 01:54:31 WARN DAGScheduler: Broadcasting large task binary with size 21.0 MiB\n",
      "22/07/05 01:54:34 WARN DAGScheduler: Broadcasting large task binary with size 21.0 MiB\n",
      "22/07/05 01:54:35 WARN DAGScheduler: Broadcasting large task binary with size 21.0 MiB\n",
      "22/07/05 01:54:37 WARN DAGScheduler: Broadcasting large task binary with size 21.0 MiB\n",
      "22/07/05 01:54:38 WARN DAGScheduler: Broadcasting large task binary with size 21.0 MiB\n",
      "22/07/05 01:54:41 WARN DAGScheduler: Broadcasting large task binary with size 21.0 MiB\n",
      "22/07/05 01:54:42 WARN DAGScheduler: Broadcasting large task binary with size 21.0 MiB\n",
      "22/07/05 01:54:44 WARN DAGScheduler: Broadcasting large task binary with size 21.0 MiB\n",
      "22/07/05 01:54:46 WARN DAGScheduler: Broadcasting large task binary with size 21.0 MiB\n",
      "22/07/05 01:54:48 WARN DAGScheduler: Broadcasting large task binary with size 21.0 MiB\n"
     ]
    },
    {
     "name": "stderr",
     "output_type": "stream",
     "text": [
      "22/07/05 01:54:49 WARN DAGScheduler: Broadcasting large task binary with size 21.0 MiB\n",
      "22/07/05 01:54:52 WARN DAGScheduler: Broadcasting large task binary with size 21.0 MiB\n",
      "22/07/05 01:54:53 WARN DAGScheduler: Broadcasting large task binary with size 21.0 MiB\n",
      "22/07/05 01:54:56 WARN DAGScheduler: Broadcasting large task binary with size 21.0 MiB\n",
      "22/07/05 01:54:57 WARN DAGScheduler: Broadcasting large task binary with size 21.0 MiB\n",
      "22/07/05 01:54:59 WARN DAGScheduler: Broadcasting large task binary with size 21.0 MiB\n",
      "22/07/05 01:55:00 WARN DAGScheduler: Broadcasting large task binary with size 21.0 MiB\n",
      "22/07/05 01:55:03 WARN DAGScheduler: Broadcasting large task binary with size 21.0 MiB\n",
      "22/07/05 01:55:04 WARN DAGScheduler: Broadcasting large task binary with size 21.0 MiB\n",
      "22/07/05 01:55:06 WARN DAGScheduler: Broadcasting large task binary with size 21.0 MiB\n",
      "22/07/05 01:55:08 WARN DAGScheduler: Broadcasting large task binary with size 21.0 MiB\n",
      "22/07/05 01:55:10 WARN DAGScheduler: Broadcasting large task binary with size 21.0 MiB\n",
      "22/07/05 01:55:11 WARN DAGScheduler: Broadcasting large task binary with size 21.0 MiB\n",
      "22/07/05 01:55:13 WARN DAGScheduler: Broadcasting large task binary with size 21.0 MiB\n",
      "22/07/05 01:55:15 WARN DAGScheduler: Broadcasting large task binary with size 21.0 MiB\n",
      "22/07/05 01:55:17 WARN DAGScheduler: Broadcasting large task binary with size 21.0 MiB\n",
      "22/07/05 01:55:18 WARN DAGScheduler: Broadcasting large task binary with size 21.0 MiB\n",
      "22/07/05 01:55:21 WARN DAGScheduler: Broadcasting large task binary with size 21.0 MiB\n",
      "22/07/05 01:55:22 WARN DAGScheduler: Broadcasting large task binary with size 21.0 MiB\n",
      "22/07/05 01:55:24 WARN DAGScheduler: Broadcasting large task binary with size 21.0 MiB\n",
      "22/07/05 01:55:26 WARN DAGScheduler: Broadcasting large task binary with size 21.0 MiB\n",
      "22/07/05 01:55:28 WARN DAGScheduler: Broadcasting large task binary with size 21.0 MiB\n",
      "22/07/05 01:55:30 WARN DAGScheduler: Broadcasting large task binary with size 21.0 MiB\n",
      "22/07/05 01:55:32 WARN DAGScheduler: Broadcasting large task binary with size 21.0 MiB\n",
      "22/07/05 01:55:33 WARN DAGScheduler: Broadcasting large task binary with size 21.0 MiB\n",
      "22/07/05 01:55:36 WARN DAGScheduler: Broadcasting large task binary with size 21.0 MiB\n",
      "22/07/05 01:55:37 WARN DAGScheduler: Broadcasting large task binary with size 21.0 MiB\n",
      "22/07/05 01:55:40 WARN DAGScheduler: Broadcasting large task binary with size 21.0 MiB\n",
      "22/07/05 01:55:41 WARN DAGScheduler: Broadcasting large task binary with size 21.0 MiB\n",
      "22/07/05 01:55:43 WARN DAGScheduler: Broadcasting large task binary with size 21.0 MiB\n",
      "22/07/05 01:55:45 WARN DAGScheduler: Broadcasting large task binary with size 21.0 MiB\n",
      "22/07/05 01:55:47 WARN DAGScheduler: Broadcasting large task binary with size 21.0 MiB\n",
      "22/07/05 01:55:48 WARN DAGScheduler: Broadcasting large task binary with size 21.0 MiB\n",
      "22/07/05 01:55:50 ERROR LBFGS: Failure! Resetting history: breeze.optimize.FirstOrderException: Line search zoom failed\n",
      "22/07/05 01:55:50 WARN DAGScheduler: Broadcasting large task binary with size 21.0 MiB\n",
      "22/07/05 01:55:52 WARN DAGScheduler: Broadcasting large task binary with size 21.0 MiB\n",
      "22/07/05 01:55:55 WARN DAGScheduler: Broadcasting large task binary with size 21.0 MiB\n",
      "22/07/05 01:55:56 WARN DAGScheduler: Broadcasting large task binary with size 21.0 MiB\n",
      "22/07/05 01:55:58 WARN DAGScheduler: Broadcasting large task binary with size 21.0 MiB\n",
      "22/07/05 01:55:59 WARN DAGScheduler: Broadcasting large task binary with size 21.0 MiB\n",
      "22/07/05 01:56:01 WARN DAGScheduler: Broadcasting large task binary with size 21.0 MiB\n",
      "22/07/05 01:56:03 WARN DAGScheduler: Broadcasting large task binary with size 21.0 MiB\n",
      "22/07/05 01:56:04 WARN DAGScheduler: Broadcasting large task binary with size 21.0 MiB\n",
      "22/07/05 01:56:07 WARN DAGScheduler: Broadcasting large task binary with size 21.0 MiB\n",
      "22/07/05 01:56:08 WARN DAGScheduler: Broadcasting large task binary with size 21.0 MiB\n",
      "22/07/05 01:56:11 WARN DAGScheduler: Broadcasting large task binary with size 21.0 MiB\n",
      "22/07/05 01:56:12 WARN DAGScheduler: Broadcasting large task binary with size 21.0 MiB\n",
      "22/07/05 01:56:14 WARN DAGScheduler: Broadcasting large task binary with size 21.0 MiB\n",
      "22/07/05 01:56:15 WARN DAGScheduler: Broadcasting large task binary with size 21.0 MiB\n",
      "22/07/05 01:56:18 WARN DAGScheduler: Broadcasting large task binary with size 21.0 MiB\n",
      "22/07/05 01:56:19 WARN DAGScheduler: Broadcasting large task binary with size 21.0 MiB\n",
      "22/07/05 01:56:21 WARN DAGScheduler: Broadcasting large task binary with size 21.0 MiB\n",
      "22/07/05 01:56:23 WARN DAGScheduler: Broadcasting large task binary with size 21.0 MiB\n",
      "22/07/05 01:56:26 WARN DAGScheduler: Broadcasting large task binary with size 21.0 MiB\n",
      "22/07/05 01:56:28 WARN DAGScheduler: Broadcasting large task binary with size 21.0 MiB\n",
      "22/07/05 01:56:30 WARN DAGScheduler: Broadcasting large task binary with size 21.0 MiB\n",
      "22/07/05 01:56:32 WARN DAGScheduler: Broadcasting large task binary with size 21.0 MiB\n",
      "22/07/05 01:56:33 WARN DAGScheduler: Broadcasting large task binary with size 21.0 MiB\n",
      "22/07/05 01:56:35 WARN DAGScheduler: Broadcasting large task binary with size 21.0 MiB\n",
      "22/07/05 01:56:37 WARN DAGScheduler: Broadcasting large task binary with size 21.0 MiB\n",
      "22/07/05 01:56:39 WARN DAGScheduler: Broadcasting large task binary with size 21.0 MiB\n",
      "22/07/05 01:56:41 WARN DAGScheduler: Broadcasting large task binary with size 21.0 MiB\n",
      "22/07/05 01:56:42 WARN DAGScheduler: Broadcasting large task binary with size 21.0 MiB\n",
      "22/07/05 01:56:44 WARN DAGScheduler: Broadcasting large task binary with size 21.0 MiB\n",
      "22/07/05 01:56:46 WARN DAGScheduler: Broadcasting large task binary with size 21.0 MiB\n",
      "22/07/05 01:56:48 WARN DAGScheduler: Broadcasting large task binary with size 21.0 MiB\n",
      "22/07/05 01:56:49 WARN DAGScheduler: Broadcasting large task binary with size 21.0 MiB\n",
      "22/07/05 01:56:51 WARN DAGScheduler: Broadcasting large task binary with size 21.0 MiB\n",
      "22/07/05 01:56:53 WARN DAGScheduler: Broadcasting large task binary with size 21.0 MiB\n",
      "22/07/05 01:56:55 WARN DAGScheduler: Broadcasting large task binary with size 21.0 MiB\n",
      "22/07/05 01:56:56 WARN DAGScheduler: Broadcasting large task binary with size 21.0 MiB\n",
      "22/07/05 01:56:58 WARN DAGScheduler: Broadcasting large task binary with size 21.0 MiB\n",
      "22/07/05 01:57:01 WARN DAGScheduler: Broadcasting large task binary with size 21.0 MiB\n",
      "22/07/05 01:57:02 WARN DAGScheduler: Broadcasting large task binary with size 21.0 MiB\n",
      "22/07/05 01:57:04 WARN DAGScheduler: Broadcasting large task binary with size 21.0 MiB\n",
      "22/07/05 01:57:05 WARN DAGScheduler: Broadcasting large task binary with size 21.0 MiB\n",
      "22/07/05 01:57:08 WARN DAGScheduler: Broadcasting large task binary with size 21.0 MiB\n",
      "22/07/05 01:57:10 WARN DAGScheduler: Broadcasting large task binary with size 21.0 MiB\n",
      "22/07/05 01:57:12 WARN DAGScheduler: Broadcasting large task binary with size 21.0 MiB\n",
      "22/07/05 01:57:14 WARN DAGScheduler: Broadcasting large task binary with size 21.0 MiB\n",
      "22/07/05 01:57:16 WARN DAGScheduler: Broadcasting large task binary with size 21.0 MiB\n",
      "22/07/05 01:57:17 WARN DAGScheduler: Broadcasting large task binary with size 21.0 MiB\n",
      "22/07/05 01:57:20 WARN DAGScheduler: Broadcasting large task binary with size 21.0 MiB\n",
      "22/07/05 01:57:21 WARN DAGScheduler: Broadcasting large task binary with size 21.0 MiB\n",
      "22/07/05 01:57:23 WARN DAGScheduler: Broadcasting large task binary with size 21.0 MiB\n",
      "22/07/05 01:57:25 WARN DAGScheduler: Broadcasting large task binary with size 21.0 MiB\n",
      "22/07/05 01:57:26 WARN DAGScheduler: Broadcasting large task binary with size 21.0 MiB\n",
      "22/07/05 01:57:29 WARN DAGScheduler: Broadcasting large task binary with size 21.0 MiB\n",
      "22/07/05 01:57:30 WARN DAGScheduler: Broadcasting large task binary with size 21.0 MiB\n",
      "22/07/05 01:57:33 WARN DAGScheduler: Broadcasting large task binary with size 21.0 MiB\n",
      "22/07/05 01:57:34 WARN DAGScheduler: Broadcasting large task binary with size 21.0 MiB\n",
      "22/07/05 01:57:36 WARN DAGScheduler: Broadcasting large task binary with size 21.0 MiB\n",
      "22/07/05 01:57:37 WARN DAGScheduler: Broadcasting large task binary with size 21.0 MiB\n",
      "22/07/05 01:57:40 WARN DAGScheduler: Broadcasting large task binary with size 21.0 MiB\n",
      "22/07/05 01:57:41 WARN DAGScheduler: Broadcasting large task binary with size 21.0 MiB\n",
      "22/07/05 01:57:43 WARN DAGScheduler: Broadcasting large task binary with size 21.0 MiB\n",
      "22/07/05 01:57:45 WARN DAGScheduler: Broadcasting large task binary with size 21.0 MiB\n",
      "22/07/05 01:57:47 WARN DAGScheduler: Broadcasting large task binary with size 21.0 MiB\n",
      "22/07/05 01:57:49 WARN DAGScheduler: Broadcasting large task binary with size 21.0 MiB\n",
      "22/07/05 01:57:51 WARN DAGScheduler: Broadcasting large task binary with size 21.0 MiB\n",
      "22/07/05 01:57:52 WARN DAGScheduler: Broadcasting large task binary with size 21.0 MiB\n",
      "22/07/05 01:57:55 WARN DAGScheduler: Broadcasting large task binary with size 21.0 MiB\n",
      "22/07/05 01:57:56 WARN DAGScheduler: Broadcasting large task binary with size 21.0 MiB\n",
      "22/07/05 01:57:59 WARN DAGScheduler: Broadcasting large task binary with size 21.0 MiB\n",
      "22/07/05 01:58:00 WARN DAGScheduler: Broadcasting large task binary with size 21.0 MiB\n",
      "22/07/05 01:58:03 WARN DAGScheduler: Broadcasting large task binary with size 21.0 MiB\n",
      "22/07/05 01:58:04 WARN DAGScheduler: Broadcasting large task binary with size 21.0 MiB\n",
      "22/07/05 01:58:06 WARN DAGScheduler: Broadcasting large task binary with size 21.0 MiB\n",
      "22/07/05 01:58:07 WARN DAGScheduler: Broadcasting large task binary with size 21.0 MiB\n",
      "22/07/05 01:58:10 WARN DAGScheduler: Broadcasting large task binary with size 21.0 MiB\n",
      "22/07/05 01:58:11 WARN DAGScheduler: Broadcasting large task binary with size 21.0 MiB\n",
      "22/07/05 01:58:13 WARN DAGScheduler: Broadcasting large task binary with size 21.0 MiB\n",
      "22/07/05 01:58:15 WARN DAGScheduler: Broadcasting large task binary with size 21.0 MiB\n",
      "22/07/05 01:58:17 WARN DAGScheduler: Broadcasting large task binary with size 21.0 MiB\n",
      "22/07/05 01:58:18 WARN DAGScheduler: Broadcasting large task binary with size 21.0 MiB\n",
      "22/07/05 01:58:20 WARN DAGScheduler: Broadcasting large task binary with size 21.0 MiB\n",
      "22/07/05 01:58:22 WARN DAGScheduler: Broadcasting large task binary with size 21.0 MiB\n",
      "22/07/05 01:58:24 WARN DAGScheduler: Broadcasting large task binary with size 21.0 MiB\n",
      "22/07/05 01:58:25 WARN DAGScheduler: Broadcasting large task binary with size 21.0 MiB\n",
      "22/07/05 01:58:27 WARN DAGScheduler: Broadcasting large task binary with size 21.0 MiB\n",
      "22/07/05 01:58:28 WARN DAGScheduler: Broadcasting large task binary with size 21.0 MiB\n",
      "22/07/05 01:58:30 WARN DAGScheduler: Broadcasting large task binary with size 21.0 MiB\n",
      "22/07/05 01:58:31 WARN DAGScheduler: Broadcasting large task binary with size 21.0 MiB\n",
      "22/07/05 01:58:33 WARN DAGScheduler: Broadcasting large task binary with size 21.0 MiB\n",
      "22/07/05 01:58:34 WARN DAGScheduler: Broadcasting large task binary with size 21.0 MiB\n",
      "22/07/05 01:58:36 WARN DAGScheduler: Broadcasting large task binary with size 21.0 MiB\n",
      "22/07/05 01:58:37 WARN DAGScheduler: Broadcasting large task binary with size 21.0 MiB\n",
      "22/07/05 01:58:39 WARN DAGScheduler: Broadcasting large task binary with size 21.0 MiB\n",
      "22/07/05 01:58:40 WARN DAGScheduler: Broadcasting large task binary with size 21.0 MiB\n",
      "22/07/05 01:58:42 WARN DAGScheduler: Broadcasting large task binary with size 21.0 MiB\n",
      "22/07/05 01:58:43 WARN DAGScheduler: Broadcasting large task binary with size 21.0 MiB\n",
      "22/07/05 01:58:45 WARN DAGScheduler: Broadcasting large task binary with size 21.0 MiB\n",
      "22/07/05 01:58:46 WARN DAGScheduler: Broadcasting large task binary with size 21.0 MiB\n",
      "22/07/05 01:58:48 WARN DAGScheduler: Broadcasting large task binary with size 21.0 MiB\n",
      "22/07/05 01:58:49 WARN DAGScheduler: Broadcasting large task binary with size 21.0 MiB\n",
      "22/07/05 01:58:50 WARN DAGScheduler: Broadcasting large task binary with size 21.0 MiB\n",
      "22/07/05 01:58:52 WARN DAGScheduler: Broadcasting large task binary with size 21.0 MiB\n",
      "22/07/05 01:58:53 WARN DAGScheduler: Broadcasting large task binary with size 21.0 MiB\n",
      "22/07/05 01:58:55 WARN DAGScheduler: Broadcasting large task binary with size 21.0 MiB\n",
      "22/07/05 01:58:57 WARN DAGScheduler: Broadcasting large task binary with size 21.0 MiB\n",
      "22/07/05 01:58:58 WARN DAGScheduler: Broadcasting large task binary with size 21.0 MiB\n",
      "22/07/05 01:59:00 WARN DAGScheduler: Broadcasting large task binary with size 21.0 MiB\n",
      "22/07/05 01:59:02 WARN DAGScheduler: Broadcasting large task binary with size 21.0 MiB\n",
      "22/07/05 01:59:04 WARN DAGScheduler: Broadcasting large task binary with size 21.0 MiB\n",
      "22/07/05 01:59:05 WARN DAGScheduler: Broadcasting large task binary with size 21.0 MiB\n",
      "22/07/05 01:59:07 WARN DAGScheduler: Broadcasting large task binary with size 21.0 MiB\n",
      "22/07/05 01:59:08 WARN DAGScheduler: Broadcasting large task binary with size 21.0 MiB\n",
      "22/07/05 01:59:10 WARN DAGScheduler: Broadcasting large task binary with size 21.0 MiB\n",
      "22/07/05 01:59:11 WARN DAGScheduler: Broadcasting large task binary with size 21.0 MiB\n",
      "22/07/05 01:59:13 WARN DAGScheduler: Broadcasting large task binary with size 21.0 MiB\n",
      "22/07/05 01:59:14 WARN DAGScheduler: Broadcasting large task binary with size 21.0 MiB\n",
      "22/07/05 01:59:15 WARN DAGScheduler: Broadcasting large task binary with size 21.0 MiB\n",
      "22/07/05 01:59:17 WARN DAGScheduler: Broadcasting large task binary with size 21.0 MiB\n",
      "22/07/05 01:59:19 WARN DAGScheduler: Broadcasting large task binary with size 21.0 MiB\n",
      "22/07/05 01:59:20 WARN DAGScheduler: Broadcasting large task binary with size 21.0 MiB\n",
      "22/07/05 01:59:21 WARN DAGScheduler: Broadcasting large task binary with size 21.0 MiB\n",
      "22/07/05 01:59:23 WARN DAGScheduler: Broadcasting large task binary with size 21.0 MiB\n",
      "22/07/05 01:59:24 WARN DAGScheduler: Broadcasting large task binary with size 21.0 MiB\n",
      "22/07/05 01:59:26 WARN DAGScheduler: Broadcasting large task binary with size 21.0 MiB\n",
      "22/07/05 01:59:28 WARN DAGScheduler: Broadcasting large task binary with size 21.0 MiB\n",
      "22/07/05 01:59:29 WARN DAGScheduler: Broadcasting large task binary with size 21.0 MiB\n",
      "22/07/05 01:59:31 WARN DAGScheduler: Broadcasting large task binary with size 21.0 MiB\n",
      "22/07/05 01:59:33 WARN DAGScheduler: Broadcasting large task binary with size 21.0 MiB\n",
      "22/07/05 01:59:35 WARN DAGScheduler: Broadcasting large task binary with size 21.0 MiB\n",
      "22/07/05 01:59:36 WARN DAGScheduler: Broadcasting large task binary with size 21.0 MiB\n",
      "22/07/05 01:59:37 WARN DAGScheduler: Broadcasting large task binary with size 21.0 MiB\n",
      "22/07/05 01:59:39 WARN DAGScheduler: Broadcasting large task binary with size 21.0 MiB\n",
      "22/07/05 01:59:41 WARN DAGScheduler: Broadcasting large task binary with size 21.0 MiB\n",
      "22/07/05 01:59:42 WARN DAGScheduler: Broadcasting large task binary with size 21.0 MiB\n",
      "22/07/05 01:59:43 WARN DAGScheduler: Broadcasting large task binary with size 21.0 MiB\n",
      "22/07/05 01:59:45 WARN DAGScheduler: Broadcasting large task binary with size 21.0 MiB\n",
      "22/07/05 01:59:46 WARN DAGScheduler: Broadcasting large task binary with size 21.0 MiB\n",
      "22/07/05 01:59:48 WARN DAGScheduler: Broadcasting large task binary with size 21.0 MiB\n",
      "22/07/05 01:59:49 WARN DAGScheduler: Broadcasting large task binary with size 21.0 MiB\n",
      "22/07/05 01:59:50 WARN DAGScheduler: Broadcasting large task binary with size 21.0 MiB\n",
      "22/07/05 01:59:52 WARN DAGScheduler: Broadcasting large task binary with size 21.0 MiB\n",
      "22/07/05 01:59:53 WARN DAGScheduler: Broadcasting large task binary with size 21.0 MiB\n",
      "22/07/05 01:59:55 WARN DAGScheduler: Broadcasting large task binary with size 21.0 MiB\n",
      "22/07/05 01:59:56 WARN DAGScheduler: Broadcasting large task binary with size 21.0 MiB\n",
      "22/07/05 01:59:58 WARN DAGScheduler: Broadcasting large task binary with size 21.0 MiB\n",
      "22/07/05 01:59:59 WARN DAGScheduler: Broadcasting large task binary with size 21.0 MiB\n",
      "22/07/05 02:00:01 WARN DAGScheduler: Broadcasting large task binary with size 21.0 MiB\n",
      "22/07/05 02:00:02 WARN DAGScheduler: Broadcasting large task binary with size 21.0 MiB\n",
      "22/07/05 02:00:04 WARN DAGScheduler: Broadcasting large task binary with size 21.0 MiB\n",
      "22/07/05 02:00:05 WARN DAGScheduler: Broadcasting large task binary with size 21.0 MiB\n",
      "22/07/05 02:00:07 WARN DAGScheduler: Broadcasting large task binary with size 21.0 MiB\n",
      "22/07/05 02:00:09 WARN DAGScheduler: Broadcasting large task binary with size 21.0 MiB\n"
     ]
    },
    {
     "name": "stderr",
     "output_type": "stream",
     "text": [
      "22/07/05 02:00:10 WARN DAGScheduler: Broadcasting large task binary with size 21.0 MiB\n",
      "22/07/05 02:00:11 WARN DAGScheduler: Broadcasting large task binary with size 21.0 MiB\n",
      "22/07/05 02:00:14 WARN DAGScheduler: Broadcasting large task binary with size 21.0 MiB\n",
      "22/07/05 02:00:15 WARN DAGScheduler: Broadcasting large task binary with size 21.0 MiB\n",
      "22/07/05 02:00:16 WARN DAGScheduler: Broadcasting large task binary with size 21.0 MiB\n",
      "22/07/05 02:00:18 WARN DAGScheduler: Broadcasting large task binary with size 21.0 MiB\n",
      "22/07/05 02:00:19 WARN DAGScheduler: Broadcasting large task binary with size 21.0 MiB\n",
      "22/07/05 02:00:21 WARN DAGScheduler: Broadcasting large task binary with size 21.0 MiB\n",
      "22/07/05 02:00:22 WARN DAGScheduler: Broadcasting large task binary with size 21.0 MiB\n",
      "22/07/05 02:00:23 WARN DAGScheduler: Broadcasting large task binary with size 21.0 MiB\n",
      "22/07/05 02:00:25 WARN DAGScheduler: Broadcasting large task binary with size 21.0 MiB\n",
      "22/07/05 02:00:26 WARN DAGScheduler: Broadcasting large task binary with size 21.0 MiB\n",
      "22/07/05 02:00:28 WARN DAGScheduler: Broadcasting large task binary with size 21.0 MiB\n",
      "22/07/05 02:00:29 WARN DAGScheduler: Broadcasting large task binary with size 21.0 MiB\n",
      "22/07/05 02:00:31 WARN DAGScheduler: Broadcasting large task binary with size 21.0 MiB\n",
      "22/07/05 02:00:32 WARN DAGScheduler: Broadcasting large task binary with size 21.0 MiB\n",
      "22/07/05 02:00:34 WARN DAGScheduler: Broadcasting large task binary with size 21.0 MiB\n",
      "22/07/05 02:00:35 WARN DAGScheduler: Broadcasting large task binary with size 21.0 MiB\n",
      "22/07/05 02:00:38 WARN DAGScheduler: Broadcasting large task binary with size 21.0 MiB\n",
      "22/07/05 02:00:39 WARN DAGScheduler: Broadcasting large task binary with size 21.0 MiB\n",
      "22/07/05 02:00:40 WARN DAGScheduler: Broadcasting large task binary with size 21.0 MiB\n",
      "22/07/05 02:00:42 WARN DAGScheduler: Broadcasting large task binary with size 21.0 MiB\n",
      "22/07/05 02:00:43 WARN DAGScheduler: Broadcasting large task binary with size 21.0 MiB\n",
      "22/07/05 02:00:45 WARN DAGScheduler: Broadcasting large task binary with size 21.0 MiB\n",
      "22/07/05 02:00:46 WARN DAGScheduler: Broadcasting large task binary with size 21.0 MiB\n",
      "22/07/05 02:00:48 WARN DAGScheduler: Broadcasting large task binary with size 21.0 MiB\n",
      "22/07/05 02:00:49 WARN DAGScheduler: Broadcasting large task binary with size 21.0 MiB\n",
      "22/07/05 02:00:51 WARN DAGScheduler: Broadcasting large task binary with size 21.0 MiB\n",
      "22/07/05 02:00:53 WARN DAGScheduler: Broadcasting large task binary with size 21.0 MiB\n",
      "22/07/05 02:00:54 WARN DAGScheduler: Broadcasting large task binary with size 21.0 MiB\n",
      "22/07/05 02:00:56 WARN DAGScheduler: Broadcasting large task binary with size 21.0 MiB\n",
      "22/07/05 02:00:57 WARN DAGScheduler: Broadcasting large task binary with size 21.0 MiB\n",
      "22/07/05 02:00:59 WARN DAGScheduler: Broadcasting large task binary with size 21.0 MiB\n",
      "22/07/05 02:01:01 WARN DAGScheduler: Broadcasting large task binary with size 21.0 MiB\n",
      "22/07/05 02:01:02 WARN DAGScheduler: Broadcasting large task binary with size 21.0 MiB\n",
      "22/07/05 02:01:04 WARN DAGScheduler: Broadcasting large task binary with size 21.0 MiB\n",
      "22/07/05 02:01:05 WARN DAGScheduler: Broadcasting large task binary with size 21.0 MiB\n",
      "22/07/05 02:01:07 WARN DAGScheduler: Broadcasting large task binary with size 21.0 MiB\n",
      "22/07/05 02:01:08 WARN DAGScheduler: Broadcasting large task binary with size 21.0 MiB\n",
      "22/07/05 02:01:09 WARN DAGScheduler: Broadcasting large task binary with size 21.0 MiB\n",
      "22/07/05 02:01:11 WARN DAGScheduler: Broadcasting large task binary with size 21.0 MiB\n",
      "22/07/05 02:01:12 WARN DAGScheduler: Broadcasting large task binary with size 21.0 MiB\n",
      "22/07/05 02:01:14 WARN DAGScheduler: Broadcasting large task binary with size 21.0 MiB\n",
      "22/07/05 02:01:15 WARN DAGScheduler: Broadcasting large task binary with size 21.0 MiB\n",
      "22/07/05 02:01:17 WARN DAGScheduler: Broadcasting large task binary with size 21.0 MiB\n",
      "22/07/05 02:01:18 WARN DAGScheduler: Broadcasting large task binary with size 21.0 MiB\n",
      "22/07/05 02:01:20 WARN DAGScheduler: Broadcasting large task binary with size 21.0 MiB\n",
      "22/07/05 02:01:21 WARN DAGScheduler: Broadcasting large task binary with size 21.0 MiB\n",
      "22/07/05 02:01:23 WARN DAGScheduler: Broadcasting large task binary with size 21.0 MiB\n",
      "22/07/05 02:01:25 WARN DAGScheduler: Broadcasting large task binary with size 21.0 MiB\n",
      "22/07/05 02:01:26 WARN DAGScheduler: Broadcasting large task binary with size 21.0 MiB\n",
      "22/07/05 02:01:28 WARN DAGScheduler: Broadcasting large task binary with size 21.0 MiB\n",
      "22/07/05 02:01:29 WARN DAGScheduler: Broadcasting large task binary with size 21.0 MiB\n",
      "22/07/05 02:01:32 WARN DAGScheduler: Broadcasting large task binary with size 21.0 MiB\n",
      "22/07/05 02:01:34 WARN DAGScheduler: Broadcasting large task binary with size 21.0 MiB\n",
      "22/07/05 02:01:35 WARN DAGScheduler: Broadcasting large task binary with size 21.0 MiB\n",
      "22/07/05 02:01:36 WARN DAGScheduler: Broadcasting large task binary with size 21.0 MiB\n",
      "22/07/05 02:01:37 WARN DAGScheduler: Broadcasting large task binary with size 21.0 MiB\n",
      "22/07/05 02:01:39 WARN DAGScheduler: Broadcasting large task binary with size 21.0 MiB\n",
      "22/07/05 02:01:40 WARN DAGScheduler: Broadcasting large task binary with size 21.0 MiB\n",
      "22/07/05 02:01:42 WARN DAGScheduler: Broadcasting large task binary with size 21.0 MiB\n",
      "22/07/05 02:01:44 WARN DAGScheduler: Broadcasting large task binary with size 21.0 MiB\n",
      "22/07/05 02:01:45 WARN DAGScheduler: Broadcasting large task binary with size 21.0 MiB\n",
      "22/07/05 02:01:47 WARN DAGScheduler: Broadcasting large task binary with size 21.0 MiB\n",
      "22/07/05 02:01:48 WARN DAGScheduler: Broadcasting large task binary with size 21.0 MiB\n",
      "22/07/05 02:01:50 WARN DAGScheduler: Broadcasting large task binary with size 21.0 MiB\n",
      "22/07/05 02:01:51 WARN DAGScheduler: Broadcasting large task binary with size 21.0 MiB\n",
      "22/07/05 02:01:53 WARN DAGScheduler: Broadcasting large task binary with size 21.0 MiB\n",
      "22/07/05 02:01:55 WARN DAGScheduler: Broadcasting large task binary with size 21.0 MiB\n",
      "22/07/05 02:01:56 WARN DAGScheduler: Broadcasting large task binary with size 21.0 MiB\n",
      "22/07/05 02:01:58 WARN DAGScheduler: Broadcasting large task binary with size 21.0 MiB\n",
      "22/07/05 02:01:59 WARN DAGScheduler: Broadcasting large task binary with size 21.0 MiB\n",
      "22/07/05 02:02:01 WARN DAGScheduler: Broadcasting large task binary with size 21.0 MiB\n",
      "22/07/05 02:02:02 WARN DAGScheduler: Broadcasting large task binary with size 21.0 MiB\n",
      "22/07/05 02:02:03 WARN DAGScheduler: Broadcasting large task binary with size 21.0 MiB\n",
      "22/07/05 02:02:05 WARN DAGScheduler: Broadcasting large task binary with size 21.0 MiB\n",
      "22/07/05 02:02:06 WARN DAGScheduler: Broadcasting large task binary with size 21.0 MiB\n",
      "22/07/05 02:02:08 WARN DAGScheduler: Broadcasting large task binary with size 21.0 MiB\n",
      "22/07/05 02:02:09 WARN DAGScheduler: Broadcasting large task binary with size 21.0 MiB\n",
      "22/07/05 02:02:10 WARN DAGScheduler: Broadcasting large task binary with size 21.0 MiB\n",
      "22/07/05 02:02:12 WARN DAGScheduler: Broadcasting large task binary with size 21.0 MiB\n",
      "22/07/05 02:02:13 WARN DAGScheduler: Broadcasting large task binary with size 21.0 MiB\n",
      "22/07/05 02:02:15 WARN DAGScheduler: Broadcasting large task binary with size 21.0 MiB\n",
      "22/07/05 02:02:16 WARN DAGScheduler: Broadcasting large task binary with size 21.0 MiB\n",
      "22/07/05 02:02:18 WARN DAGScheduler: Broadcasting large task binary with size 21.0 MiB\n",
      "22/07/05 02:02:19 WARN DAGScheduler: Broadcasting large task binary with size 21.0 MiB\n",
      "22/07/05 02:02:21 WARN DAGScheduler: Broadcasting large task binary with size 21.0 MiB\n",
      "22/07/05 02:02:23 WARN DAGScheduler: Broadcasting large task binary with size 21.0 MiB\n",
      "22/07/05 02:02:24 WARN DAGScheduler: Broadcasting large task binary with size 21.0 MiB\n",
      "22/07/05 02:02:26 WARN DAGScheduler: Broadcasting large task binary with size 21.0 MiB\n",
      "22/07/05 02:02:27 WARN DAGScheduler: Broadcasting large task binary with size 21.0 MiB\n",
      "22/07/05 02:02:29 WARN DAGScheduler: Broadcasting large task binary with size 21.0 MiB\n",
      "22/07/05 02:02:30 WARN DAGScheduler: Broadcasting large task binary with size 21.0 MiB\n",
      "22/07/05 02:02:32 WARN DAGScheduler: Broadcasting large task binary with size 21.0 MiB\n",
      "22/07/05 02:02:34 WARN DAGScheduler: Broadcasting large task binary with size 21.0 MiB\n",
      "22/07/05 02:02:35 WARN DAGScheduler: Broadcasting large task binary with size 21.0 MiB\n",
      "22/07/05 02:02:37 WARN DAGScheduler: Broadcasting large task binary with size 21.0 MiB\n",
      "22/07/05 02:02:39 WARN DAGScheduler: Broadcasting large task binary with size 21.0 MiB\n",
      "22/07/05 02:02:40 WARN DAGScheduler: Broadcasting large task binary with size 21.0 MiB\n",
      "22/07/05 02:02:42 WARN DAGScheduler: Broadcasting large task binary with size 21.0 MiB\n",
      "22/07/05 02:02:43 WARN DAGScheduler: Broadcasting large task binary with size 21.0 MiB\n",
      "22/07/05 02:02:45 WARN DAGScheduler: Broadcasting large task binary with size 21.0 MiB\n",
      "22/07/05 02:02:46 WARN DAGScheduler: Broadcasting large task binary with size 21.0 MiB\n",
      "22/07/05 02:02:47 WARN DAGScheduler: Broadcasting large task binary with size 21.0 MiB\n",
      "22/07/05 02:02:49 WARN DAGScheduler: Broadcasting large task binary with size 21.0 MiB\n",
      "22/07/05 02:02:51 WARN DAGScheduler: Broadcasting large task binary with size 21.0 MiB\n",
      "22/07/05 02:02:52 WARN DAGScheduler: Broadcasting large task binary with size 21.0 MiB\n",
      "22/07/05 02:02:53 WARN DAGScheduler: Broadcasting large task binary with size 21.0 MiB\n",
      "22/07/05 02:02:55 WARN DAGScheduler: Broadcasting large task binary with size 21.0 MiB\n",
      "22/07/05 02:02:56 WARN DAGScheduler: Broadcasting large task binary with size 21.0 MiB\n",
      "22/07/05 02:02:58 WARN DAGScheduler: Broadcasting large task binary with size 21.0 MiB\n",
      "22/07/05 02:02:59 WARN DAGScheduler: Broadcasting large task binary with size 21.0 MiB\n",
      "22/07/05 02:03:01 WARN DAGScheduler: Broadcasting large task binary with size 21.0 MiB\n",
      "22/07/05 02:03:02 WARN DAGScheduler: Broadcasting large task binary with size 21.0 MiB\n",
      "22/07/05 02:03:04 WARN DAGScheduler: Broadcasting large task binary with size 21.0 MiB\n",
      "22/07/05 02:03:05 WARN DAGScheduler: Broadcasting large task binary with size 21.0 MiB\n",
      "22/07/05 02:03:07 WARN DAGScheduler: Broadcasting large task binary with size 21.0 MiB\n",
      "22/07/05 02:03:08 WARN DAGScheduler: Broadcasting large task binary with size 21.0 MiB\n",
      "22/07/05 02:03:10 WARN DAGScheduler: Broadcasting large task binary with size 21.0 MiB\n",
      "22/07/05 02:03:11 WARN DAGScheduler: Broadcasting large task binary with size 21.0 MiB\n",
      "22/07/05 02:03:13 WARN DAGScheduler: Broadcasting large task binary with size 21.0 MiB\n",
      "22/07/05 02:03:14 WARN DAGScheduler: Broadcasting large task binary with size 21.0 MiB\n",
      "22/07/05 02:03:16 WARN DAGScheduler: Broadcasting large task binary with size 21.0 MiB\n",
      "22/07/05 02:03:18 WARN DAGScheduler: Broadcasting large task binary with size 21.0 MiB\n",
      "22/07/05 02:03:20 WARN DAGScheduler: Broadcasting large task binary with size 21.0 MiB\n",
      "22/07/05 02:03:21 WARN DAGScheduler: Broadcasting large task binary with size 21.0 MiB\n",
      "22/07/05 02:03:23 WARN DAGScheduler: Broadcasting large task binary with size 21.0 MiB\n",
      "22/07/05 02:03:24 WARN DAGScheduler: Broadcasting large task binary with size 21.0 MiB\n",
      "22/07/05 02:03:26 WARN DAGScheduler: Broadcasting large task binary with size 21.0 MiB\n",
      "22/07/05 02:03:28 WARN DAGScheduler: Broadcasting large task binary with size 21.0 MiB\n",
      "22/07/05 02:03:29 WARN DAGScheduler: Broadcasting large task binary with size 21.0 MiB\n",
      "22/07/05 02:03:31 WARN DAGScheduler: Broadcasting large task binary with size 21.0 MiB\n",
      "22/07/05 02:03:33 WARN DAGScheduler: Broadcasting large task binary with size 21.0 MiB\n",
      "22/07/05 02:03:34 WARN DAGScheduler: Broadcasting large task binary with size 21.0 MiB\n",
      "22/07/05 02:03:36 WARN DAGScheduler: Broadcasting large task binary with size 21.0 MiB\n",
      "22/07/05 02:03:37 WARN DAGScheduler: Broadcasting large task binary with size 21.0 MiB\n",
      "22/07/05 02:03:39 WARN DAGScheduler: Broadcasting large task binary with size 21.0 MiB\n",
      "22/07/05 02:03:40 WARN DAGScheduler: Broadcasting large task binary with size 21.0 MiB\n",
      "22/07/05 02:03:41 WARN DAGScheduler: Broadcasting large task binary with size 21.0 MiB\n",
      "22/07/05 02:03:43 WARN DAGScheduler: Broadcasting large task binary with size 21.0 MiB\n",
      "22/07/05 02:03:45 WARN DAGScheduler: Broadcasting large task binary with size 21.0 MiB\n",
      "22/07/05 02:03:46 WARN DAGScheduler: Broadcasting large task binary with size 21.0 MiB\n",
      "22/07/05 02:03:48 WARN DAGScheduler: Broadcasting large task binary with size 21.0 MiB\n",
      "22/07/05 02:03:50 WARN DAGScheduler: Broadcasting large task binary with size 21.0 MiB\n",
      "22/07/05 02:03:51 WARN DAGScheduler: Broadcasting large task binary with size 21.0 MiB\n",
      "22/07/05 02:03:52 WARN DAGScheduler: Broadcasting large task binary with size 21.0 MiB\n",
      "22/07/05 02:03:54 WARN DAGScheduler: Broadcasting large task binary with size 21.0 MiB\n",
      "22/07/05 02:03:56 WARN DAGScheduler: Broadcasting large task binary with size 21.0 MiB\n",
      "22/07/05 02:03:57 WARN DAGScheduler: Broadcasting large task binary with size 21.0 MiB\n",
      "22/07/05 02:03:59 WARN DAGScheduler: Broadcasting large task binary with size 21.0 MiB\n",
      "22/07/05 02:04:00 WARN DAGScheduler: Broadcasting large task binary with size 21.0 MiB\n",
      "22/07/05 02:04:01 WARN DAGScheduler: Broadcasting large task binary with size 21.0 MiB\n",
      "22/07/05 02:04:03 WARN DAGScheduler: Broadcasting large task binary with size 21.0 MiB\n",
      "22/07/05 02:04:04 WARN DAGScheduler: Broadcasting large task binary with size 21.0 MiB\n",
      "22/07/05 02:04:06 WARN DAGScheduler: Broadcasting large task binary with size 21.0 MiB\n",
      "22/07/05 02:04:07 WARN DAGScheduler: Broadcasting large task binary with size 21.0 MiB\n",
      "22/07/05 02:04:08 WARN DAGScheduler: Broadcasting large task binary with size 21.0 MiB\n",
      "22/07/05 02:04:10 WARN DAGScheduler: Broadcasting large task binary with size 21.0 MiB\n",
      "22/07/05 02:04:12 WARN DAGScheduler: Broadcasting large task binary with size 21.0 MiB\n",
      "22/07/05 02:04:13 WARN DAGScheduler: Broadcasting large task binary with size 21.0 MiB\n",
      "22/07/05 02:04:15 WARN DAGScheduler: Broadcasting large task binary with size 21.0 MiB\n",
      "22/07/05 02:04:16 WARN DAGScheduler: Broadcasting large task binary with size 21.0 MiB\n",
      "22/07/05 02:04:18 WARN DAGScheduler: Broadcasting large task binary with size 21.0 MiB\n",
      "22/07/05 02:04:19 WARN DAGScheduler: Broadcasting large task binary with size 21.0 MiB\n",
      "22/07/05 02:04:21 WARN DAGScheduler: Broadcasting large task binary with size 21.0 MiB\n",
      "22/07/05 02:04:22 WARN DAGScheduler: Broadcasting large task binary with size 21.0 MiB\n",
      "22/07/05 02:04:23 WARN DAGScheduler: Broadcasting large task binary with size 21.0 MiB\n",
      "22/07/05 02:04:25 WARN DAGScheduler: Broadcasting large task binary with size 21.0 MiB\n",
      "22/07/05 02:04:27 WARN DAGScheduler: Broadcasting large task binary with size 21.0 MiB\n",
      "22/07/05 02:04:28 WARN DAGScheduler: Broadcasting large task binary with size 21.0 MiB\n",
      "22/07/05 02:04:30 WARN DAGScheduler: Broadcasting large task binary with size 21.0 MiB\n",
      "22/07/05 02:04:31 WARN DAGScheduler: Broadcasting large task binary with size 21.0 MiB\n",
      "22/07/05 02:04:33 WARN DAGScheduler: Broadcasting large task binary with size 21.0 MiB\n",
      "22/07/05 02:04:34 WARN DAGScheduler: Broadcasting large task binary with size 21.0 MiB\n",
      "22/07/05 02:04:36 WARN DAGScheduler: Broadcasting large task binary with size 21.0 MiB\n",
      "22/07/05 02:04:37 WARN DAGScheduler: Broadcasting large task binary with size 21.0 MiB\n",
      "22/07/05 02:04:39 WARN DAGScheduler: Broadcasting large task binary with size 21.0 MiB\n",
      "22/07/05 02:04:41 WARN DAGScheduler: Broadcasting large task binary with size 21.0 MiB\n",
      "22/07/05 02:04:42 WARN DAGScheduler: Broadcasting large task binary with size 21.0 MiB\n",
      "22/07/05 02:04:44 WARN DAGScheduler: Broadcasting large task binary with size 21.0 MiB\n",
      "22/07/05 02:04:45 WARN DAGScheduler: Broadcasting large task binary with size 21.0 MiB\n",
      "22/07/05 02:04:46 WARN DAGScheduler: Broadcasting large task binary with size 21.0 MiB\n",
      "22/07/05 02:04:48 WARN DAGScheduler: Broadcasting large task binary with size 21.0 MiB\n",
      "22/07/05 02:04:49 WARN DAGScheduler: Broadcasting large task binary with size 21.0 MiB\n",
      "22/07/05 02:04:51 WARN DAGScheduler: Broadcasting large task binary with size 21.0 MiB\n",
      "22/07/05 02:04:52 WARN DAGScheduler: Broadcasting large task binary with size 21.0 MiB\n",
      "22/07/05 02:04:55 WARN DAGScheduler: Broadcasting large task binary with size 21.0 MiB\n",
      "22/07/05 02:04:56 WARN DAGScheduler: Broadcasting large task binary with size 21.0 MiB\n"
     ]
    },
    {
     "name": "stderr",
     "output_type": "stream",
     "text": [
      "22/07/05 02:04:57 WARN DAGScheduler: Broadcasting large task binary with size 21.0 MiB\n",
      "22/07/05 02:04:59 WARN DAGScheduler: Broadcasting large task binary with size 21.0 MiB\n",
      "22/07/05 02:05:01 WARN DAGScheduler: Broadcasting large task binary with size 21.0 MiB\n",
      "22/07/05 02:05:02 WARN DAGScheduler: Broadcasting large task binary with size 21.0 MiB\n",
      "22/07/05 02:05:03 WARN DAGScheduler: Broadcasting large task binary with size 21.0 MiB\n",
      "22/07/05 02:05:05 WARN DAGScheduler: Broadcasting large task binary with size 21.0 MiB\n",
      "22/07/05 02:05:06 WARN DAGScheduler: Broadcasting large task binary with size 21.0 MiB\n",
      "22/07/05 02:05:08 WARN DAGScheduler: Broadcasting large task binary with size 21.0 MiB\n",
      "22/07/05 02:05:09 WARN DAGScheduler: Broadcasting large task binary with size 21.0 MiB\n",
      "22/07/05 02:05:11 WARN DAGScheduler: Broadcasting large task binary with size 21.0 MiB\n",
      "22/07/05 02:05:12 WARN DAGScheduler: Broadcasting large task binary with size 21.0 MiB\n",
      "22/07/05 02:05:14 WARN DAGScheduler: Broadcasting large task binary with size 21.0 MiB\n",
      "22/07/05 02:05:15 WARN DAGScheduler: Broadcasting large task binary with size 21.0 MiB\n",
      "22/07/05 02:05:17 WARN DAGScheduler: Broadcasting large task binary with size 21.0 MiB\n",
      "22/07/05 02:05:18 WARN DAGScheduler: Broadcasting large task binary with size 21.0 MiB\n",
      "22/07/05 02:05:20 WARN DAGScheduler: Broadcasting large task binary with size 21.0 MiB\n",
      "22/07/05 02:05:22 WARN DAGScheduler: Broadcasting large task binary with size 21.0 MiB\n",
      "22/07/05 02:05:23 WARN DAGScheduler: Broadcasting large task binary with size 21.0 MiB\n",
      "22/07/05 02:05:24 WARN DAGScheduler: Broadcasting large task binary with size 21.0 MiB\n",
      "22/07/05 02:05:26 WARN DAGScheduler: Broadcasting large task binary with size 21.0 MiB\n",
      "22/07/05 02:05:28 WARN DAGScheduler: Broadcasting large task binary with size 21.0 MiB\n",
      "22/07/05 02:05:29 WARN DAGScheduler: Broadcasting large task binary with size 21.0 MiB\n",
      "22/07/05 02:05:31 WARN DAGScheduler: Broadcasting large task binary with size 21.0 MiB\n",
      "22/07/05 02:05:33 WARN DAGScheduler: Broadcasting large task binary with size 21.0 MiB\n",
      "22/07/05 02:05:34 WARN DAGScheduler: Broadcasting large task binary with size 21.0 MiB\n",
      "22/07/05 02:05:36 WARN DAGScheduler: Broadcasting large task binary with size 21.0 MiB\n",
      "22/07/05 02:05:38 WARN DAGScheduler: Broadcasting large task binary with size 21.0 MiB\n",
      "22/07/05 02:05:39 WARN DAGScheduler: Broadcasting large task binary with size 21.0 MiB\n",
      "22/07/05 02:05:40 WARN DAGScheduler: Broadcasting large task binary with size 21.0 MiB\n",
      "22/07/05 02:05:42 WARN DAGScheduler: Broadcasting large task binary with size 21.0 MiB\n",
      "22/07/05 02:05:43 WARN DAGScheduler: Broadcasting large task binary with size 21.0 MiB\n",
      "22/07/05 02:05:45 WARN DAGScheduler: Broadcasting large task binary with size 21.0 MiB\n",
      "22/07/05 02:05:47 WARN DAGScheduler: Broadcasting large task binary with size 21.0 MiB\n",
      "22/07/05 02:05:49 WARN DAGScheduler: Broadcasting large task binary with size 21.0 MiB\n",
      "22/07/05 02:05:50 WARN DAGScheduler: Broadcasting large task binary with size 21.0 MiB\n",
      "22/07/05 02:05:51 WARN DAGScheduler: Broadcasting large task binary with size 21.0 MiB\n",
      "22/07/05 02:05:53 WARN DAGScheduler: Broadcasting large task binary with size 21.0 MiB\n",
      "22/07/05 02:05:56 WARN DAGScheduler: Broadcasting large task binary with size 21.0 MiB\n",
      "22/07/05 02:05:57 WARN DAGScheduler: Broadcasting large task binary with size 21.0 MiB\n",
      "22/07/05 02:05:59 WARN DAGScheduler: Broadcasting large task binary with size 21.0 MiB\n",
      "22/07/05 02:06:01 WARN DAGScheduler: Broadcasting large task binary with size 21.0 MiB\n",
      "22/07/05 02:06:04 WARN DAGScheduler: Broadcasting large task binary with size 21.0 MiB\n",
      "22/07/05 02:06:05 WARN DAGScheduler: Broadcasting large task binary with size 21.0 MiB\n",
      "22/07/05 02:06:07 WARN DAGScheduler: Broadcasting large task binary with size 21.0 MiB\n",
      "22/07/05 02:06:09 WARN DAGScheduler: Broadcasting large task binary with size 21.0 MiB\n",
      "22/07/05 02:06:10 WARN DAGScheduler: Broadcasting large task binary with size 21.0 MiB\n",
      "22/07/05 02:06:11 WARN DAGScheduler: Broadcasting large task binary with size 21.0 MiB\n",
      "22/07/05 02:06:14 WARN DAGScheduler: Broadcasting large task binary with size 21.0 MiB\n",
      "22/07/05 02:06:16 WARN DAGScheduler: Broadcasting large task binary with size 21.0 MiB\n",
      "22/07/05 02:06:17 WARN DAGScheduler: Broadcasting large task binary with size 21.0 MiB\n",
      "22/07/05 02:06:19 WARN DAGScheduler: Broadcasting large task binary with size 21.0 MiB\n",
      "22/07/05 02:06:20 WARN DAGScheduler: Broadcasting large task binary with size 21.0 MiB\n",
      "22/07/05 02:06:22 WARN DAGScheduler: Broadcasting large task binary with size 21.0 MiB\n",
      "22/07/05 02:06:24 WARN DAGScheduler: Broadcasting large task binary with size 21.0 MiB\n",
      "22/07/05 02:06:26 WARN DAGScheduler: Broadcasting large task binary with size 21.0 MiB\n",
      "22/07/05 02:06:28 WARN DAGScheduler: Broadcasting large task binary with size 21.0 MiB\n",
      "22/07/05 02:06:30 WARN DAGScheduler: Broadcasting large task binary with size 21.0 MiB\n",
      "22/07/05 02:06:32 WARN DAGScheduler: Broadcasting large task binary with size 21.0 MiB\n",
      "22/07/05 02:06:34 WARN DAGScheduler: Broadcasting large task binary with size 21.0 MiB\n",
      "22/07/05 02:06:36 WARN DAGScheduler: Broadcasting large task binary with size 21.0 MiB\n",
      "22/07/05 02:06:39 WARN DAGScheduler: Broadcasting large task binary with size 21.0 MiB\n",
      "22/07/05 02:06:40 WARN DAGScheduler: Broadcasting large task binary with size 21.0 MiB\n",
      "22/07/05 02:06:43 WARN DAGScheduler: Broadcasting large task binary with size 21.0 MiB\n",
      "22/07/05 02:06:44 WARN DAGScheduler: Broadcasting large task binary with size 21.0 MiB\n",
      "22/07/05 02:06:46 WARN DAGScheduler: Broadcasting large task binary with size 21.0 MiB\n",
      "22/07/05 02:06:49 WARN DAGScheduler: Broadcasting large task binary with size 21.0 MiB\n",
      "22/07/05 02:06:50 WARN DAGScheduler: Broadcasting large task binary with size 21.0 MiB\n",
      "22/07/05 02:06:53 WARN DAGScheduler: Broadcasting large task binary with size 21.0 MiB\n",
      "22/07/05 02:06:55 WARN DAGScheduler: Broadcasting large task binary with size 21.0 MiB\n",
      "22/07/05 02:06:56 WARN DAGScheduler: Broadcasting large task binary with size 21.0 MiB\n",
      "22/07/05 02:06:58 WARN DAGScheduler: Broadcasting large task binary with size 21.0 MiB\n",
      "22/07/05 02:06:59 WARN DAGScheduler: Broadcasting large task binary with size 21.0 MiB\n",
      "22/07/05 02:07:02 WARN DAGScheduler: Broadcasting large task binary with size 21.0 MiB\n",
      "22/07/05 02:07:04 WARN DAGScheduler: Broadcasting large task binary with size 21.0 MiB\n",
      "22/07/05 02:07:06 WARN DAGScheduler: Broadcasting large task binary with size 21.0 MiB\n",
      "22/07/05 02:07:08 WARN DAGScheduler: Broadcasting large task binary with size 21.0 MiB\n",
      "22/07/05 02:07:11 WARN DAGScheduler: Broadcasting large task binary with size 21.0 MiB\n",
      "22/07/05 02:07:13 WARN DAGScheduler: Broadcasting large task binary with size 21.0 MiB\n",
      "22/07/05 02:07:15 WARN DAGScheduler: Broadcasting large task binary with size 21.0 MiB\n",
      "22/07/05 02:07:17 WARN DAGScheduler: Broadcasting large task binary with size 21.0 MiB\n",
      "22/07/05 02:07:20 WARN DAGScheduler: Broadcasting large task binary with size 21.0 MiB\n",
      "22/07/05 02:07:21 WARN DAGScheduler: Broadcasting large task binary with size 21.0 MiB\n",
      "22/07/05 02:07:23 WARN DAGScheduler: Broadcasting large task binary with size 21.0 MiB\n",
      "22/07/05 02:07:25 WARN DAGScheduler: Broadcasting large task binary with size 21.0 MiB\n",
      "22/07/05 02:07:27 WARN DAGScheduler: Broadcasting large task binary with size 21.0 MiB\n",
      "22/07/05 02:07:28 WARN DAGScheduler: Broadcasting large task binary with size 21.0 MiB\n",
      "22/07/05 02:07:31 WARN DAGScheduler: Broadcasting large task binary with size 21.0 MiB\n",
      "22/07/05 02:07:32 WARN DAGScheduler: Broadcasting large task binary with size 21.0 MiB\n",
      "22/07/05 02:07:34 WARN DAGScheduler: Broadcasting large task binary with size 21.0 MiB\n",
      "22/07/05 02:07:36 WARN DAGScheduler: Broadcasting large task binary with size 21.0 MiB\n",
      "22/07/05 02:07:38 WARN DAGScheduler: Broadcasting large task binary with size 21.0 MiB\n",
      "22/07/05 02:07:40 WARN DAGScheduler: Broadcasting large task binary with size 21.0 MiB\n",
      "22/07/05 02:07:41 WARN DAGScheduler: Broadcasting large task binary with size 21.0 MiB\n",
      "22/07/05 02:07:43 WARN DAGScheduler: Broadcasting large task binary with size 21.0 MiB\n",
      "22/07/05 02:07:45 WARN DAGScheduler: Broadcasting large task binary with size 21.0 MiB\n",
      "22/07/05 02:07:47 WARN DAGScheduler: Broadcasting large task binary with size 21.0 MiB\n",
      "22/07/05 02:07:49 WARN DAGScheduler: Broadcasting large task binary with size 21.0 MiB\n",
      "22/07/05 02:07:51 WARN DAGScheduler: Broadcasting large task binary with size 21.0 MiB\n",
      "22/07/05 02:07:52 WARN DAGScheduler: Broadcasting large task binary with size 21.0 MiB\n",
      "22/07/05 02:07:55 WARN DAGScheduler: Broadcasting large task binary with size 21.0 MiB\n",
      "22/07/05 02:07:57 WARN DAGScheduler: Broadcasting large task binary with size 21.0 MiB\n",
      "22/07/05 02:07:59 WARN DAGScheduler: Broadcasting large task binary with size 21.0 MiB\n",
      "22/07/05 02:08:01 WARN DAGScheduler: Broadcasting large task binary with size 21.0 MiB\n",
      "22/07/05 02:08:02 WARN DAGScheduler: Broadcasting large task binary with size 21.0 MiB\n",
      "22/07/05 02:08:04 WARN DAGScheduler: Broadcasting large task binary with size 21.0 MiB\n",
      "22/07/05 02:08:07 WARN DAGScheduler: Broadcasting large task binary with size 21.0 MiB\n",
      "22/07/05 02:08:08 WARN DAGScheduler: Broadcasting large task binary with size 21.0 MiB\n",
      "22/07/05 02:08:10 WARN DAGScheduler: Broadcasting large task binary with size 21.0 MiB\n",
      "22/07/05 02:08:12 WARN DAGScheduler: Broadcasting large task binary with size 21.0 MiB\n",
      "22/07/05 02:08:14 WARN DAGScheduler: Broadcasting large task binary with size 21.0 MiB\n",
      "22/07/05 02:08:16 WARN DAGScheduler: Broadcasting large task binary with size 21.0 MiB\n",
      "22/07/05 02:08:18 WARN DAGScheduler: Broadcasting large task binary with size 21.0 MiB\n",
      "22/07/05 02:08:19 WARN DAGScheduler: Broadcasting large task binary with size 21.0 MiB\n",
      "22/07/05 02:08:22 WARN DAGScheduler: Broadcasting large task binary with size 21.0 MiB\n",
      "22/07/05 02:08:23 WARN DAGScheduler: Broadcasting large task binary with size 21.0 MiB\n",
      "22/07/05 02:08:25 WARN DAGScheduler: Broadcasting large task binary with size 21.0 MiB\n",
      "22/07/05 02:08:27 WARN DAGScheduler: Broadcasting large task binary with size 21.0 MiB\n",
      "22/07/05 02:08:29 WARN DAGScheduler: Broadcasting large task binary with size 21.0 MiB\n",
      "22/07/05 02:08:31 WARN DAGScheduler: Broadcasting large task binary with size 21.0 MiB\n",
      "22/07/05 02:08:33 WARN DAGScheduler: Broadcasting large task binary with size 21.0 MiB\n",
      "22/07/05 02:08:34 WARN DAGScheduler: Broadcasting large task binary with size 21.0 MiB\n",
      "22/07/05 02:08:36 WARN DAGScheduler: Broadcasting large task binary with size 21.0 MiB\n",
      "22/07/05 02:08:38 WARN DAGScheduler: Broadcasting large task binary with size 21.0 MiB\n",
      "22/07/05 02:08:40 WARN DAGScheduler: Broadcasting large task binary with size 21.0 MiB\n",
      "22/07/05 02:08:42 WARN DAGScheduler: Broadcasting large task binary with size 21.0 MiB\n",
      "22/07/05 02:08:44 WARN DAGScheduler: Broadcasting large task binary with size 21.0 MiB\n",
      "22/07/05 02:08:46 WARN DAGScheduler: Broadcasting large task binary with size 21.0 MiB\n",
      "22/07/05 02:08:48 WARN DAGScheduler: Broadcasting large task binary with size 21.0 MiB\n",
      "22/07/05 02:08:49 WARN DAGScheduler: Broadcasting large task binary with size 21.0 MiB\n",
      "22/07/05 02:08:51 WARN DAGScheduler: Broadcasting large task binary with size 21.0 MiB\n",
      "22/07/05 02:08:53 WARN DAGScheduler: Broadcasting large task binary with size 21.0 MiB\n",
      "22/07/05 02:08:55 WARN DAGScheduler: Broadcasting large task binary with size 21.0 MiB\n",
      "22/07/05 02:08:57 WARN DAGScheduler: Broadcasting large task binary with size 21.0 MiB\n",
      "22/07/05 02:08:59 WARN DAGScheduler: Broadcasting large task binary with size 21.0 MiB\n",
      "22/07/05 02:09:00 WARN DAGScheduler: Broadcasting large task binary with size 21.0 MiB\n",
      "22/07/05 02:09:02 WARN DAGScheduler: Broadcasting large task binary with size 21.0 MiB\n",
      "22/07/05 02:09:04 WARN DAGScheduler: Broadcasting large task binary with size 21.0 MiB\n",
      "22/07/05 02:09:06 WARN DAGScheduler: Broadcasting large task binary with size 21.0 MiB\n",
      "22/07/05 02:09:08 WARN DAGScheduler: Broadcasting large task binary with size 21.0 MiB\n",
      "22/07/05 02:09:10 WARN DAGScheduler: Broadcasting large task binary with size 21.0 MiB\n",
      "22/07/05 02:09:12 WARN DAGScheduler: Broadcasting large task binary with size 21.0 MiB\n",
      "22/07/05 02:09:14 WARN DAGScheduler: Broadcasting large task binary with size 21.0 MiB\n",
      "22/07/05 02:09:16 WARN DAGScheduler: Broadcasting large task binary with size 21.0 MiB\n",
      "22/07/05 02:09:18 WARN DAGScheduler: Broadcasting large task binary with size 21.0 MiB\n",
      "22/07/05 02:09:20 WARN DAGScheduler: Broadcasting large task binary with size 21.0 MiB\n",
      "22/07/05 02:09:21 WARN DAGScheduler: Broadcasting large task binary with size 21.0 MiB\n",
      "22/07/05 02:09:23 WARN DAGScheduler: Broadcasting large task binary with size 21.0 MiB\n",
      "22/07/05 02:09:25 WARN DAGScheduler: Broadcasting large task binary with size 21.0 MiB\n",
      "22/07/05 02:09:27 WARN DAGScheduler: Broadcasting large task binary with size 21.0 MiB\n",
      "22/07/05 02:09:29 WARN DAGScheduler: Broadcasting large task binary with size 21.0 MiB\n",
      "22/07/05 02:09:31 WARN DAGScheduler: Broadcasting large task binary with size 21.0 MiB\n",
      "22/07/05 02:09:32 WARN DAGScheduler: Broadcasting large task binary with size 21.0 MiB\n",
      "22/07/05 02:09:34 WARN DAGScheduler: Broadcasting large task binary with size 21.0 MiB\n",
      "22/07/05 02:09:36 WARN DAGScheduler: Broadcasting large task binary with size 21.0 MiB\n",
      "22/07/05 02:09:38 WARN DAGScheduler: Broadcasting large task binary with size 21.0 MiB\n",
      "22/07/05 02:09:40 WARN DAGScheduler: Broadcasting large task binary with size 21.0 MiB\n",
      "22/07/05 02:09:42 WARN DAGScheduler: Broadcasting large task binary with size 21.0 MiB\n",
      "22/07/05 02:09:43 WARN DAGScheduler: Broadcasting large task binary with size 21.0 MiB\n",
      "22/07/05 02:09:45 WARN DAGScheduler: Broadcasting large task binary with size 21.0 MiB\n",
      "22/07/05 02:09:48 WARN DAGScheduler: Broadcasting large task binary with size 21.0 MiB\n",
      "22/07/05 02:09:49 WARN DAGScheduler: Broadcasting large task binary with size 21.0 MiB\n",
      "22/07/05 02:09:52 WARN DAGScheduler: Broadcasting large task binary with size 21.0 MiB\n",
      "22/07/05 02:09:53 WARN DAGScheduler: Broadcasting large task binary with size 21.0 MiB\n",
      "22/07/05 02:09:55 WARN DAGScheduler: Broadcasting large task binary with size 21.0 MiB\n",
      "22/07/05 02:09:56 WARN DAGScheduler: Broadcasting large task binary with size 21.0 MiB\n",
      "22/07/05 02:09:59 WARN DAGScheduler: Broadcasting large task binary with size 21.0 MiB\n",
      "22/07/05 02:10:00 WARN DAGScheduler: Broadcasting large task binary with size 21.0 MiB\n",
      "22/07/05 02:10:02 WARN DAGScheduler: Broadcasting large task binary with size 21.0 MiB\n",
      "22/07/05 02:10:04 WARN DAGScheduler: Broadcasting large task binary with size 21.0 MiB\n",
      "22/07/05 02:10:06 WARN DAGScheduler: Broadcasting large task binary with size 21.0 MiB\n",
      "22/07/05 02:10:07 WARN DAGScheduler: Broadcasting large task binary with size 21.0 MiB\n",
      "22/07/05 02:10:09 WARN DAGScheduler: Broadcasting large task binary with size 21.0 MiB\n",
      "22/07/05 02:10:11 WARN DAGScheduler: Broadcasting large task binary with size 21.0 MiB\n",
      "22/07/05 02:10:13 WARN DAGScheduler: Broadcasting large task binary with size 21.0 MiB\n",
      "22/07/05 02:10:15 WARN DAGScheduler: Broadcasting large task binary with size 21.0 MiB\n",
      "22/07/05 02:10:17 WARN DAGScheduler: Broadcasting large task binary with size 21.0 MiB\n",
      "22/07/05 02:10:18 WARN DAGScheduler: Broadcasting large task binary with size 21.0 MiB\n",
      "22/07/05 02:10:20 WARN DAGScheduler: Broadcasting large task binary with size 21.0 MiB\n",
      "22/07/05 02:10:22 WARN DAGScheduler: Broadcasting large task binary with size 21.0 MiB\n",
      "22/07/05 02:10:24 WARN DAGScheduler: Broadcasting large task binary with size 21.0 MiB\n",
      "22/07/05 02:10:26 WARN DAGScheduler: Broadcasting large task binary with size 21.0 MiB\n",
      "22/07/05 02:10:27 WARN DAGScheduler: Broadcasting large task binary with size 21.0 MiB\n",
      "22/07/05 02:10:29 WARN DAGScheduler: Broadcasting large task binary with size 21.0 MiB\n",
      "22/07/05 02:10:31 WARN DAGScheduler: Broadcasting large task binary with size 21.0 MiB\n",
      "22/07/05 02:10:33 WARN DAGScheduler: Broadcasting large task binary with size 21.0 MiB\n",
      "22/07/05 02:10:35 WARN DAGScheduler: Broadcasting large task binary with size 21.0 MiB\n",
      "22/07/05 02:10:36 WARN DAGScheduler: Broadcasting large task binary with size 21.0 MiB\n",
      "22/07/05 02:10:39 WARN DAGScheduler: Broadcasting large task binary with size 21.0 MiB\n"
     ]
    },
    {
     "name": "stderr",
     "output_type": "stream",
     "text": [
      "22/07/05 02:10:40 WARN DAGScheduler: Broadcasting large task binary with size 21.0 MiB\n",
      "22/07/05 02:10:43 WARN DAGScheduler: Broadcasting large task binary with size 21.0 MiB\n",
      "22/07/05 02:10:44 WARN DAGScheduler: Broadcasting large task binary with size 21.0 MiB\n",
      "22/07/05 02:10:46 WARN DAGScheduler: Broadcasting large task binary with size 21.0 MiB\n",
      "22/07/05 02:10:47 WARN DAGScheduler: Broadcasting large task binary with size 21.0 MiB\n",
      "22/07/05 02:10:50 WARN DAGScheduler: Broadcasting large task binary with size 21.0 MiB\n",
      "22/07/05 02:10:52 WARN DAGScheduler: Broadcasting large task binary with size 21.0 MiB\n",
      "22/07/05 02:10:54 WARN DAGScheduler: Broadcasting large task binary with size 21.0 MiB\n",
      "22/07/05 02:10:55 WARN DAGScheduler: Broadcasting large task binary with size 21.0 MiB\n",
      "22/07/05 02:10:57 WARN DAGScheduler: Broadcasting large task binary with size 21.0 MiB\n",
      "22/07/05 02:10:59 WARN DAGScheduler: Broadcasting large task binary with size 21.0 MiB\n",
      "22/07/05 02:11:01 WARN DAGScheduler: Broadcasting large task binary with size 21.0 MiB\n",
      "22/07/05 02:11:03 WARN DAGScheduler: Broadcasting large task binary with size 21.0 MiB\n",
      "22/07/05 02:11:05 WARN DAGScheduler: Broadcasting large task binary with size 21.0 MiB\n",
      "22/07/05 02:11:07 WARN DAGScheduler: Broadcasting large task binary with size 21.0 MiB\n",
      "22/07/05 02:11:09 WARN DAGScheduler: Broadcasting large task binary with size 21.0 MiB\n",
      "22/07/05 02:11:11 WARN DAGScheduler: Broadcasting large task binary with size 21.0 MiB\n",
      "22/07/05 02:11:13 WARN DAGScheduler: Broadcasting large task binary with size 21.0 MiB\n",
      "22/07/05 02:11:15 WARN DAGScheduler: Broadcasting large task binary with size 21.0 MiB\n",
      "22/07/05 02:11:17 WARN DAGScheduler: Broadcasting large task binary with size 21.0 MiB\n",
      "22/07/05 02:11:19 WARN DAGScheduler: Broadcasting large task binary with size 21.0 MiB\n",
      "22/07/05 02:11:20 WARN DAGScheduler: Broadcasting large task binary with size 21.0 MiB\n",
      "22/07/05 02:11:23 WARN DAGScheduler: Broadcasting large task binary with size 21.0 MiB\n",
      "22/07/05 02:11:24 WARN DAGScheduler: Broadcasting large task binary with size 21.0 MiB\n",
      "22/07/05 02:11:27 WARN DAGScheduler: Broadcasting large task binary with size 21.0 MiB\n",
      "22/07/05 02:11:29 WARN DAGScheduler: Broadcasting large task binary with size 21.0 MiB\n",
      "22/07/05 02:11:31 WARN DAGScheduler: Broadcasting large task binary with size 21.0 MiB\n",
      "22/07/05 02:11:33 WARN DAGScheduler: Broadcasting large task binary with size 21.0 MiB\n",
      "22/07/05 02:11:35 WARN DAGScheduler: Broadcasting large task binary with size 21.0 MiB\n",
      "22/07/05 02:11:37 WARN DAGScheduler: Broadcasting large task binary with size 21.0 MiB\n",
      "22/07/05 02:11:39 WARN DAGScheduler: Broadcasting large task binary with size 21.0 MiB\n",
      "22/07/05 02:11:41 WARN DAGScheduler: Broadcasting large task binary with size 21.0 MiB\n",
      "22/07/05 02:11:44 WARN DAGScheduler: Broadcasting large task binary with size 21.0 MiB\n",
      "22/07/05 02:11:45 WARN DAGScheduler: Broadcasting large task binary with size 21.0 MiB\n",
      "22/07/05 02:11:47 WARN DAGScheduler: Broadcasting large task binary with size 21.0 MiB\n",
      "22/07/05 02:11:49 WARN DAGScheduler: Broadcasting large task binary with size 21.0 MiB\n",
      "22/07/05 02:11:51 WARN DAGScheduler: Broadcasting large task binary with size 21.0 MiB\n",
      "22/07/05 02:11:53 WARN DAGScheduler: Broadcasting large task binary with size 21.0 MiB\n",
      "22/07/05 02:11:55 WARN DAGScheduler: Broadcasting large task binary with size 21.0 MiB\n",
      "22/07/05 02:11:57 WARN DAGScheduler: Broadcasting large task binary with size 21.0 MiB\n",
      "22/07/05 02:11:59 WARN DAGScheduler: Broadcasting large task binary with size 21.0 MiB\n",
      "22/07/05 02:12:02 WARN DAGScheduler: Broadcasting large task binary with size 21.0 MiB\n",
      "22/07/05 02:12:03 WARN DAGScheduler: Broadcasting large task binary with size 21.0 MiB\n",
      "22/07/05 02:12:05 WARN DAGScheduler: Broadcasting large task binary with size 21.0 MiB\n",
      "22/07/05 02:12:07 WARN DAGScheduler: Broadcasting large task binary with size 21.0 MiB\n",
      "22/07/05 02:12:09 WARN DAGScheduler: Broadcasting large task binary with size 21.0 MiB\n",
      "22/07/05 02:12:11 WARN DAGScheduler: Broadcasting large task binary with size 21.0 MiB\n",
      "22/07/05 02:12:13 WARN DAGScheduler: Broadcasting large task binary with size 21.0 MiB\n",
      "22/07/05 02:12:15 WARN DAGScheduler: Broadcasting large task binary with size 21.0 MiB\n",
      "22/07/05 02:12:18 WARN DAGScheduler: Broadcasting large task binary with size 21.0 MiB\n",
      "22/07/05 02:12:20 WARN DAGScheduler: Broadcasting large task binary with size 21.0 MiB\n",
      "22/07/05 02:12:22 WARN DAGScheduler: Broadcasting large task binary with size 21.0 MiB\n",
      "22/07/05 02:12:23 WARN DAGScheduler: Broadcasting large task binary with size 21.0 MiB\n",
      "22/07/05 02:12:25 WARN DAGScheduler: Broadcasting large task binary with size 21.0 MiB\n",
      "22/07/05 02:12:27 WARN DAGScheduler: Broadcasting large task binary with size 21.0 MiB\n",
      "22/07/05 02:12:29 WARN DAGScheduler: Broadcasting large task binary with size 21.0 MiB\n",
      "22/07/05 02:12:31 WARN DAGScheduler: Broadcasting large task binary with size 21.0 MiB\n",
      "22/07/05 02:12:33 WARN DAGScheduler: Broadcasting large task binary with size 21.0 MiB\n",
      "22/07/05 02:12:35 WARN DAGScheduler: Broadcasting large task binary with size 21.0 MiB\n",
      "22/07/05 02:12:37 WARN DAGScheduler: Broadcasting large task binary with size 21.0 MiB\n",
      "22/07/05 02:12:38 WARN DAGScheduler: Broadcasting large task binary with size 21.0 MiB\n",
      "22/07/05 02:12:41 WARN DAGScheduler: Broadcasting large task binary with size 21.0 MiB\n",
      "22/07/05 02:12:42 WARN DAGScheduler: Broadcasting large task binary with size 21.0 MiB\n",
      "22/07/05 02:12:44 WARN DAGScheduler: Broadcasting large task binary with size 21.0 MiB\n",
      "22/07/05 02:12:46 WARN DAGScheduler: Broadcasting large task binary with size 21.0 MiB\n",
      "22/07/05 02:12:48 WARN DAGScheduler: Broadcasting large task binary with size 21.0 MiB\n",
      "22/07/05 02:12:49 WARN DAGScheduler: Broadcasting large task binary with size 21.0 MiB\n",
      "22/07/05 02:12:51 WARN DAGScheduler: Broadcasting large task binary with size 21.0 MiB\n",
      "22/07/05 02:12:53 WARN DAGScheduler: Broadcasting large task binary with size 21.0 MiB\n",
      "22/07/05 02:12:55 WARN DAGScheduler: Broadcasting large task binary with size 21.0 MiB\n",
      "22/07/05 02:12:57 WARN DAGScheduler: Broadcasting large task binary with size 21.0 MiB\n",
      "22/07/05 02:12:59 WARN DAGScheduler: Broadcasting large task binary with size 21.0 MiB\n",
      "22/07/05 02:13:01 WARN DAGScheduler: Broadcasting large task binary with size 21.0 MiB\n",
      "22/07/05 02:13:02 WARN DAGScheduler: Broadcasting large task binary with size 21.0 MiB\n",
      "22/07/05 02:13:04 WARN DAGScheduler: Broadcasting large task binary with size 21.0 MiB\n",
      "22/07/05 02:13:06 WARN DAGScheduler: Broadcasting large task binary with size 21.0 MiB\n",
      "22/07/05 02:13:08 WARN DAGScheduler: Broadcasting large task binary with size 21.0 MiB\n",
      "22/07/05 02:13:10 WARN DAGScheduler: Broadcasting large task binary with size 21.0 MiB\n",
      "22/07/05 02:13:12 WARN DAGScheduler: Broadcasting large task binary with size 21.0 MiB\n",
      "22/07/05 02:13:13 WARN DAGScheduler: Broadcasting large task binary with size 21.0 MiB\n",
      "22/07/05 02:13:15 WARN DAGScheduler: Broadcasting large task binary with size 21.0 MiB\n",
      "22/07/05 02:13:17 WARN DAGScheduler: Broadcasting large task binary with size 21.0 MiB\n",
      "22/07/05 02:13:19 WARN DAGScheduler: Broadcasting large task binary with size 21.0 MiB\n",
      "22/07/05 02:13:20 WARN DAGScheduler: Broadcasting large task binary with size 21.0 MiB\n",
      "22/07/05 02:13:23 WARN DAGScheduler: Broadcasting large task binary with size 21.0 MiB\n",
      "22/07/05 02:13:24 WARN DAGScheduler: Broadcasting large task binary with size 21.0 MiB\n",
      "22/07/05 02:13:26 WARN DAGScheduler: Broadcasting large task binary with size 21.0 MiB\n",
      "22/07/05 02:13:28 WARN DAGScheduler: Broadcasting large task binary with size 21.0 MiB\n",
      "22/07/05 02:13:30 WARN DAGScheduler: Broadcasting large task binary with size 21.0 MiB\n",
      "22/07/05 02:13:32 WARN DAGScheduler: Broadcasting large task binary with size 21.0 MiB\n",
      "22/07/05 02:13:34 WARN DAGScheduler: Broadcasting large task binary with size 21.0 MiB\n",
      "22/07/05 02:13:35 WARN DAGScheduler: Broadcasting large task binary with size 21.0 MiB\n",
      "22/07/05 02:13:37 WARN DAGScheduler: Broadcasting large task binary with size 21.0 MiB\n",
      "22/07/05 02:13:39 WARN DAGScheduler: Broadcasting large task binary with size 21.0 MiB\n",
      "22/07/05 02:13:40 WARN DAGScheduler: Broadcasting large task binary with size 21.0 MiB\n",
      "22/07/05 02:13:41 WARN DAGScheduler: Broadcasting large task binary with size 21.0 MiB\n",
      "22/07/05 02:13:43 WARN DAGScheduler: Broadcasting large task binary with size 21.0 MiB\n",
      "22/07/05 02:13:45 WARN DAGScheduler: Broadcasting large task binary with size 21.0 MiB\n",
      "22/07/05 02:13:46 WARN DAGScheduler: Broadcasting large task binary with size 21.0 MiB\n",
      "22/07/05 02:13:48 WARN DAGScheduler: Broadcasting large task binary with size 21.0 MiB\n",
      "22/07/05 02:13:50 WARN DAGScheduler: Broadcasting large task binary with size 21.0 MiB\n",
      "22/07/05 02:13:51 WARN DAGScheduler: Broadcasting large task binary with size 21.0 MiB\n",
      "22/07/05 02:13:53 WARN DAGScheduler: Broadcasting large task binary with size 21.0 MiB\n",
      "22/07/05 02:13:55 WARN DAGScheduler: Broadcasting large task binary with size 21.0 MiB\n",
      "22/07/05 02:13:56 WARN DAGScheduler: Broadcasting large task binary with size 21.0 MiB\n",
      "22/07/05 02:13:58 WARN DAGScheduler: Broadcasting large task binary with size 21.0 MiB\n",
      "22/07/05 02:14:00 WARN DAGScheduler: Broadcasting large task binary with size 21.0 MiB\n",
      "22/07/05 02:14:01 WARN DAGScheduler: Broadcasting large task binary with size 21.0 MiB\n",
      "22/07/05 02:14:03 WARN DAGScheduler: Broadcasting large task binary with size 21.0 MiB\n",
      "22/07/05 02:14:04 WARN DAGScheduler: Broadcasting large task binary with size 21.0 MiB\n",
      "22/07/05 02:14:05 WARN DAGScheduler: Broadcasting large task binary with size 21.0 MiB\n",
      "22/07/05 02:14:07 WARN DAGScheduler: Broadcasting large task binary with size 21.0 MiB\n",
      "22/07/05 02:14:09 WARN DAGScheduler: Broadcasting large task binary with size 21.0 MiB\n",
      "22/07/05 02:14:11 WARN DAGScheduler: Broadcasting large task binary with size 21.0 MiB\n",
      "22/07/05 02:14:12 WARN DAGScheduler: Broadcasting large task binary with size 21.0 MiB\n",
      "22/07/05 02:14:13 WARN DAGScheduler: Broadcasting large task binary with size 21.0 MiB\n",
      "22/07/05 02:14:16 WARN DAGScheduler: Broadcasting large task binary with size 21.0 MiB\n",
      "22/07/05 02:14:17 WARN DAGScheduler: Broadcasting large task binary with size 21.0 MiB\n",
      "22/07/05 02:14:19 WARN DAGScheduler: Broadcasting large task binary with size 21.0 MiB\n",
      "22/07/05 02:14:20 WARN DAGScheduler: Broadcasting large task binary with size 21.0 MiB\n",
      "22/07/05 02:14:22 WARN DAGScheduler: Broadcasting large task binary with size 21.0 MiB\n",
      "22/07/05 02:14:23 WARN DAGScheduler: Broadcasting large task binary with size 21.0 MiB\n",
      "22/07/05 02:14:25 WARN DAGScheduler: Broadcasting large task binary with size 21.0 MiB\n",
      "22/07/05 02:14:27 WARN DAGScheduler: Broadcasting large task binary with size 21.0 MiB\n",
      "22/07/05 02:14:28 WARN DAGScheduler: Broadcasting large task binary with size 21.0 MiB\n",
      "22/07/05 02:14:30 WARN DAGScheduler: Broadcasting large task binary with size 21.0 MiB\n",
      "22/07/05 02:14:32 WARN DAGScheduler: Broadcasting large task binary with size 21.0 MiB\n",
      "22/07/05 02:14:33 WARN DAGScheduler: Broadcasting large task binary with size 21.0 MiB\n",
      "22/07/05 02:14:34 WARN DAGScheduler: Broadcasting large task binary with size 21.0 MiB\n",
      "22/07/05 02:14:36 WARN DAGScheduler: Broadcasting large task binary with size 21.0 MiB\n",
      "22/07/05 02:14:38 WARN DAGScheduler: Broadcasting large task binary with size 21.0 MiB\n",
      "22/07/05 02:14:39 WARN DAGScheduler: Broadcasting large task binary with size 21.0 MiB\n",
      "22/07/05 02:14:40 WARN DAGScheduler: Broadcasting large task binary with size 21.0 MiB\n",
      "22/07/05 02:14:42 WARN DAGScheduler: Broadcasting large task binary with size 21.0 MiB\n",
      "22/07/05 02:14:43 WARN DAGScheduler: Broadcasting large task binary with size 21.0 MiB\n",
      "22/07/05 02:14:45 WARN DAGScheduler: Broadcasting large task binary with size 21.0 MiB\n",
      "22/07/05 02:14:46 WARN DAGScheduler: Broadcasting large task binary with size 21.0 MiB\n",
      "22/07/05 02:14:48 WARN DAGScheduler: Broadcasting large task binary with size 21.0 MiB\n",
      "22/07/05 02:14:49 WARN DAGScheduler: Broadcasting large task binary with size 21.0 MiB\n",
      "22/07/05 02:14:50 WARN DAGScheduler: Broadcasting large task binary with size 21.0 MiB\n",
      "22/07/05 02:14:52 WARN DAGScheduler: Broadcasting large task binary with size 21.0 MiB\n",
      "22/07/05 02:14:54 WARN DAGScheduler: Broadcasting large task binary with size 21.0 MiB\n",
      "22/07/05 02:14:55 WARN DAGScheduler: Broadcasting large task binary with size 21.0 MiB\n",
      "22/07/05 02:14:57 WARN DAGScheduler: Broadcasting large task binary with size 21.0 MiB\n",
      "22/07/05 02:14:59 WARN DAGScheduler: Broadcasting large task binary with size 21.0 MiB\n",
      "22/07/05 02:15:00 WARN DAGScheduler: Broadcasting large task binary with size 21.0 MiB\n",
      "                                                                                \r"
     ]
    }
   ],
   "source": [
    "mp = MultilayerPerceptronClassifier(featuresCol = 'all_features_MP', labelCol = 'target', \n",
    "                          maxIter = 500, solver = \"l-bfgs\", stepSize=0.005, layers=[11,6,4,2])\n",
    "Model_mp = mp.fit(datos_entrenamiento)"
   ]
  },
  {
   "cell_type": "markdown",
   "id": "23759ae1",
   "metadata": {},
   "source": [
    "Ahora podemos realizar predicciones sobre el conjunto de test y sacar distintas métricas que midan su calidad."
   ]
  },
  {
   "cell_type": "code",
   "execution_count": 58,
   "id": "38022ee0",
   "metadata": {},
   "outputs": [],
   "source": [
    "prediccion = Model_mp.transform(datos_test)"
   ]
  },
  {
   "cell_type": "markdown",
   "id": "cc6a6662",
   "metadata": {},
   "source": [
    "Ahora vamos a cambiar el tipo de la columna \"target\" para evitar errores a la hora de obtener las métricas del ajuste."
   ]
  },
  {
   "cell_type": "code",
   "execution_count": 59,
   "id": "320e9db7",
   "metadata": {},
   "outputs": [],
   "source": [
    "prediccion= prediccion.withColumn(\"target\", prediccion[\"target\"].cast(\"double\"))\n",
    "prediccion = prediccion.select(\"target\", \"prediction\")"
   ]
  },
  {
   "cell_type": "code",
   "execution_count": 60,
   "id": "b7f27969",
   "metadata": {},
   "outputs": [
    {
     "name": "stderr",
     "output_type": "stream",
     "text": [
      "22/07/05 02:15:03 WARN DAGScheduler: Broadcasting large task binary with size 21.0 MiB\n",
      "[Stage 1554:>                                                       (0 + 1) / 1]\r"
     ]
    },
    {
     "name": "stdout",
     "output_type": "stream",
     "text": [
      "+------+----------+\n",
      "|target|prediction|\n",
      "+------+----------+\n",
      "|   0.0|       0.0|\n",
      "|   0.0|       0.0|\n",
      "|   0.0|       0.0|\n",
      "|   0.0|       0.0|\n",
      "|   0.0|       0.0|\n",
      "|   0.0|       0.0|\n",
      "|   0.0|       0.0|\n",
      "|   1.0|       0.0|\n",
      "|   0.0|       0.0|\n",
      "|   1.0|       0.0|\n",
      "|   0.0|       0.0|\n",
      "|   0.0|       0.0|\n",
      "|   0.0|       0.0|\n",
      "|   0.0|       0.0|\n",
      "|   0.0|       0.0|\n",
      "|   1.0|       0.0|\n",
      "|   0.0|       0.0|\n",
      "|   0.0|       0.0|\n",
      "|   0.0|       0.0|\n",
      "|   0.0|       0.0|\n",
      "+------+----------+\n",
      "only showing top 20 rows\n",
      "\n"
     ]
    },
    {
     "name": "stderr",
     "output_type": "stream",
     "text": [
      "\r",
      "                                                                                \r"
     ]
    }
   ],
   "source": [
    "prediccion.show()"
   ]
  },
  {
   "cell_type": "code",
   "execution_count": 61,
   "id": "43ca3c5c",
   "metadata": {},
   "outputs": [
    {
     "name": "stderr",
     "output_type": "stream",
     "text": [
      "22/07/05 02:15:07 WARN DAGScheduler: Broadcasting large task binary with size 21.0 MiB\n",
      "                                                                                \r"
     ]
    }
   ],
   "source": [
    "metrics = MulticlassMetrics(prediccion.rdd.map(tuple))"
   ]
  },
  {
   "cell_type": "code",
   "execution_count": 62,
   "id": "c49c413f",
   "metadata": {},
   "outputs": [
    {
     "name": "stderr",
     "output_type": "stream",
     "text": [
      "22/07/05 02:15:09 WARN DAGScheduler: Broadcasting large task binary with size 21.0 MiB\n",
      "\r",
      "[Stage 1556:>                                                       (0 + 1) / 1]\r"
     ]
    },
    {
     "name": "stdout",
     "output_type": "stream",
     "text": [
      "La métrica f_1 es: 0.37493579866461224\n"
     ]
    },
    {
     "name": "stderr",
     "output_type": "stream",
     "text": [
      "\r",
      "                                                                                \r"
     ]
    }
   ],
   "source": [
    "f_1 = metrics.fMeasure(1.0)\n",
    "print(f'La métrica f_1 es: {f_1}')"
   ]
  },
  {
   "cell_type": "code",
   "execution_count": 63,
   "id": "c70984fd",
   "metadata": {},
   "outputs": [
    {
     "name": "stdout",
     "output_type": "stream",
     "text": [
      "La métrica Precisión es: 0.23086654016445288\n"
     ]
    }
   ],
   "source": [
    "precision = metrics.precision(1.0)\n",
    "print(f'La métrica Precisión es: {precision}')"
   ]
  },
  {
   "cell_type": "code",
   "execution_count": 64,
   "id": "3c36d870",
   "metadata": {},
   "outputs": [
    {
     "name": "stdout",
     "output_type": "stream",
     "text": [
      "La métrica Recall es: 0.9972677595628415\n"
     ]
    }
   ],
   "source": [
    "recall = metrics.recall(1.0)\n",
    "print(f'La métrica Recall es: {recall}')"
   ]
  },
  {
   "cell_type": "markdown",
   "id": "31c3fb6d",
   "metadata": {},
   "source": [
    "Una vez hemos ajustado todos los modelos nos quedaremos con el que mejor métrica f_1 haya presentado (excluyendo al Perceptrón Multicapa de esta comparación pues lo hemos entrenado con distintos datos que los demás algoritmos) y procederemos a validarlo con el método de la Validación Cruzada con búsqueda de hiperparámetros. En este caso el algoritmo que escogeremos es pues: Árbol de Decisión"
   ]
  },
  {
   "cell_type": "code",
   "execution_count": 65,
   "id": "fe3b3631",
   "metadata": {},
   "outputs": [],
   "source": [
    "evaluator = MulticlassClassificationEvaluator(\n",
    "    labelCol='target', \n",
    "    predictionCol=\"prediction\")"
   ]
  },
  {
   "cell_type": "code",
   "execution_count": 66,
   "id": "5df0f20c",
   "metadata": {},
   "outputs": [
    {
     "name": "stderr",
     "output_type": "stream",
     "text": [
      "22/07/05 02:15:12 WARN DAGScheduler: Broadcasting large task binary with size 20.9 MiB\n",
      "22/07/05 02:15:16 WARN DAGScheduler: Broadcasting large task binary with size 21.0 MiB\n",
      "22/07/05 02:15:18 WARN DAGScheduler: Broadcasting large task binary with size 21.0 MiB\n",
      "22/07/05 02:15:19 WARN DAGScheduler: Broadcasting large task binary with size 21.0 MiB\n",
      "22/07/05 02:15:20 WARN DAGScheduler: Broadcasting large task binary with size 2.6 MiB\n",
      "22/07/05 02:15:21 WARN DAGScheduler: Broadcasting large task binary with size 24.8 MiB\n",
      "22/07/05 02:15:23 WARN MemoryStore: Not enough space to cache rdd_2137_0 in memory! (computed 229.9 MiB so far)\n",
      "22/07/05 02:15:23 WARN BlockManager: Persisting block rdd_2137_0 to disk instead.\n",
      "22/07/05 02:17:24 WARN MemoryStore: Not enough space to cache rdd_2137_0 in memory! (computed 229.9 MiB so far)\n",
      "22/07/05 02:18:54 WARN DAGScheduler: Broadcasting large task binary with size 24.8 MiB\n",
      "22/07/05 02:18:55 WARN MemoryStore: Not enough space to cache rdd_2137_0 in memory! (computed 229.9 MiB so far)\n",
      "22/07/05 02:20:27 WARN DAGScheduler: Broadcasting large task binary with size 24.8 MiB\n",
      "22/07/05 02:20:29 WARN MemoryStore: Not enough space to cache rdd_2137_0 in memory! (computed 229.9 MiB so far)\n",
      "22/07/05 02:21:41 WARN DAGScheduler: Broadcasting large task binary with size 21.0 MiB\n",
      "22/07/05 02:21:44 WARN DAGScheduler: Broadcasting large task binary with size 20.9 MiB\n",
      "22/07/05 02:21:46 WARN DAGScheduler: Broadcasting large task binary with size 21.0 MiB\n",
      "22/07/05 02:21:47 WARN DAGScheduler: Broadcasting large task binary with size 21.0 MiB\n",
      "22/07/05 02:21:49 WARN DAGScheduler: Broadcasting large task binary with size 21.0 MiB\n",
      "22/07/05 02:21:49 WARN DAGScheduler: Broadcasting large task binary with size 2.6 MiB\n",
      "22/07/05 02:21:50 WARN DAGScheduler: Broadcasting large task binary with size 24.8 MiB\n",
      "22/07/05 02:21:52 WARN MemoryStore: Not enough space to cache rdd_2194_0 in memory! (computed 229.9 MiB so far)\n",
      "22/07/05 02:21:52 WARN BlockManager: Persisting block rdd_2194_0 to disk instead.\n",
      "22/07/05 02:24:09 WARN MemoryStore: Not enough space to cache rdd_2194_0 in memory! (computed 229.9 MiB so far)\n",
      "22/07/05 02:26:19 WARN DAGScheduler: Broadcasting large task binary with size 24.8 MiB\n",
      "22/07/05 02:26:20 WARN MemoryStore: Not enough space to cache rdd_2194_0 in memory! (computed 229.9 MiB so far)\n",
      "22/07/05 02:28:31 WARN DAGScheduler: Broadcasting large task binary with size 24.8 MiB\n",
      "22/07/05 02:28:32 WARN MemoryStore: Not enough space to cache rdd_2194_0 in memory! (computed 229.9 MiB so far)\n",
      "22/07/05 02:30:31 WARN DAGScheduler: Broadcasting large task binary with size 21.0 MiB\n",
      "22/07/05 02:30:32 WARN DAGScheduler: Broadcasting large task binary with size 20.9 MiB\n",
      "22/07/05 02:30:34 WARN DAGScheduler: Broadcasting large task binary with size 21.0 MiB\n",
      "22/07/05 02:30:36 WARN DAGScheduler: Broadcasting large task binary with size 21.0 MiB\n",
      "22/07/05 02:30:37 WARN DAGScheduler: Broadcasting large task binary with size 21.0 MiB\n",
      "22/07/05 02:30:37 WARN DAGScheduler: Broadcasting large task binary with size 2.6 MiB\n",
      "22/07/05 02:30:38 WARN DAGScheduler: Broadcasting large task binary with size 24.8 MiB\n",
      "22/07/05 02:30:40 WARN MemoryStore: Not enough space to cache rdd_2246_0 in memory! (computed 229.9 MiB so far)\n",
      "22/07/05 02:30:40 WARN BlockManager: Persisting block rdd_2246_0 to disk instead.\n",
      "22/07/05 02:32:35 WARN MemoryStore: Not enough space to cache rdd_2246_0 in memory! (computed 229.9 MiB so far)\n",
      "22/07/05 02:34:27 WARN DAGScheduler: Broadcasting large task binary with size 24.8 MiB\n",
      "22/07/05 02:34:29 WARN MemoryStore: Not enough space to cache rdd_2246_0 in memory! (computed 229.9 MiB so far)\n",
      "22/07/05 02:36:18 WARN DAGScheduler: Broadcasting large task binary with size 24.8 MiB\n",
      "22/07/05 02:36:20 WARN MemoryStore: Not enough space to cache rdd_2246_0 in memory! (computed 229.9 MiB so far)\n",
      "22/07/05 02:37:54 WARN DAGScheduler: Broadcasting large task binary with size 24.8 MiB\n",
      "22/07/05 02:37:56 WARN MemoryStore: Not enough space to cache rdd_2246_0 in memory! (computed 229.9 MiB so far)\n",
      "22/07/05 02:39:27 WARN DAGScheduler: Broadcasting large task binary with size 24.8 MiB\n",
      "22/07/05 02:39:29 WARN MemoryStore: Not enough space to cache rdd_2246_0 in memory! (computed 229.9 MiB so far)\n",
      "22/07/05 02:41:13 WARN DAGScheduler: Broadcasting large task binary with size 24.8 MiB\n",
      "22/07/05 02:41:14 WARN MemoryStore: Not enough space to cache rdd_2246_0 in memory! (computed 229.9 MiB so far)\n",
      "22/07/05 02:42:48 WARN DAGScheduler: Broadcasting large task binary with size 24.8 MiB\n",
      "22/07/05 02:42:49 WARN MemoryStore: Not enough space to cache rdd_2246_0 in memory! (computed 229.9 MiB so far)\n",
      "22/07/05 02:44:17 WARN DAGScheduler: Broadcasting large task binary with size 21.0 MiB\n",
      "22/07/05 02:44:19 WARN DAGScheduler: Broadcasting large task binary with size 20.9 MiB\n",
      "22/07/05 02:44:21 WARN DAGScheduler: Broadcasting large task binary with size 21.0 MiB\n",
      "22/07/05 02:44:22 WARN DAGScheduler: Broadcasting large task binary with size 21.0 MiB\n",
      "22/07/05 02:44:23 WARN DAGScheduler: Broadcasting large task binary with size 21.0 MiB\n",
      "22/07/05 02:44:23 WARN DAGScheduler: Broadcasting large task binary with size 2.6 MiB\n",
      "22/07/05 02:44:24 WARN DAGScheduler: Broadcasting large task binary with size 24.8 MiB\n",
      "22/07/05 02:44:26 WARN MemoryStore: Not enough space to cache rdd_2310_0 in memory! (computed 229.9 MiB so far)\n",
      "22/07/05 02:44:26 WARN BlockManager: Persisting block rdd_2310_0 to disk instead.\n",
      "22/07/05 02:46:22 WARN MemoryStore: Not enough space to cache rdd_2310_0 in memory! (computed 229.9 MiB so far)\n",
      "22/07/05 02:48:13 WARN DAGScheduler: Broadcasting large task binary with size 24.8 MiB\n",
      "22/07/05 02:48:15 WARN MemoryStore: Not enough space to cache rdd_2310_0 in memory! (computed 229.9 MiB so far)\n",
      "22/07/05 02:50:09 WARN DAGScheduler: Broadcasting large task binary with size 24.8 MiB\n",
      "22/07/05 02:50:10 WARN MemoryStore: Not enough space to cache rdd_2310_0 in memory! (computed 229.9 MiB so far)\n",
      "22/07/05 02:52:17 WARN DAGScheduler: Broadcasting large task binary with size 24.8 MiB\n",
      "22/07/05 02:52:19 WARN MemoryStore: Not enough space to cache rdd_2310_0 in memory! (computed 229.9 MiB so far)\n",
      "22/07/05 02:54:03 WARN DAGScheduler: Broadcasting large task binary with size 24.8 MiB\n",
      "22/07/05 02:54:05 WARN MemoryStore: Not enough space to cache rdd_2310_0 in memory! (computed 229.9 MiB so far)\n",
      "22/07/05 02:55:43 WARN DAGScheduler: Broadcasting large task binary with size 24.8 MiB\n",
      "22/07/05 02:55:45 WARN MemoryStore: Not enough space to cache rdd_2310_0 in memory! (computed 229.9 MiB so far)\n",
      "22/07/05 02:57:03 WARN DAGScheduler: Broadcasting large task binary with size 24.8 MiB\n",
      "22/07/05 02:57:04 WARN MemoryStore: Not enough space to cache rdd_2310_0 in memory! (computed 229.9 MiB so far)\n",
      "22/07/05 02:58:22 WARN DAGScheduler: Broadcasting large task binary with size 21.0 MiB\n",
      "22/07/05 02:58:23 WARN DAGScheduler: Broadcasting large task binary with size 20.9 MiB\n",
      "22/07/05 02:58:26 WARN DAGScheduler: Broadcasting large task binary with size 21.0 MiB\n",
      "22/07/05 02:58:27 WARN DAGScheduler: Broadcasting large task binary with size 21.0 MiB\n",
      "22/07/05 02:58:28 WARN DAGScheduler: Broadcasting large task binary with size 21.0 MiB\n",
      "22/07/05 02:58:28 WARN DAGScheduler: Broadcasting large task binary with size 2.6 MiB\n",
      "22/07/05 02:58:29 WARN DAGScheduler: Broadcasting large task binary with size 24.8 MiB\n",
      "22/07/05 02:58:31 WARN MemoryStore: Not enough space to cache rdd_2374_0 in memory! (computed 229.9 MiB so far)\n",
      "22/07/05 02:58:31 WARN BlockManager: Persisting block rdd_2374_0 to disk instead.\n",
      "22/07/05 03:00:27 WARN MemoryStore: Not enough space to cache rdd_2374_0 in memory! (computed 229.9 MiB so far)\n",
      "22/07/05 03:02:19 WARN DAGScheduler: Broadcasting large task binary with size 24.8 MiB\n",
      "22/07/05 03:02:20 WARN MemoryStore: Not enough space to cache rdd_2374_0 in memory! (computed 229.9 MiB so far)\n",
      "22/07/05 03:04:10 WARN DAGScheduler: Broadcasting large task binary with size 24.8 MiB\n",
      "22/07/05 03:04:11 WARN MemoryStore: Not enough space to cache rdd_2374_0 in memory! (computed 229.9 MiB so far)\n",
      "22/07/05 03:05:31 WARN DAGScheduler: Broadcasting large task binary with size 24.8 MiB\n",
      "22/07/05 03:05:33 WARN MemoryStore: Not enough space to cache rdd_2374_0 in memory! (computed 229.9 MiB so far)\n",
      "22/07/05 03:07:12 WARN DAGScheduler: Broadcasting large task binary with size 24.8 MiB\n",
      "22/07/05 03:07:14 WARN MemoryStore: Not enough space to cache rdd_2374_0 in memory! (computed 229.9 MiB so far)\n",
      "22/07/05 03:08:48 WARN DAGScheduler: Broadcasting large task binary with size 24.8 MiB\n",
      "22/07/05 03:08:49 WARN MemoryStore: Not enough space to cache rdd_2374_0 in memory! (computed 229.9 MiB so far)\n",
      "22/07/05 03:10:23 WARN DAGScheduler: Broadcasting large task binary with size 24.8 MiB\n",
      "22/07/05 03:10:25 WARN MemoryStore: Not enough space to cache rdd_2374_0 in memory! (computed 229.9 MiB so far)\n",
      "22/07/05 03:12:00 WARN DAGScheduler: Broadcasting large task binary with size 24.8 MiB\n",
      "22/07/05 03:12:01 WARN MemoryStore: Not enough space to cache rdd_2374_0 in memory! (computed 229.9 MiB so far)\n",
      "22/07/05 03:13:31 WARN DAGScheduler: Broadcasting large task binary with size 24.8 MiB\n",
      "22/07/05 03:13:33 WARN MemoryStore: Not enough space to cache rdd_2374_0 in memory! (computed 229.9 MiB so far)\n",
      "22/07/05 03:14:48 WARN DAGScheduler: Broadcasting large task binary with size 21.0 MiB\n",
      "22/07/05 03:14:50 WARN DAGScheduler: Broadcasting large task binary with size 20.9 MiB\n",
      "22/07/05 03:14:52 WARN DAGScheduler: Broadcasting large task binary with size 21.0 MiB\n",
      "22/07/05 03:14:54 WARN DAGScheduler: Broadcasting large task binary with size 21.0 MiB\n",
      "22/07/05 03:14:55 WARN DAGScheduler: Broadcasting large task binary with size 21.0 MiB\n",
      "22/07/05 03:14:56 WARN DAGScheduler: Broadcasting large task binary with size 2.6 MiB\n",
      "22/07/05 03:14:57 WARN DAGScheduler: Broadcasting large task binary with size 24.8 MiB\n",
      "22/07/05 03:14:58 WARN MemoryStore: Not enough space to cache rdd_2444_0 in memory! (computed 229.9 MiB so far)\n",
      "22/07/05 03:14:58 WARN BlockManager: Persisting block rdd_2444_0 to disk instead.\n",
      "22/07/05 03:16:53 WARN MemoryStore: Not enough space to cache rdd_2444_0 in memory! (computed 229.9 MiB so far)\n",
      "22/07/05 03:18:45 WARN DAGScheduler: Broadcasting large task binary with size 24.8 MiB\n",
      "22/07/05 03:18:46 WARN MemoryStore: Not enough space to cache rdd_2444_0 in memory! (computed 229.9 MiB so far)\n",
      "22/07/05 03:20:40 WARN DAGScheduler: Broadcasting large task binary with size 24.8 MiB\n",
      "22/07/05 03:20:41 WARN MemoryStore: Not enough space to cache rdd_2444_0 in memory! (computed 229.9 MiB so far)\n",
      "22/07/05 03:23:00 WARN DAGScheduler: Broadcasting large task binary with size 24.8 MiB\n",
      "22/07/05 03:23:01 WARN MemoryStore: Not enough space to cache rdd_2444_0 in memory! (computed 229.9 MiB so far)\n",
      "22/07/05 03:24:44 WARN DAGScheduler: Broadcasting large task binary with size 24.8 MiB\n",
      "22/07/05 03:24:45 WARN MemoryStore: Not enough space to cache rdd_2444_0 in memory! (computed 229.9 MiB so far)\n",
      "22/07/05 03:26:27 WARN DAGScheduler: Broadcasting large task binary with size 24.8 MiB\n",
      "22/07/05 03:26:28 WARN MemoryStore: Not enough space to cache rdd_2444_0 in memory! (computed 229.9 MiB so far)\n",
      "22/07/05 03:27:47 WARN DAGScheduler: Broadcasting large task binary with size 24.8 MiB\n",
      "22/07/05 03:27:48 WARN MemoryStore: Not enough space to cache rdd_2444_0 in memory! (computed 229.9 MiB so far)\n",
      "22/07/05 03:28:58 WARN DAGScheduler: Broadcasting large task binary with size 24.8 MiB\n",
      "22/07/05 03:28:59 WARN MemoryStore: Not enough space to cache rdd_2444_0 in memory! (computed 229.9 MiB so far)\n",
      "22/07/05 03:30:05 WARN DAGScheduler: Broadcasting large task binary with size 24.8 MiB\n",
      "22/07/05 03:30:06 WARN MemoryStore: Not enough space to cache rdd_2444_0 in memory! (computed 229.9 MiB so far)\n",
      "22/07/05 03:31:07 WARN DAGScheduler: Broadcasting large task binary with size 21.0 MiB\n",
      "22/07/05 03:31:09 WARN DAGScheduler: Broadcasting large task binary with size 20.9 MiB\n",
      "22/07/05 03:31:12 WARN DAGScheduler: Broadcasting large task binary with size 21.0 MiB\n",
      "22/07/05 03:31:13 WARN DAGScheduler: Broadcasting large task binary with size 21.0 MiB\n",
      "22/07/05 03:31:14 WARN DAGScheduler: Broadcasting large task binary with size 21.0 MiB\n",
      "22/07/05 03:31:15 WARN DAGScheduler: Broadcasting large task binary with size 2.6 MiB\n",
      "22/07/05 03:31:16 WARN DAGScheduler: Broadcasting large task binary with size 24.8 MiB\n",
      "22/07/05 03:31:18 WARN MemoryStore: Not enough space to cache rdd_2519_0 in memory! (computed 229.9 MiB so far)\n",
      "22/07/05 03:31:18 WARN BlockManager: Persisting block rdd_2519_0 to disk instead.\n",
      "22/07/05 03:33:14 WARN MemoryStore: Not enough space to cache rdd_2519_0 in memory! (computed 229.9 MiB so far)\n",
      "22/07/05 03:35:05 WARN DAGScheduler: Broadcasting large task binary with size 24.8 MiB\n",
      "22/07/05 03:35:06 WARN MemoryStore: Not enough space to cache rdd_2519_0 in memory! (computed 229.9 MiB so far)\n",
      "22/07/05 03:37:20 WARN DAGScheduler: Broadcasting large task binary with size 24.8 MiB\n",
      "22/07/05 03:37:22 WARN MemoryStore: Not enough space to cache rdd_2519_0 in memory! (computed 229.9 MiB so far)\n",
      "22/07/05 03:38:59 WARN DAGScheduler: Broadcasting large task binary with size 21.0 MiB\n",
      "22/07/05 03:39:01 WARN DAGScheduler: Broadcasting large task binary with size 20.9 MiB\n",
      "22/07/05 03:39:04 WARN DAGScheduler: Broadcasting large task binary with size 21.0 MiB\n",
      "22/07/05 03:39:06 WARN DAGScheduler: Broadcasting large task binary with size 21.0 MiB\n",
      "22/07/05 03:39:07 WARN DAGScheduler: Broadcasting large task binary with size 21.0 MiB\n",
      "22/07/05 03:39:08 WARN DAGScheduler: Broadcasting large task binary with size 2.6 MiB\n",
      "22/07/05 03:39:09 WARN DAGScheduler: Broadcasting large task binary with size 24.8 MiB\n",
      "22/07/05 03:39:10 WARN MemoryStore: Not enough space to cache rdd_2576_0 in memory! (computed 229.9 MiB so far)\n",
      "22/07/05 03:39:10 WARN BlockManager: Persisting block rdd_2576_0 to disk instead.\n",
      "22/07/05 03:41:21 WARN MemoryStore: Not enough space to cache rdd_2576_0 in memory! (computed 229.9 MiB so far)\n",
      "22/07/05 03:43:25 WARN DAGScheduler: Broadcasting large task binary with size 24.8 MiB\n",
      "22/07/05 03:43:26 WARN MemoryStore: Not enough space to cache rdd_2576_0 in memory! (computed 229.9 MiB so far)\n",
      "22/07/05 03:45:18 WARN DAGScheduler: Broadcasting large task binary with size 24.8 MiB\n",
      "22/07/05 03:45:19 WARN MemoryStore: Not enough space to cache rdd_2576_0 in memory! (computed 229.9 MiB so far)\n",
      "22/07/05 03:47:12 WARN DAGScheduler: Broadcasting large task binary with size 21.0 MiB\n",
      "22/07/05 03:47:14 WARN DAGScheduler: Broadcasting large task binary with size 20.9 MiB\n",
      "22/07/05 03:47:16 WARN DAGScheduler: Broadcasting large task binary with size 21.0 MiB\n",
      "22/07/05 03:47:17 WARN DAGScheduler: Broadcasting large task binary with size 21.0 MiB\n",
      "22/07/05 03:47:18 WARN DAGScheduler: Broadcasting large task binary with size 21.0 MiB\n",
      "22/07/05 03:47:19 WARN DAGScheduler: Broadcasting large task binary with size 2.6 MiB\n",
      "22/07/05 03:47:20 WARN DAGScheduler: Broadcasting large task binary with size 24.8 MiB\n",
      "22/07/05 03:47:22 WARN MemoryStore: Not enough space to cache rdd_2628_0 in memory! (computed 229.9 MiB so far)\n",
      "22/07/05 03:47:22 WARN BlockManager: Persisting block rdd_2628_0 to disk instead.\n",
      "22/07/05 03:49:17 WARN MemoryStore: Not enough space to cache rdd_2628_0 in memory! (computed 229.9 MiB so far)\n",
      "22/07/05 03:51:29 WARN DAGScheduler: Broadcasting large task binary with size 24.8 MiB\n",
      "22/07/05 03:51:31 WARN MemoryStore: Not enough space to cache rdd_2628_0 in memory! (computed 229.9 MiB so far)\n",
      "22/07/05 03:53:46 WARN DAGScheduler: Broadcasting large task binary with size 24.8 MiB\n",
      "22/07/05 03:53:47 WARN MemoryStore: Not enough space to cache rdd_2628_0 in memory! (computed 229.9 MiB so far)\n",
      "22/07/05 03:55:23 WARN DAGScheduler: Broadcasting large task binary with size 24.8 MiB\n",
      "22/07/05 03:55:24 WARN MemoryStore: Not enough space to cache rdd_2628_0 in memory! (computed 229.9 MiB so far)\n",
      "22/07/05 03:56:53 WARN DAGScheduler: Broadcasting large task binary with size 24.8 MiB\n",
      "22/07/05 03:56:54 WARN MemoryStore: Not enough space to cache rdd_2628_0 in memory! (computed 229.9 MiB so far)\n",
      "22/07/05 03:58:14 WARN DAGScheduler: Broadcasting large task binary with size 24.8 MiB\n",
      "22/07/05 03:58:16 WARN MemoryStore: Not enough space to cache rdd_2628_0 in memory! (computed 229.9 MiB so far)\n"
     ]
    },
    {
     "name": "stderr",
     "output_type": "stream",
     "text": [
      "22/07/05 03:59:36 WARN DAGScheduler: Broadcasting large task binary with size 24.8 MiB\n",
      "22/07/05 03:59:37 WARN MemoryStore: Not enough space to cache rdd_2628_0 in memory! (computed 229.9 MiB so far)\n",
      "22/07/05 04:00:56 WARN DAGScheduler: Broadcasting large task binary with size 21.0 MiB\n",
      "22/07/05 04:00:57 WARN DAGScheduler: Broadcasting large task binary with size 20.9 MiB\n",
      "22/07/05 04:00:59 WARN DAGScheduler: Broadcasting large task binary with size 21.0 MiB\n",
      "22/07/05 04:01:00 WARN DAGScheduler: Broadcasting large task binary with size 21.0 MiB\n",
      "22/07/05 04:01:02 WARN DAGScheduler: Broadcasting large task binary with size 21.0 MiB\n",
      "22/07/05 04:01:03 WARN DAGScheduler: Broadcasting large task binary with size 2.6 MiB\n",
      "22/07/05 04:01:04 WARN DAGScheduler: Broadcasting large task binary with size 24.8 MiB\n",
      "22/07/05 04:01:05 WARN MemoryStore: Not enough space to cache rdd_2692_0 in memory! (computed 229.9 MiB so far)\n",
      "22/07/05 04:01:05 WARN BlockManager: Persisting block rdd_2692_0 to disk instead.\n",
      "22/07/05 04:03:01 WARN MemoryStore: Not enough space to cache rdd_2692_0 in memory! (computed 229.9 MiB so far)\n",
      "22/07/05 04:04:59 WARN DAGScheduler: Broadcasting large task binary with size 24.8 MiB\n",
      "22/07/05 04:05:01 WARN MemoryStore: Not enough space to cache rdd_2692_0 in memory! (computed 229.9 MiB so far)\n",
      "22/07/05 04:07:16 WARN DAGScheduler: Broadcasting large task binary with size 24.8 MiB\n",
      "22/07/05 04:07:18 WARN MemoryStore: Not enough space to cache rdd_2692_0 in memory! (computed 229.9 MiB so far)\n",
      "22/07/05 04:09:35 WARN DAGScheduler: Broadcasting large task binary with size 24.8 MiB\n",
      "22/07/05 04:09:36 WARN MemoryStore: Not enough space to cache rdd_2692_0 in memory! (computed 229.9 MiB so far)\n",
      "22/07/05 04:11:22 WARN DAGScheduler: Broadcasting large task binary with size 24.8 MiB\n",
      "22/07/05 04:11:23 WARN MemoryStore: Not enough space to cache rdd_2692_0 in memory! (computed 229.9 MiB so far)\n",
      "22/07/05 04:12:54 WARN DAGScheduler: Broadcasting large task binary with size 24.8 MiB\n",
      "22/07/05 04:12:54 WARN MemoryStore: Not enough space to cache rdd_2692_0 in memory! (computed 229.9 MiB so far)\n",
      "22/07/05 04:14:22 WARN DAGScheduler: Broadcasting large task binary with size 24.8 MiB\n",
      "22/07/05 04:14:23 WARN MemoryStore: Not enough space to cache rdd_2692_0 in memory! (computed 229.9 MiB so far)\n",
      "22/07/05 04:15:51 WARN DAGScheduler: Broadcasting large task binary with size 21.0 MiB\n",
      "22/07/05 04:15:52 WARN DAGScheduler: Broadcasting large task binary with size 20.9 MiB\n",
      "22/07/05 04:15:54 WARN DAGScheduler: Broadcasting large task binary with size 21.0 MiB\n",
      "22/07/05 04:15:55 WARN DAGScheduler: Broadcasting large task binary with size 21.0 MiB\n",
      "22/07/05 04:15:57 WARN DAGScheduler: Broadcasting large task binary with size 21.0 MiB\n",
      "22/07/05 04:15:57 WARN DAGScheduler: Broadcasting large task binary with size 2.6 MiB\n",
      "22/07/05 04:15:58 WARN DAGScheduler: Broadcasting large task binary with size 24.8 MiB\n",
      "22/07/05 04:15:59 WARN MemoryStore: Not enough space to cache rdd_2756_0 in memory! (computed 229.9 MiB so far)\n",
      "22/07/05 04:15:59 WARN BlockManager: Persisting block rdd_2756_0 to disk instead.\n",
      "22/07/05 04:17:57 WARN MemoryStore: Not enough space to cache rdd_2756_0 in memory! (computed 229.9 MiB so far)\n",
      "22/07/05 04:19:57 WARN DAGScheduler: Broadcasting large task binary with size 24.8 MiB\n",
      "22/07/05 04:19:59 WARN MemoryStore: Not enough space to cache rdd_2756_0 in memory! (computed 229.9 MiB so far)\n",
      "22/07/05 04:22:11 WARN DAGScheduler: Broadcasting large task binary with size 24.8 MiB\n",
      "22/07/05 04:22:13 WARN MemoryStore: Not enough space to cache rdd_2756_0 in memory! (computed 229.9 MiB so far)\n",
      "22/07/05 04:23:47 WARN DAGScheduler: Broadcasting large task binary with size 24.8 MiB\n",
      "22/07/05 04:23:49 WARN MemoryStore: Not enough space to cache rdd_2756_0 in memory! (computed 229.9 MiB so far)\n",
      "22/07/05 04:25:20 WARN DAGScheduler: Broadcasting large task binary with size 24.8 MiB\n",
      "22/07/05 04:25:22 WARN MemoryStore: Not enough space to cache rdd_2756_0 in memory! (computed 229.9 MiB so far)\n",
      "22/07/05 04:26:53 WARN DAGScheduler: Broadcasting large task binary with size 24.8 MiB\n",
      "22/07/05 04:26:54 WARN MemoryStore: Not enough space to cache rdd_2756_0 in memory! (computed 229.9 MiB so far)\n",
      "22/07/05 04:28:16 WARN DAGScheduler: Broadcasting large task binary with size 24.8 MiB\n",
      "22/07/05 04:28:17 WARN MemoryStore: Not enough space to cache rdd_2756_0 in memory! (computed 229.9 MiB so far)\n",
      "22/07/05 04:29:34 WARN DAGScheduler: Broadcasting large task binary with size 24.8 MiB\n",
      "22/07/05 04:29:35 WARN MemoryStore: Not enough space to cache rdd_2756_0 in memory! (computed 229.9 MiB so far)\n",
      "22/07/05 04:30:49 WARN DAGScheduler: Broadcasting large task binary with size 24.8 MiB\n",
      "22/07/05 04:30:50 WARN MemoryStore: Not enough space to cache rdd_2756_0 in memory! (computed 229.9 MiB so far)\n",
      "22/07/05 04:32:07 WARN DAGScheduler: Broadcasting large task binary with size 21.0 MiB\n",
      "22/07/05 04:32:08 WARN DAGScheduler: Broadcasting large task binary with size 20.9 MiB\n",
      "22/07/05 04:32:10 WARN DAGScheduler: Broadcasting large task binary with size 21.0 MiB\n",
      "22/07/05 04:32:11 WARN DAGScheduler: Broadcasting large task binary with size 21.0 MiB\n",
      "22/07/05 04:32:12 WARN DAGScheduler: Broadcasting large task binary with size 21.0 MiB\n",
      "22/07/05 04:32:13 WARN DAGScheduler: Broadcasting large task binary with size 2.6 MiB\n",
      "22/07/05 04:32:14 WARN DAGScheduler: Broadcasting large task binary with size 24.8 MiB\n",
      "22/07/05 04:32:16 WARN MemoryStore: Not enough space to cache rdd_2826_0 in memory! (computed 229.9 MiB so far)\n",
      "22/07/05 04:32:16 WARN BlockManager: Persisting block rdd_2826_0 to disk instead.\n",
      "22/07/05 04:34:18 WARN MemoryStore: Not enough space to cache rdd_2826_0 in memory! (computed 229.9 MiB so far)\n",
      "22/07/05 04:36:34 WARN DAGScheduler: Broadcasting large task binary with size 24.8 MiB\n",
      "22/07/05 04:36:35 WARN MemoryStore: Not enough space to cache rdd_2826_0 in memory! (computed 229.9 MiB so far)\n",
      "22/07/05 04:38:50 WARN DAGScheduler: Broadcasting large task binary with size 24.8 MiB\n",
      "22/07/05 04:38:51 WARN MemoryStore: Not enough space to cache rdd_2826_0 in memory! (computed 229.9 MiB so far)\n",
      "22/07/05 04:41:03 WARN DAGScheduler: Broadcasting large task binary with size 24.8 MiB\n",
      "22/07/05 04:41:05 WARN MemoryStore: Not enough space to cache rdd_2826_0 in memory! (computed 229.9 MiB so far)\n",
      "22/07/05 04:42:36 WARN DAGScheduler: Broadcasting large task binary with size 24.8 MiB\n",
      "22/07/05 04:42:37 WARN MemoryStore: Not enough space to cache rdd_2826_0 in memory! (computed 229.9 MiB so far)\n",
      "22/07/05 04:44:03 WARN DAGScheduler: Broadcasting large task binary with size 24.8 MiB\n",
      "22/07/05 04:44:04 WARN MemoryStore: Not enough space to cache rdd_2826_0 in memory! (computed 229.9 MiB so far)\n",
      "22/07/05 04:45:32 WARN DAGScheduler: Broadcasting large task binary with size 24.8 MiB\n",
      "22/07/05 04:45:34 WARN MemoryStore: Not enough space to cache rdd_2826_0 in memory! (computed 229.9 MiB so far)\n",
      "22/07/05 04:47:02 WARN DAGScheduler: Broadcasting large task binary with size 24.8 MiB\n",
      "22/07/05 04:47:03 WARN MemoryStore: Not enough space to cache rdd_2826_0 in memory! (computed 229.9 MiB so far)\n",
      "22/07/05 04:48:03 WARN DAGScheduler: Broadcasting large task binary with size 24.8 MiB\n",
      "22/07/05 04:48:04 WARN MemoryStore: Not enough space to cache rdd_2826_0 in memory! (computed 229.9 MiB so far)\n",
      "22/07/05 04:49:21 WARN DAGScheduler: Broadcasting large task binary with size 21.0 MiB\n",
      "22/07/05 04:49:24 WARN DAGScheduler: Broadcasting large task binary with size 20.9 MiB\n",
      "22/07/05 04:49:28 WARN DAGScheduler: Broadcasting large task binary with size 21.0 MiB\n",
      "22/07/05 04:49:29 WARN DAGScheduler: Broadcasting large task binary with size 21.0 MiB\n",
      "22/07/05 04:49:30 WARN DAGScheduler: Broadcasting large task binary with size 21.0 MiB\n",
      "22/07/05 04:49:31 WARN DAGScheduler: Broadcasting large task binary with size 2.6 MiB\n",
      "22/07/05 04:49:33 WARN DAGScheduler: Broadcasting large task binary with size 24.8 MiB\n",
      "22/07/05 04:49:34 WARN MemoryStore: Not enough space to cache rdd_2901_0 in memory! (computed 229.9 MiB so far)\n",
      "22/07/05 04:49:34 WARN BlockManager: Persisting block rdd_2901_0 to disk instead.\n",
      "22/07/05 04:51:45 WARN MemoryStore: Not enough space to cache rdd_2901_0 in memory! (computed 229.9 MiB so far)\n",
      "22/07/05 04:53:56 WARN DAGScheduler: Broadcasting large task binary with size 24.8 MiB\n",
      "22/07/05 04:53:57 WARN MemoryStore: Not enough space to cache rdd_2901_0 in memory! (computed 229.9 MiB so far)\n",
      "22/07/05 04:56:04 WARN DAGScheduler: Broadcasting large task binary with size 24.8 MiB\n",
      "22/07/05 04:56:05 WARN MemoryStore: Not enough space to cache rdd_2901_0 in memory! (computed 229.9 MiB so far)\n",
      "22/07/05 04:57:27 WARN DAGScheduler: Broadcasting large task binary with size 21.0 MiB\n",
      "22/07/05 04:57:30 WARN DAGScheduler: Broadcasting large task binary with size 20.9 MiB\n",
      "22/07/05 04:57:32 WARN DAGScheduler: Broadcasting large task binary with size 21.0 MiB\n",
      "22/07/05 04:57:34 WARN DAGScheduler: Broadcasting large task binary with size 21.0 MiB\n",
      "22/07/05 04:57:35 WARN DAGScheduler: Broadcasting large task binary with size 21.0 MiB\n",
      "22/07/05 04:57:36 WARN DAGScheduler: Broadcasting large task binary with size 2.6 MiB\n",
      "22/07/05 04:57:37 WARN DAGScheduler: Broadcasting large task binary with size 24.8 MiB\n",
      "22/07/05 04:57:38 WARN MemoryStore: Not enough space to cache rdd_2958_0 in memory! (computed 229.9 MiB so far)\n",
      "22/07/05 04:57:38 WARN BlockManager: Persisting block rdd_2958_0 to disk instead.\n",
      "22/07/05 04:59:36 WARN MemoryStore: Not enough space to cache rdd_2958_0 in memory! (computed 229.9 MiB so far)\n",
      "22/07/05 05:01:25 WARN DAGScheduler: Broadcasting large task binary with size 24.8 MiB\n",
      "22/07/05 05:01:26 WARN MemoryStore: Not enough space to cache rdd_2958_0 in memory! (computed 229.9 MiB so far)\n",
      "22/07/05 05:03:21 WARN DAGScheduler: Broadcasting large task binary with size 24.8 MiB\n",
      "22/07/05 05:03:22 WARN MemoryStore: Not enough space to cache rdd_2958_0 in memory! (computed 229.9 MiB so far)\n",
      "22/07/05 05:05:37 WARN DAGScheduler: Broadcasting large task binary with size 21.0 MiB\n",
      "22/07/05 05:05:38 WARN DAGScheduler: Broadcasting large task binary with size 20.9 MiB\n",
      "22/07/05 05:05:41 WARN DAGScheduler: Broadcasting large task binary with size 21.0 MiB\n",
      "22/07/05 05:05:42 WARN DAGScheduler: Broadcasting large task binary with size 21.0 MiB\n",
      "22/07/05 05:05:44 WARN DAGScheduler: Broadcasting large task binary with size 21.0 MiB\n",
      "22/07/05 05:05:46 WARN DAGScheduler: Broadcasting large task binary with size 2.6 MiB\n",
      "22/07/05 05:05:47 WARN DAGScheduler: Broadcasting large task binary with size 24.8 MiB\n",
      "22/07/05 05:05:49 WARN MemoryStore: Not enough space to cache rdd_3010_0 in memory! (computed 229.9 MiB so far)\n",
      "22/07/05 05:05:49 WARN BlockManager: Persisting block rdd_3010_0 to disk instead.\n",
      "22/07/05 05:07:58 WARN MemoryStore: Not enough space to cache rdd_3010_0 in memory! (computed 229.9 MiB so far)\n",
      "22/07/05 05:10:07 WARN DAGScheduler: Broadcasting large task binary with size 24.8 MiB\n",
      "22/07/05 05:10:08 WARN MemoryStore: Not enough space to cache rdd_3010_0 in memory! (computed 229.9 MiB so far)\n",
      "22/07/05 05:12:03 WARN DAGScheduler: Broadcasting large task binary with size 24.8 MiB\n",
      "22/07/05 05:12:05 WARN MemoryStore: Not enough space to cache rdd_3010_0 in memory! (computed 229.9 MiB so far)\n",
      "22/07/05 05:13:28 WARN DAGScheduler: Broadcasting large task binary with size 24.8 MiB\n",
      "22/07/05 05:13:29 WARN MemoryStore: Not enough space to cache rdd_3010_0 in memory! (computed 229.9 MiB so far)\n",
      "22/07/05 05:14:49 WARN DAGScheduler: Broadcasting large task binary with size 24.8 MiB\n",
      "22/07/05 05:14:50 WARN MemoryStore: Not enough space to cache rdd_3010_0 in memory! (computed 229.9 MiB so far)\n",
      "22/07/05 05:16:10 WARN DAGScheduler: Broadcasting large task binary with size 24.8 MiB\n",
      "22/07/05 05:16:11 WARN MemoryStore: Not enough space to cache rdd_3010_0 in memory! (computed 229.9 MiB so far)\n",
      "22/07/05 05:17:39 WARN DAGScheduler: Broadcasting large task binary with size 24.8 MiB\n",
      "22/07/05 05:17:41 WARN MemoryStore: Not enough space to cache rdd_3010_0 in memory! (computed 229.9 MiB so far)\n",
      "22/07/05 05:19:21 WARN DAGScheduler: Broadcasting large task binary with size 21.0 MiB\n",
      "22/07/05 05:19:23 WARN DAGScheduler: Broadcasting large task binary with size 20.9 MiB\n",
      "22/07/05 05:19:26 WARN DAGScheduler: Broadcasting large task binary with size 21.0 MiB\n",
      "22/07/05 05:19:28 WARN DAGScheduler: Broadcasting large task binary with size 21.0 MiB\n",
      "22/07/05 05:19:29 WARN DAGScheduler: Broadcasting large task binary with size 21.0 MiB\n",
      "22/07/05 05:19:30 WARN DAGScheduler: Broadcasting large task binary with size 2.6 MiB\n",
      "22/07/05 05:19:31 WARN DAGScheduler: Broadcasting large task binary with size 24.8 MiB\n",
      "22/07/05 05:19:33 WARN MemoryStore: Not enough space to cache rdd_3074_0 in memory! (computed 229.9 MiB so far)\n",
      "22/07/05 05:19:33 WARN BlockManager: Persisting block rdd_3074_0 to disk instead.\n",
      "22/07/05 05:21:44 WARN MemoryStore: Not enough space to cache rdd_3074_0 in memory! (computed 229.9 MiB so far)\n",
      "22/07/05 05:23:56 WARN DAGScheduler: Broadcasting large task binary with size 24.8 MiB\n",
      "22/07/05 05:23:58 WARN MemoryStore: Not enough space to cache rdd_3074_0 in memory! (computed 229.9 MiB so far)\n",
      "22/07/05 05:25:55 WARN DAGScheduler: Broadcasting large task binary with size 24.8 MiB\n",
      "22/07/05 05:25:57 WARN MemoryStore: Not enough space to cache rdd_3074_0 in memory! (computed 229.9 MiB so far)\n",
      "22/07/05 05:27:52 WARN DAGScheduler: Broadcasting large task binary with size 24.8 MiB\n",
      "22/07/05 05:27:54 WARN MemoryStore: Not enough space to cache rdd_3074_0 in memory! (computed 229.9 MiB so far)\n",
      "22/07/05 05:29:22 WARN DAGScheduler: Broadcasting large task binary with size 24.8 MiB\n",
      "22/07/05 05:29:24 WARN MemoryStore: Not enough space to cache rdd_3074_0 in memory! (computed 229.9 MiB so far)\n",
      "22/07/05 05:30:51 WARN DAGScheduler: Broadcasting large task binary with size 24.8 MiB\n",
      "22/07/05 05:30:52 WARN MemoryStore: Not enough space to cache rdd_3074_0 in memory! (computed 229.9 MiB so far)\n",
      "22/07/05 05:32:20 WARN DAGScheduler: Broadcasting large task binary with size 24.8 MiB\n",
      "22/07/05 05:32:22 WARN MemoryStore: Not enough space to cache rdd_3074_0 in memory! (computed 229.9 MiB so far)\n",
      "22/07/05 05:34:09 WARN DAGScheduler: Broadcasting large task binary with size 21.0 MiB\n",
      "22/07/05 05:34:11 WARN DAGScheduler: Broadcasting large task binary with size 20.9 MiB\n",
      "22/07/05 05:34:14 WARN DAGScheduler: Broadcasting large task binary with size 21.0 MiB\n",
      "22/07/05 05:34:15 WARN DAGScheduler: Broadcasting large task binary with size 21.0 MiB\n",
      "22/07/05 05:34:16 WARN DAGScheduler: Broadcasting large task binary with size 21.0 MiB\n",
      "22/07/05 05:34:17 WARN DAGScheduler: Broadcasting large task binary with size 2.6 MiB\n",
      "22/07/05 05:34:18 WARN DAGScheduler: Broadcasting large task binary with size 24.8 MiB\n",
      "22/07/05 05:34:20 WARN MemoryStore: Not enough space to cache rdd_3138_0 in memory! (computed 229.9 MiB so far)\n",
      "22/07/05 05:34:20 WARN BlockManager: Persisting block rdd_3138_0 to disk instead.\n",
      "22/07/05 05:36:32 WARN MemoryStore: Not enough space to cache rdd_3138_0 in memory! (computed 229.9 MiB so far)\n",
      "22/07/05 05:38:42 WARN DAGScheduler: Broadcasting large task binary with size 24.8 MiB\n",
      "22/07/05 05:38:44 WARN MemoryStore: Not enough space to cache rdd_3138_0 in memory! (computed 229.9 MiB so far)\n",
      "22/07/05 05:40:43 WARN DAGScheduler: Broadcasting large task binary with size 24.8 MiB\n",
      "22/07/05 05:40:45 WARN MemoryStore: Not enough space to cache rdd_3138_0 in memory! (computed 229.9 MiB so far)\n",
      "22/07/05 05:42:06 WARN DAGScheduler: Broadcasting large task binary with size 24.8 MiB\n",
      "22/07/05 05:42:07 WARN MemoryStore: Not enough space to cache rdd_3138_0 in memory! (computed 229.9 MiB so far)\n",
      "22/07/05 05:43:25 WARN DAGScheduler: Broadcasting large task binary with size 24.8 MiB\n",
      "22/07/05 05:43:27 WARN MemoryStore: Not enough space to cache rdd_3138_0 in memory! (computed 229.9 MiB so far)\n",
      "22/07/05 05:44:46 WARN DAGScheduler: Broadcasting large task binary with size 24.8 MiB\n",
      "22/07/05 05:44:47 WARN MemoryStore: Not enough space to cache rdd_3138_0 in memory! (computed 229.9 MiB so far)\n",
      "22/07/05 05:46:10 WARN DAGScheduler: Broadcasting large task binary with size 24.8 MiB\n",
      "22/07/05 05:46:11 WARN MemoryStore: Not enough space to cache rdd_3138_0 in memory! (computed 229.9 MiB so far)\n"
     ]
    },
    {
     "name": "stderr",
     "output_type": "stream",
     "text": [
      "22/07/05 05:47:38 WARN DAGScheduler: Broadcasting large task binary with size 24.8 MiB\n",
      "22/07/05 05:47:39 WARN MemoryStore: Not enough space to cache rdd_3138_0 in memory! (computed 229.9 MiB so far)\n",
      "22/07/05 05:49:21 WARN DAGScheduler: Broadcasting large task binary with size 24.8 MiB\n",
      "22/07/05 05:49:23 WARN MemoryStore: Not enough space to cache rdd_3138_0 in memory! (computed 229.9 MiB so far)\n",
      "22/07/05 05:51:01 WARN DAGScheduler: Broadcasting large task binary with size 21.0 MiB\n",
      "22/07/05 05:51:03 WARN DAGScheduler: Broadcasting large task binary with size 20.9 MiB\n",
      "22/07/05 05:51:06 WARN DAGScheduler: Broadcasting large task binary with size 21.0 MiB\n",
      "22/07/05 05:51:07 WARN DAGScheduler: Broadcasting large task binary with size 21.0 MiB\n",
      "22/07/05 05:51:09 WARN DAGScheduler: Broadcasting large task binary with size 21.0 MiB\n",
      "22/07/05 05:51:10 WARN DAGScheduler: Broadcasting large task binary with size 2.6 MiB\n",
      "22/07/05 05:51:11 WARN DAGScheduler: Broadcasting large task binary with size 24.8 MiB\n",
      "22/07/05 05:51:12 WARN MemoryStore: Not enough space to cache rdd_3208_0 in memory! (computed 229.9 MiB so far)\n",
      "22/07/05 05:51:12 WARN BlockManager: Persisting block rdd_3208_0 to disk instead.\n",
      "22/07/05 05:53:22 WARN MemoryStore: Not enough space to cache rdd_3208_0 in memory! (computed 229.9 MiB so far)\n",
      "22/07/05 05:55:21 WARN DAGScheduler: Broadcasting large task binary with size 24.8 MiB\n",
      "22/07/05 05:55:22 WARN MemoryStore: Not enough space to cache rdd_3208_0 in memory! (computed 229.9 MiB so far)\n",
      "22/07/05 05:57:15 WARN DAGScheduler: Broadcasting large task binary with size 24.8 MiB\n",
      "22/07/05 05:57:15 WARN MemoryStore: Not enough space to cache rdd_3208_0 in memory! (computed 229.9 MiB so far)\n",
      "22/07/05 05:59:10 WARN DAGScheduler: Broadcasting large task binary with size 24.8 MiB\n",
      "22/07/05 05:59:11 WARN MemoryStore: Not enough space to cache rdd_3208_0 in memory! (computed 229.9 MiB so far)\n",
      "22/07/05 06:00:39 WARN DAGScheduler: Broadcasting large task binary with size 24.8 MiB\n",
      "22/07/05 06:00:40 WARN MemoryStore: Not enough space to cache rdd_3208_0 in memory! (computed 229.9 MiB so far)\n",
      "22/07/05 06:02:07 WARN DAGScheduler: Broadcasting large task binary with size 24.8 MiB\n",
      "22/07/05 06:02:08 WARN MemoryStore: Not enough space to cache rdd_3208_0 in memory! (computed 229.9 MiB so far)\n",
      "22/07/05 06:03:53 WARN DAGScheduler: Broadcasting large task binary with size 24.8 MiB\n",
      "22/07/05 06:03:55 WARN MemoryStore: Not enough space to cache rdd_3208_0 in memory! (computed 229.9 MiB so far)\n",
      "22/07/05 06:05:35 WARN DAGScheduler: Broadcasting large task binary with size 24.8 MiB\n",
      "22/07/05 06:05:36 WARN MemoryStore: Not enough space to cache rdd_3208_0 in memory! (computed 229.9 MiB so far)\n",
      "22/07/05 06:06:55 WARN DAGScheduler: Broadcasting large task binary with size 24.8 MiB\n",
      "22/07/05 06:06:57 WARN MemoryStore: Not enough space to cache rdd_3208_0 in memory! (computed 229.9 MiB so far)\n",
      "22/07/05 06:08:11 WARN DAGScheduler: Broadcasting large task binary with size 21.0 MiB\n",
      "22/07/05 06:08:14 WARN DAGScheduler: Broadcasting large task binary with size 14.6 MiB\n",
      "22/07/05 06:08:15 WARN DAGScheduler: Broadcasting large task binary with size 14.6 MiB\n",
      "22/07/05 06:08:18 WARN DAGScheduler: Broadcasting large task binary with size 14.6 MiB\n",
      "22/07/05 06:08:19 WARN DAGScheduler: Broadcasting large task binary with size 2.6 MiB\n",
      "22/07/05 06:08:20 WARN DAGScheduler: Broadcasting large task binary with size 18.4 MiB\n",
      "22/07/05 06:08:22 WARN MemoryStore: Not enough space to cache rdd_3275_0 in memory! (computed 345.8 MiB so far)\n",
      "22/07/05 06:08:22 WARN BlockManager: Persisting block rdd_3275_0 to disk instead.\n",
      "22/07/05 06:11:25 WARN MemoryStore: Not enough space to cache rdd_3275_0 in memory! (computed 345.8 MiB so far)\n",
      "22/07/05 06:14:13 WARN DAGScheduler: Broadcasting large task binary with size 18.4 MiB\n",
      "22/07/05 06:14:15 WARN MemoryStore: Not enough space to cache rdd_3275_0 in memory! (computed 345.8 MiB so far)\n",
      "22/07/05 06:17:03 WARN DAGScheduler: Broadcasting large task binary with size 18.4 MiB\n",
      "22/07/05 06:17:04 WARN MemoryStore: Not enough space to cache rdd_3275_0 in memory! (computed 345.8 MiB so far)\n",
      "22/07/05 06:19:34 WARN DAGScheduler: Broadcasting large task binary with size 18.4 MiB\n",
      "22/07/05 06:19:36 WARN MemoryStore: Not enough space to cache rdd_3275_0 in memory! (computed 345.8 MiB so far)\n",
      "22/07/05 06:21:56 WARN DAGScheduler: Broadcasting large task binary with size 18.4 MiB\n",
      "22/07/05 06:21:58 WARN MemoryStore: Not enough space to cache rdd_3275_0 in memory! (computed 345.8 MiB so far)\n",
      "22/07/05 06:24:13 WARN DAGScheduler: Broadcasting large task binary with size 18.4 MiB\n",
      "22/07/05 06:24:15 WARN MemoryStore: Not enough space to cache rdd_3275_0 in memory! (computed 345.8 MiB so far)\n",
      "22/07/05 06:26:15 WARN DAGScheduler: Broadcasting large task binary with size 18.4 MiB\n",
      "22/07/05 06:26:16 WARN MemoryStore: Not enough space to cache rdd_3275_0 in memory! (computed 345.8 MiB so far)\n",
      "22/07/05 06:28:14 WARN DAGScheduler: Broadcasting large task binary with size 18.4 MiB\n",
      "22/07/05 06:28:15 WARN MemoryStore: Not enough space to cache rdd_3275_0 in memory! (computed 345.8 MiB so far)\n",
      "22/07/05 06:30:15 WARN DAGScheduler: Broadcasting large task binary with size 18.5 MiB\n",
      "22/07/05 06:30:17 WARN MemoryStore: Not enough space to cache rdd_3275_0 in memory! (computed 345.8 MiB so far)\n",
      "                                                                                \r"
     ]
    }
   ],
   "source": [
    "paramGrid = (ParamGridBuilder()\n",
    ".addGrid(dt.maxDepth, [3,7,9])\n",
    ".addGrid(dt.impurity, [\"gini\", \"entropy\"]).build())\n",
    "\n",
    "CV = CrossValidator(estimator=dt, estimatorParamMaps=paramGrid,\n",
    "                    evaluator=evaluator,numFolds=3)\n",
    "CVModel = CV.fit(df)"
   ]
  },
  {
   "cell_type": "code",
   "execution_count": 68,
   "id": "02084df3",
   "metadata": {},
   "outputs": [
    {
     "name": "stdout",
     "output_type": "stream",
     "text": [
      "maxDepth: 9\n",
      "minInstancesPerNode: gini\n"
     ]
    }
   ],
   "source": [
    "#Vemos cuales son los parámetros del mejor modelo\n",
    "Model_dtbest = CVModel.bestModel\n",
    "print(\"maxDepth:\",Model_dtbest.getMaxDepth())\n",
    "print(\"minInstancesPerNode:\", Model_dtbest.getImpurity())"
   ]
  },
  {
   "cell_type": "markdown",
   "id": "39baf41b",
   "metadata": {},
   "source": [
    "Por lo tanto ya hemos encontrado los hiperparámetros que buscábamos."
   ]
  },
  {
   "cell_type": "markdown",
   "id": "31bda643",
   "metadata": {},
   "source": [
    "# APRENDIZAJE NO SUPERVISADO"
   ]
  },
  {
   "cell_type": "markdown",
   "id": "c7db6479",
   "metadata": {},
   "source": [
    "Ahora analizaremos los siguientes algoritmos de Aprendizaje No Supervisado: K-means, Bisecting K-means, Gaussian Mixture Models y Power Iteration CLustering con el Dataset de segmentación de clientes que hemos explorado con anterioridad."
   ]
  },
  {
   "cell_type": "code",
   "execution_count": 69,
   "id": "386c09ba",
   "metadata": {},
   "outputs": [],
   "source": [
    "df = spark.read.csv('../../Datasets/segmentation data.csv',header=True, inferSchema=True)"
   ]
  },
  {
   "cell_type": "markdown",
   "id": "1099b45c",
   "metadata": {},
   "source": [
    "Lo primero es aplicar la pipeline de preprocesado"
   ]
  },
  {
   "cell_type": "code",
   "execution_count": 70,
   "id": "c114dccf",
   "metadata": {},
   "outputs": [],
   "source": [
    "pipeline_model_preprocesado = pipeline_preprocesado.fit(df)"
   ]
  },
  {
   "cell_type": "code",
   "execution_count": 71,
   "id": "84fca2a5",
   "metadata": {},
   "outputs": [],
   "source": [
    "df = pipeline_model_preprocesado.transform(df)"
   ]
  },
  {
   "cell_type": "markdown",
   "id": "e6b0aea7",
   "metadata": {},
   "source": [
    "Ahora ya estamos listo para aplicar los algoritmos de Machine Learning"
   ]
  },
  {
   "cell_type": "markdown",
   "id": "96b33a1b",
   "metadata": {},
   "source": [
    "Lo primero que debemos hacer para poder introducir los datos a los modelos de Machine Learning de MLlib es procesarlos con un transformer llamado VectorAssembler. En el introduciremos las variables, menos el target, del conjunto de datos que deseamos introducir en el algoritmo y obtendremos una única de salida que daremos a los algoritmos."
   ]
  },
  {
   "cell_type": "code",
   "execution_count": 72,
   "id": "16a31468",
   "metadata": {},
   "outputs": [],
   "source": [
    "assembler = VectorAssembler(\n",
    "    inputCols=['Sex', 'Marital status', 'Age', 'Education', 'Income', \n",
    "              'Occupation', 'Settlement size'],\n",
    "    outputCol=\"all_features\"\n",
    ")\n",
    "df = assembler.transform(df)"
   ]
  },
  {
   "cell_type": "markdown",
   "id": "489d39cd",
   "metadata": {},
   "source": [
    "1) K-means"
   ]
  },
  {
   "cell_type": "code",
   "execution_count": 73,
   "id": "f741145a",
   "metadata": {},
   "outputs": [],
   "source": [
    "km = KMeans(featuresCol = 'all_features', maxIter=40, k=5)\n",
    "Model_km = km.fit(df)"
   ]
  },
  {
   "cell_type": "code",
   "execution_count": 74,
   "id": "f29dc060",
   "metadata": {},
   "outputs": [],
   "source": [
    "prediccion = Model_km.transform(df)"
   ]
  },
  {
   "cell_type": "markdown",
   "id": "d71ac9ab",
   "metadata": {},
   "source": [
    "Así podemos ver a que clúster ha sido asignado cada observación."
   ]
  },
  {
   "cell_type": "code",
   "execution_count": 75,
   "id": "25eaba48",
   "metadata": {},
   "outputs": [
    {
     "name": "stdout",
     "output_type": "stream",
     "text": [
      "+------------+----------+\n",
      "|          ID|prediction|\n",
      "+------------+----------+\n",
      "|1.00000001E8|         2|\n",
      "|1.00000002E8|         3|\n",
      "|1.00000003E8|         4|\n",
      "|1.00000004E8|         0|\n",
      "|1.00000005E8|         3|\n",
      "|1.00000006E8|         3|\n",
      "|1.00000007E8|         0|\n",
      "|1.00000008E8|         0|\n",
      "|1.00000009E8|         3|\n",
      "| 1.0000001E8|         0|\n",
      "|1.00000011E8|         2|\n",
      "|1.00000012E8|         2|\n",
      "|1.00000013E8|         2|\n",
      "|1.00000014E8|         4|\n",
      "|1.00000015E8|         4|\n",
      "|1.00000016E8|         4|\n",
      "|1.00000017E8|         2|\n",
      "|1.00000018E8|         0|\n",
      "|1.00000019E8|         2|\n",
      "| 1.0000002E8|         3|\n",
      "+------------+----------+\n",
      "only showing top 20 rows\n",
      "\n"
     ]
    }
   ],
   "source": [
    "prediccion.select(\"ID\",\"prediction\").show()"
   ]
  },
  {
   "cell_type": "markdown",
   "id": "11211635",
   "metadata": {},
   "source": [
    "A continuación, observamos los centroides de cada clúster"
   ]
  },
  {
   "cell_type": "code",
   "execution_count": 76,
   "id": "0284e626",
   "metadata": {},
   "outputs": [
    {
     "name": "stdout",
     "output_type": "stream",
     "text": [
      "[array([3.10679612e-01, 4.90291262e-01, 4.02669903e+01, 1.00000000e+00,\n",
      "       1.71313083e+05, 1.40776699e+00, 1.27184466e+00]), array([5.38461538e-01, 4.88461538e-01, 3.15730769e+01, 1.00000000e+00,\n",
      "       6.98520923e+04, 3.84615385e-03, 1.92307692e-02]), array([4.67315716e-01, 4.89568846e-01, 3.52545202e+01, 1.00000000e+00,\n",
      "       1.16592622e+05, 9.24895688e-01, 8.20584145e-01]), array([3.20754717e-01, 4.33962264e-01, 3.79703504e+01, 1.00000000e+00,\n",
      "       1.40963210e+05, 1.12129380e+00, 1.14824798e+00]), array([5.74324324e-01, 5.67567568e-01, 3.12207207e+01, 1.00000000e+00,\n",
      "       9.61739797e+04, 5.60810811e-01, 4.39189189e-01])]\n"
     ]
    }
   ],
   "source": [
    "centers = Model_km.clusterCenters()\n",
    "print(centers)"
   ]
  },
  {
   "cell_type": "markdown",
   "id": "4a7447ba",
   "metadata": {},
   "source": [
    "2) Bisecting K-means"
   ]
  },
  {
   "cell_type": "code",
   "execution_count": 77,
   "id": "949bc9ec",
   "metadata": {},
   "outputs": [],
   "source": [
    "bkm = BisectingKMeans(featuresCol = 'all_features', maxIter=40, k=5, minDivisibleClusterSize=0.05)\n",
    "Model_bkm = bkm.fit(df)"
   ]
  },
  {
   "cell_type": "code",
   "execution_count": 78,
   "id": "5465ecfe",
   "metadata": {},
   "outputs": [],
   "source": [
    "prediccion = Model_bkm.transform(df)"
   ]
  },
  {
   "cell_type": "markdown",
   "id": "eb65c13b",
   "metadata": {},
   "source": [
    "Así podemos ver a que clúster ha sido asignado cada observación."
   ]
  },
  {
   "cell_type": "code",
   "execution_count": 79,
   "id": "bca428ae",
   "metadata": {},
   "outputs": [
    {
     "name": "stdout",
     "output_type": "stream",
     "text": [
      "+------------+----------+\n",
      "|          ID|prediction|\n",
      "+------------+----------+\n",
      "|1.00000001E8|         3|\n",
      "|1.00000002E8|         4|\n",
      "|1.00000003E8|         0|\n",
      "|1.00000004E8|         4|\n",
      "|1.00000005E8|         3|\n",
      "|1.00000006E8|         3|\n",
      "|1.00000007E8|         4|\n",
      "|1.00000008E8|         4|\n",
      "|1.00000009E8|         4|\n",
      "| 1.0000001E8|         4|\n",
      "|1.00000011E8|         2|\n",
      "|1.00000012E8|         3|\n",
      "|1.00000013E8|         2|\n",
      "|1.00000014E8|         0|\n",
      "|1.00000015E8|         1|\n",
      "|1.00000016E8|         0|\n",
      "|1.00000017E8|         3|\n",
      "|1.00000018E8|         4|\n",
      "|1.00000019E8|         2|\n",
      "| 1.0000002E8|         3|\n",
      "+------------+----------+\n",
      "only showing top 20 rows\n",
      "\n"
     ]
    }
   ],
   "source": [
    "prediccion.select(\"ID\",\"prediction\").show()"
   ]
  },
  {
   "cell_type": "markdown",
   "id": "79e88dd1",
   "metadata": {},
   "source": [
    "A continuación, observamos los centroides de cada clúster"
   ]
  },
  {
   "cell_type": "code",
   "execution_count": 80,
   "id": "d11cddee",
   "metadata": {},
   "outputs": [
    {
     "name": "stdout",
     "output_type": "stream",
     "text": [
      "[array([3.10679612e-01, 4.90291262e-01, 4.02669903e+01, 1.00000000e+00,\n",
      "       1.71313083e+05, 1.40776699e+00, 1.27184466e+00]), array([5.38461538e-01, 4.88461538e-01, 3.15730769e+01, 1.00000000e+00,\n",
      "       6.98520923e+04, 3.84615385e-03, 1.92307692e-02]), array([4.67315716e-01, 4.89568846e-01, 3.52545202e+01, 1.00000000e+00,\n",
      "       1.16592622e+05, 9.24895688e-01, 8.20584145e-01]), array([3.20754717e-01, 4.33962264e-01, 3.79703504e+01, 1.00000000e+00,\n",
      "       1.40963210e+05, 1.12129380e+00, 1.14824798e+00]), array([5.74324324e-01, 5.67567568e-01, 3.12207207e+01, 1.00000000e+00,\n",
      "       9.61739797e+04, 5.60810811e-01, 4.39189189e-01])]\n"
     ]
    }
   ],
   "source": [
    "centers = Model_km.clusterCenters()\n",
    "print(centers)"
   ]
  },
  {
   "cell_type": "markdown",
   "id": "c4629a62",
   "metadata": {},
   "source": [
    "3) Gaussian Mixture Models"
   ]
  },
  {
   "cell_type": "code",
   "execution_count": 81,
   "id": "74e81009",
   "metadata": {},
   "outputs": [
    {
     "name": "stderr",
     "output_type": "stream",
     "text": [
      "22/07/05 08:36:27 WARN LAPACK: Failed to load implementation from: com.github.fommil.netlib.NativeSystemLAPACK\n",
      "22/07/05 08:36:27 WARN LAPACK: Failed to load implementation from: com.github.fommil.netlib.NativeRefLAPACK\n"
     ]
    }
   ],
   "source": [
    "gm = GaussianMixture(featuresCol = 'all_features', maxIter=40, k=5)\n",
    "Model_gm = gm.fit(df)"
   ]
  },
  {
   "cell_type": "code",
   "execution_count": 82,
   "id": "f5782434",
   "metadata": {},
   "outputs": [],
   "source": [
    "prediccion = Model_bkm.transform(df)"
   ]
  },
  {
   "cell_type": "markdown",
   "id": "a4ba32fc",
   "metadata": {},
   "source": [
    "Así podemos ver a que clúster ha sido asignado cada observación."
   ]
  },
  {
   "cell_type": "code",
   "execution_count": 83,
   "id": "5b1c963b",
   "metadata": {},
   "outputs": [
    {
     "name": "stdout",
     "output_type": "stream",
     "text": [
      "+------------+----------+\n",
      "|          ID|prediction|\n",
      "+------------+----------+\n",
      "|1.00000001E8|         3|\n",
      "|1.00000002E8|         4|\n",
      "|1.00000003E8|         0|\n",
      "|1.00000004E8|         4|\n",
      "|1.00000005E8|         3|\n",
      "|1.00000006E8|         3|\n",
      "|1.00000007E8|         4|\n",
      "|1.00000008E8|         4|\n",
      "|1.00000009E8|         4|\n",
      "| 1.0000001E8|         4|\n",
      "|1.00000011E8|         2|\n",
      "|1.00000012E8|         3|\n",
      "|1.00000013E8|         2|\n",
      "|1.00000014E8|         0|\n",
      "|1.00000015E8|         1|\n",
      "|1.00000016E8|         0|\n",
      "|1.00000017E8|         3|\n",
      "|1.00000018E8|         4|\n",
      "|1.00000019E8|         2|\n",
      "| 1.0000002E8|         3|\n",
      "+------------+----------+\n",
      "only showing top 20 rows\n",
      "\n"
     ]
    }
   ],
   "source": [
    "prediccion.select(\"ID\",\"prediction\").show()"
   ]
  },
  {
   "cell_type": "markdown",
   "id": "e614e8fd",
   "metadata": {},
   "source": [
    "A continuación, observamos los centroides de cada clúster"
   ]
  },
  {
   "cell_type": "code",
   "execution_count": 84,
   "id": "53f5417f",
   "metadata": {},
   "outputs": [
    {
     "name": "stdout",
     "output_type": "stream",
     "text": [
      "[array([3.10679612e-01, 4.90291262e-01, 4.02669903e+01, 1.00000000e+00,\n",
      "       1.71313083e+05, 1.40776699e+00, 1.27184466e+00]), array([5.38461538e-01, 4.88461538e-01, 3.15730769e+01, 1.00000000e+00,\n",
      "       6.98520923e+04, 3.84615385e-03, 1.92307692e-02]), array([4.67315716e-01, 4.89568846e-01, 3.52545202e+01, 1.00000000e+00,\n",
      "       1.16592622e+05, 9.24895688e-01, 8.20584145e-01]), array([3.20754717e-01, 4.33962264e-01, 3.79703504e+01, 1.00000000e+00,\n",
      "       1.40963210e+05, 1.12129380e+00, 1.14824798e+00]), array([5.74324324e-01, 5.67567568e-01, 3.12207207e+01, 1.00000000e+00,\n",
      "       9.61739797e+04, 5.60810811e-01, 4.39189189e-01])]\n"
     ]
    }
   ],
   "source": [
    "centers = Model_km.clusterCenters()\n",
    "print(centers)"
   ]
  },
  {
   "cell_type": "markdown",
   "id": "c905ed90",
   "metadata": {},
   "source": [
    "4) Power Iteration Clustering"
   ]
  },
  {
   "cell_type": "markdown",
   "id": "f45e472d",
   "metadata": {},
   "source": [
    "Como las aplicaciones de este algoritmo son diferentes a las de los tres algoritmos de clustering que acabamos de ver realizaremos un ejemplo más sencillo exclusivamente para el algoritmo Power Iteration Clustering. Además, este algoritmo presenta el incoviente de que todavía no está completamente desarrollado bajo la estructura de Estimator y Transformer y por lo tanto la forma de utilizarlo es distinta."
   ]
  },
  {
   "cell_type": "code",
   "execution_count": 87,
   "id": "b64ed344",
   "metadata": {},
   "outputs": [],
   "source": [
    "datos = [(1, 0, 0.5),\n",
    "\n",
    "        (2, 0, 0.5), (2, 1, 0.7),\n",
    "\n",
    "        (3, 0, 0.5), (3, 1, 0.7), (3, 2, 0.9),\n",
    "\n",
    "        (4, 0, 0.5), (4, 1, 0.7), (4, 2, 0.9), (4, 3, 1.1),\n",
    "\n",
    "        (5, 0, 0.5), (5, 1, 0.7), (5, 2, 0.9), (5, 3, 1.1), (5, 4, 1.3)]\n",
    "#Creamos un DataFrame de Spark\n",
    "df = spark.createDataFrame(datos).toDF(\"src\", \"dst\", \"weight\")"
   ]
  },
  {
   "cell_type": "code",
   "execution_count": 88,
   "id": "6ad883f8",
   "metadata": {},
   "outputs": [
    {
     "name": "stdout",
     "output_type": "stream",
     "text": [
      "+---+-------+\n",
      "|id |cluster|\n",
      "+---+-------+\n",
      "|0  |0      |\n",
      "|1  |0      |\n",
      "|2  |0      |\n",
      "|3  |0      |\n",
      "|4  |0      |\n",
      "|5  |1      |\n",
      "+---+-------+\n",
      "\n"
     ]
    }
   ],
   "source": [
    "pic = PowerIterationClustering(k=2, weightCol=\"weight\", maxIter=20)\n",
    "# Este paso hace falta hacerlo para usar el algoritmo ya que todavía no tiene bien desarrolladas sus clases de \n",
    "# Estimator y Transformer.\n",
    "assignments = pic.assignClusters(df)\n",
    "assignments.sort(assignments.id).show(truncate=False)"
   ]
  }
 ],
 "metadata": {
  "kernelspec": {
   "display_name": "Python 3 (ipykernel)",
   "language": "python",
   "name": "python3"
  },
  "language_info": {
   "codemirror_mode": {
    "name": "ipython",
    "version": 3
   },
   "file_extension": ".py",
   "mimetype": "text/x-python",
   "name": "python",
   "nbconvert_exporter": "python",
   "pygments_lexer": "ipython3",
   "version": "3.9.7"
  }
 },
 "nbformat": 4,
 "nbformat_minor": 5
}
